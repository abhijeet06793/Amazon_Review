{
 "cells": [
  {
   "cell_type": "markdown",
   "metadata": {},
   "source": [
    "# Amazon Fine Food Reviews Analysis\n",
    "\n",
    "\n",
    "Data Source: https://www.kaggle.com/snap/amazon-fine-food-reviews \n",
    "\n",
    "\n",
    "\n",
    "The Amazon Fine Food Reviews dataset consists of reviews of fine foods from Amazon.\n",
    "\n",
    "Number of reviews: 568,454 <br>\n",
    "Number of users: 256,059 <br>\n",
    "Number of products: 74,258 <br>\n",
    "Timespan: Oct 1999 - Oct 2012 <br>\n",
    "Number of Attributes/Columns in data: 10 <br> \n",
    "\n",
    "Attribute Information:\n",
    "\n",
    "1. Id\n",
    "2. ProductId - unique identifier for the product\n",
    "3. UserId - unqiue identifier for the user\n",
    "4. ProfileName\n",
    "5. HelpfulnessNumerator - number of users who found the review helpful\n",
    "6. HelpfulnessDenominator - number of users who indicated whether they found the review helpful or not\n",
    "7. Score - rating between 1 and 5\n",
    "8. Time - timestamp for the review\n",
    "9. Summary - brief summary of the review\n",
    "10. Text - text of the review\n",
    "\n",
    "\n",
    "## Objective:\n",
    "Given a review, determine whether the review is positive (Rating of 4 or 5) or negative (rating of 1 or 2).\n",
    "\n",
    "\n",
    "Ques - How to determine if a review is positive or negative?\n",
    "\n",
    "Ans -  We could use the Score/Rating. A rating of 4 or 5 could be cosnidered a positive review. A review of 1 or 2 could be considered negative. A review of 3 is nuetral and ignored. This is an approximate and proxy way of determining the polarity (positivity/negativity) of a review.\n",
    "\n",
    "\n"
   ]
  },
  {
   "cell_type": "markdown",
   "metadata": {},
   "source": [
    "# Importing Libraries"
   ]
  },
  {
   "cell_type": "code",
   "execution_count": 1,
   "metadata": {},
   "outputs": [],
   "source": [
    "import pandas as pd\n",
    "import numpy as np\n",
    "import scipy \n",
    "import sklearn\n",
    "import matplotlib.pyplot as plt\n",
    "from sklearn.feature_extraction.text import CountVectorizer, TfidfVectorizer\n",
    "import nltk\n",
    "from nltk.stem import LancasterStemmer, PorterStemmer, WordNetLemmatizer, wordnet\n",
    "from nltk.corpus import stopwords\n",
    "import seaborn as sns\n",
    "import os\n",
    "import gensim\n",
    "import re \n",
    "import sqlite3\n",
    "from sklearn import metrics\n",
    "from sklearn.metrics import accuracy_score, roc_auc_score, auc, r2_score, confusion_matrix, classification_report\n",
    "\n",
    "from gensim.models import keyedvectors, KeyedVectors\n",
    "from gensim.models import Word2Vec, word2vec\n",
    "\n",
    "from sklearn.naive_bayes import GaussianNB, MultinomialNB\n",
    "\n",
    "from sklearn.model_selection import train_test_split\n",
    "from sklearn.model_selection import cross_val_score, RandomizedSearchCV, GridSearchCV\n",
    "import sqlalchemy\n",
    "\n",
    "\n",
    "import pyodbc #pyodbc is an open source Python module that makes accessing ODBC databases simple #https://github.com/mkleehammer/pyodbc/wiki\n",
    "#using pyodbc we can connect to any database.\n",
    "import mysql.connector"
   ]
  },
  {
   "cell_type": "code",
   "execution_count": 2,
   "metadata": {},
   "outputs": [
    {
     "data": {
      "text/plain": [
       "<sqlite3.Cursor at 0x197b6a99730>"
      ]
     },
     "execution_count": 2,
     "metadata": {},
     "output_type": "execute_result"
    }
   ],
   "source": [
    "#creating a new sqlite database- If i create a .db file also then also its a sqlite database. \n",
    "#We can manage the contents using #SQLlitestudio\n",
    "conn = sqlite3.connect(r'F:\\MySQL\\SQL Files\\Database\\amazon_review.db')  #using this command we can create a sqlite db also\n",
    "c = conn.cursor()\n",
    "\n",
    "#Create Table SQL\n",
    "create_table_sql = \"\"\"CREATE TABLE REVIEW103(\n",
    "                    Id INT PRIMARY KEY NOT NULL,\n",
    "                    ProductId TEXT,\n",
    "                    UserId TEXT,\n",
    "                    ProfileName TEXT,\n",
    "                    HelpfulnessNumerator INT,\n",
    "                    HelpfulnessDenominator INT,\n",
    "                    Score INT,\n",
    "                    TIME INT,\n",
    "                    Summary TEXT,\n",
    "                    Text TEXT)\"\"\"\n",
    "\n",
    "#CREATING TABLE IN DATABSE\n",
    "\n",
    "c.execute(create_table_sql)"
   ]
  },
  {
   "cell_type": "raw",
   "metadata": {},
   "source": [
    "#1 cursor.execute(sql [, optional parameters])- This routine executes an SQL statement. \n",
    "\n",
    "#2 connection.execute(sql [, optional parameters])- This routine is a shortcut of the above execute method provided by the cursor object and it creates an intermediate cursor object by calling the cursor method, then calls the cursor's execute method with the parameters given."
   ]
  },
  {
   "cell_type": "code",
   "execution_count": 3,
   "metadata": {},
   "outputs": [
    {
     "data": {
      "text/plain": [
       "[('REVIEWS',),\n",
       " ('REVIEW',),\n",
       " ('REVIEW2',),\n",
       " ('REVIEW3',),\n",
       " ('REVIEW4',),\n",
       " ('REVIEW5',),\n",
       " ('REVIEW6',),\n",
       " ('REVIEW7',),\n",
       " ('REVIEW8',),\n",
       " ('REVIEW9',),\n",
       " ('REVIEW10',),\n",
       " ('REVIEW11',),\n",
       " ('REVIEW12',),\n",
       " ('REVIEW13',),\n",
       " ('REVIEW14',),\n",
       " ('REVIEW15',),\n",
       " ('REVIEW16',),\n",
       " ('REVIEW101',),\n",
       " ('REVIEW102',),\n",
       " ('REVIEW103',)]"
      ]
     },
     "execution_count": 3,
     "metadata": {},
     "output_type": "execute_result"
    }
   ],
   "source": [
    "#PRINT TABLE NMAES IN DATABASE\n",
    "query = \"SELECT name FROM sqlite_master WHERE type ='table'\"\n",
    "table_names = c.execute(query)\n",
    "table_names.fetchall()"
   ]
  },
  {
   "cell_type": "code",
   "execution_count": 4,
   "metadata": {},
   "outputs": [],
   "source": [
    "#Importing the dataset\n",
    "data = pd.read_csv(r\"C:\\Users\\user-pc\\AppliedAi\\3.0\\3.1\\amazon-fine-food-reviews\\Reviews.csv\")"
   ]
  },
  {
   "cell_type": "code",
   "execution_count": 5,
   "metadata": {},
   "outputs": [],
   "source": [
    "#Insert dataframe to the sqlite database - This i need to work on "
   ]
  },
  {
   "cell_type": "code",
   "execution_count": 5,
   "metadata": {},
   "outputs": [
    {
     "name": "stdout",
     "output_type": "stream",
     "text": [
      "['REVIEW', 'REVIEW10', 'REVIEW101', 'REVIEW102', 'REVIEW103', 'REVIEW11', 'REVIEW12', 'REVIEW13', 'REVIEW14', 'REVIEW15', 'REVIEW16', 'REVIEW2', 'REVIEW3', 'REVIEW4', 'REVIEW5', 'REVIEW6', 'REVIEW7', 'REVIEW8', 'REVIEW9', 'REVIEWS']\n"
     ]
    }
   ],
   "source": [
    "####We have another method to load data in db using sqlalchemy\n",
    "\n",
    "#SQLALCHEMY - it allows us to generate SQL queries using python codes.It works on all database file. To connect to a db we need \n",
    "#to talk to it and an engine provide a common interface. To create an engine we use create_engine command\n",
    "\n",
    "engine = sqlalchemy.create_engine(r'sqlite:///F:\\MySQL\\SQL Files\\Database\\amazon_review.db') #this is only to connect to a db. we cannot create a db.\n",
    "connection = engine.connect()\n",
    "print(engine.table_names())"
   ]
  },
  {
   "cell_type": "code",
   "execution_count": 6,
   "metadata": {},
   "outputs": [],
   "source": [
    "conn = sqlite3.connect(r\"C:\\Users\\user-pc\\AppliedAi\\3.0\\3.1\\amazon-fine-food-reviews\\database.sqlite\")\n",
    "#c = conn.cursor()\n",
    "#count = c.execute(\"select count(*) from Reviews\")\n",
    "#print(count.fetchall())"
   ]
  },
  {
   "cell_type": "code",
   "execution_count": 7,
   "metadata": {},
   "outputs": [],
   "source": [
    "dataset = pd.read_sql_query(\"Select * from Reviews\", conn) #it returns dataframe"
   ]
  },
  {
   "cell_type": "code",
   "execution_count": 8,
   "metadata": {},
   "outputs": [
    {
     "data": {
      "text/html": [
       "<div>\n",
       "<style scoped>\n",
       "    .dataframe tbody tr th:only-of-type {\n",
       "        vertical-align: middle;\n",
       "    }\n",
       "\n",
       "    .dataframe tbody tr th {\n",
       "        vertical-align: top;\n",
       "    }\n",
       "\n",
       "    .dataframe thead th {\n",
       "        text-align: right;\n",
       "    }\n",
       "</style>\n",
       "<table border=\"1\" class=\"dataframe\">\n",
       "  <thead>\n",
       "    <tr style=\"text-align: right;\">\n",
       "      <th></th>\n",
       "      <th>Id</th>\n",
       "      <th>ProductId</th>\n",
       "      <th>UserId</th>\n",
       "      <th>ProfileName</th>\n",
       "      <th>HelpfulnessNumerator</th>\n",
       "      <th>HelpfulnessDenominator</th>\n",
       "      <th>Score</th>\n",
       "      <th>Time</th>\n",
       "      <th>Summary</th>\n",
       "      <th>Text</th>\n",
       "    </tr>\n",
       "  </thead>\n",
       "  <tbody>\n",
       "    <tr>\n",
       "      <th>0</th>\n",
       "      <td>1</td>\n",
       "      <td>B001E4KFG0</td>\n",
       "      <td>A3SGXH7AUHU8GW</td>\n",
       "      <td>delmartian</td>\n",
       "      <td>1</td>\n",
       "      <td>1</td>\n",
       "      <td>5</td>\n",
       "      <td>1303862400</td>\n",
       "      <td>Good Quality Dog Food</td>\n",
       "      <td>I have bought several of the Vitality canned d...</td>\n",
       "    </tr>\n",
       "    <tr>\n",
       "      <th>1</th>\n",
       "      <td>2</td>\n",
       "      <td>B00813GRG4</td>\n",
       "      <td>A1D87F6ZCVE5NK</td>\n",
       "      <td>dll pa</td>\n",
       "      <td>0</td>\n",
       "      <td>0</td>\n",
       "      <td>1</td>\n",
       "      <td>1346976000</td>\n",
       "      <td>Not as Advertised</td>\n",
       "      <td>Product arrived labeled as Jumbo Salted Peanut...</td>\n",
       "    </tr>\n",
       "    <tr>\n",
       "      <th>2</th>\n",
       "      <td>3</td>\n",
       "      <td>B000LQOCH0</td>\n",
       "      <td>ABXLMWJIXXAIN</td>\n",
       "      <td>Natalia Corres \"Natalia Corres\"</td>\n",
       "      <td>1</td>\n",
       "      <td>1</td>\n",
       "      <td>4</td>\n",
       "      <td>1219017600</td>\n",
       "      <td>\"Delight\" says it all</td>\n",
       "      <td>This is a confection that has been around a fe...</td>\n",
       "    </tr>\n",
       "    <tr>\n",
       "      <th>3</th>\n",
       "      <td>4</td>\n",
       "      <td>B000UA0QIQ</td>\n",
       "      <td>A395BORC6FGVXV</td>\n",
       "      <td>Karl</td>\n",
       "      <td>3</td>\n",
       "      <td>3</td>\n",
       "      <td>2</td>\n",
       "      <td>1307923200</td>\n",
       "      <td>Cough Medicine</td>\n",
       "      <td>If you are looking for the secret ingredient i...</td>\n",
       "    </tr>\n",
       "    <tr>\n",
       "      <th>4</th>\n",
       "      <td>5</td>\n",
       "      <td>B006K2ZZ7K</td>\n",
       "      <td>A1UQRSCLF8GW1T</td>\n",
       "      <td>Michael D. Bigham \"M. Wassir\"</td>\n",
       "      <td>0</td>\n",
       "      <td>0</td>\n",
       "      <td>5</td>\n",
       "      <td>1350777600</td>\n",
       "      <td>Great taffy</td>\n",
       "      <td>Great taffy at a great price.  There was a wid...</td>\n",
       "    </tr>\n",
       "  </tbody>\n",
       "</table>\n",
       "</div>"
      ],
      "text/plain": [
       "   Id   ProductId          UserId                      ProfileName  \\\n",
       "0   1  B001E4KFG0  A3SGXH7AUHU8GW                       delmartian   \n",
       "1   2  B00813GRG4  A1D87F6ZCVE5NK                           dll pa   \n",
       "2   3  B000LQOCH0   ABXLMWJIXXAIN  Natalia Corres \"Natalia Corres\"   \n",
       "3   4  B000UA0QIQ  A395BORC6FGVXV                             Karl   \n",
       "4   5  B006K2ZZ7K  A1UQRSCLF8GW1T    Michael D. Bigham \"M. Wassir\"   \n",
       "\n",
       "   HelpfulnessNumerator  HelpfulnessDenominator  Score        Time  \\\n",
       "0                     1                       1      5  1303862400   \n",
       "1                     0                       0      1  1346976000   \n",
       "2                     1                       1      4  1219017600   \n",
       "3                     3                       3      2  1307923200   \n",
       "4                     0                       0      5  1350777600   \n",
       "\n",
       "                 Summary                                               Text  \n",
       "0  Good Quality Dog Food  I have bought several of the Vitality canned d...  \n",
       "1      Not as Advertised  Product arrived labeled as Jumbo Salted Peanut...  \n",
       "2  \"Delight\" says it all  This is a confection that has been around a fe...  \n",
       "3         Cough Medicine  If you are looking for the secret ingredient i...  \n",
       "4            Great taffy  Great taffy at a great price.  There was a wid...  "
      ]
     },
     "execution_count": 8,
     "metadata": {},
     "output_type": "execute_result"
    }
   ],
   "source": [
    "dataset.head()"
   ]
  },
  {
   "cell_type": "markdown",
   "metadata": {},
   "source": [
    "# Basic Data Analysis"
   ]
  },
  {
   "cell_type": "code",
   "execution_count": 9,
   "metadata": {},
   "outputs": [
    {
     "name": "stdout",
     "output_type": "stream",
     "text": [
      "The shape of data is :\n",
      "(568454, 10)\n"
     ]
    }
   ],
   "source": [
    "print(\"The shape of data is :\")\n",
    "print(data.shape)"
   ]
  },
  {
   "cell_type": "code",
   "execution_count": 10,
   "metadata": {},
   "outputs": [
    {
     "name": "stdout",
     "output_type": "stream",
     "text": [
      "The count of elements in \"score\" column is \n",
      "5    363122\n",
      "4     80655\n",
      "1     52268\n",
      "3     42640\n",
      "2     29769\n",
      "Name: Score, dtype: int64\n"
     ]
    }
   ],
   "source": [
    "#The count of score in the Amazon review dataset\n",
    "print(\"The count of elements in \\\"score\\\" column is \\n{}\".format(data['Score'].value_counts()))"
   ]
  },
  {
   "cell_type": "code",
   "execution_count": 11,
   "metadata": {},
   "outputs": [
    {
     "name": "stdout",
     "output_type": "stream",
     "text": [
      "The number of null values in dataframe is:\n"
     ]
    },
    {
     "data": {
      "text/plain": [
       "Id                         0\n",
       "ProductId                  0\n",
       "UserId                     0\n",
       "ProfileName               16\n",
       "HelpfulnessNumerator       0\n",
       "HelpfulnessDenominator     0\n",
       "Score                      0\n",
       "Time                       0\n",
       "Summary                   27\n",
       "Text                       0\n",
       "dtype: int64"
      ]
     },
     "execution_count": 11,
     "metadata": {},
     "output_type": "execute_result"
    }
   ],
   "source": [
    "print(\"The number of null values in dataframe is:\")\n",
    "data.isna().sum()"
   ]
  },
  {
   "cell_type": "code",
   "execution_count": 12,
   "metadata": {},
   "outputs": [
    {
     "name": "stdout",
     "output_type": "stream",
     "text": [
      "<class 'pandas.core.frame.DataFrame'>\n",
      "RangeIndex: 568454 entries, 0 to 568453\n",
      "Data columns (total 10 columns):\n",
      " #   Column                  Non-Null Count   Dtype \n",
      "---  ------                  --------------   ----- \n",
      " 0   Id                      568454 non-null  int64 \n",
      " 1   ProductId               568454 non-null  object\n",
      " 2   UserId                  568454 non-null  object\n",
      " 3   ProfileName             568438 non-null  object\n",
      " 4   HelpfulnessNumerator    568454 non-null  int64 \n",
      " 5   HelpfulnessDenominator  568454 non-null  int64 \n",
      " 6   Score                   568454 non-null  int64 \n",
      " 7   Time                    568454 non-null  int64 \n",
      " 8   Summary                 568427 non-null  object\n",
      " 9   Text                    568454 non-null  object\n",
      "dtypes: int64(5), object(5)\n",
      "memory usage: 43.4+ MB\n"
     ]
    }
   ],
   "source": [
    "data.info()"
   ]
  },
  {
   "cell_type": "markdown",
   "metadata": {},
   "source": [
    "### Removing the data with neutral score (score = 3)"
   ]
  },
  {
   "cell_type": "code",
   "execution_count": 13,
   "metadata": {},
   "outputs": [],
   "source": [
    "#Dropping the dataset where score = 3\n",
    "reviews_data = pd.read_sql(\"Select * from Reviews where score !=3\", conn)"
   ]
  },
  {
   "cell_type": "code",
   "execution_count": 14,
   "metadata": {},
   "outputs": [
    {
     "name": "stdout",
     "output_type": "stream",
     "text": [
      "The shape of data is :\n",
      "(525814, 10)\n"
     ]
    }
   ],
   "source": [
    "print(\"The shape of data is :\")\n",
    "print(reviews_data.shape)"
   ]
  },
  {
   "cell_type": "code",
   "execution_count": 15,
   "metadata": {},
   "outputs": [
    {
     "name": "stdout",
     "output_type": "stream",
     "text": [
      "The count of elements in \"score\" column is : \n",
      "5    363122\n",
      "4     80655\n",
      "1     52268\n",
      "2     29769\n",
      "Name: Score, dtype: int64\n"
     ]
    }
   ],
   "source": [
    "#The count of score in the Amazon review dataset\n",
    "print(\"The count of elements in \\\"score\\\" column is : \\n{}\".format(reviews_data['Score'].value_counts()))"
   ]
  },
  {
   "cell_type": "code",
   "execution_count": 16,
   "metadata": {},
   "outputs": [
    {
     "name": "stdout",
     "output_type": "stream",
     "text": [
      "The number of null values in dataframe is:\n"
     ]
    },
    {
     "data": {
      "text/plain": [
       "Id                        0\n",
       "ProductId                 0\n",
       "UserId                    0\n",
       "ProfileName               0\n",
       "HelpfulnessNumerator      0\n",
       "HelpfulnessDenominator    0\n",
       "Score                     0\n",
       "Time                      0\n",
       "Summary                   0\n",
       "Text                      0\n",
       "dtype: int64"
      ]
     },
     "execution_count": 16,
     "metadata": {},
     "output_type": "execute_result"
    }
   ],
   "source": [
    "print(\"The number of null values in dataframe is:\")\n",
    "reviews_data.isna().sum()"
   ]
  },
  {
   "cell_type": "markdown",
   "metadata": {},
   "source": [
    "### Creating target variable based on score <3 = negative review (0) and score >3 = positive review (1)"
   ]
  },
  {
   "cell_type": "code",
   "execution_count": 17,
   "metadata": {},
   "outputs": [],
   "source": [
    "reviews_data[\"Score\"] = reviews_data[\"Score\"].apply(lambda x: 0 if x <3 else 1)"
   ]
  },
  {
   "cell_type": "code",
   "execution_count": 18,
   "metadata": {},
   "outputs": [
    {
     "name": "stdout",
     "output_type": "stream",
     "text": [
      "The number of pos reviews and neg reviews are :\n",
      "1    443777\n",
      "0     82037\n",
      "Name: Score, dtype: int64\n"
     ]
    },
    {
     "data": {
      "image/png": "[encoded data removed]",
      "text/plain": [
       "<Figure size 432x288 with 1 Axes>"
      ]
     },
     "metadata": {
      "needs_background": "light"
     },
     "output_type": "display_data"
    }
   ],
   "source": [
    "print(\"The number of pos reviews and neg reviews are :\")\n",
    "print(reviews_data.Score.value_counts())\n",
    "\n",
    "sns.countplot(reviews_data[\"Score\"], hue = reviews_data[\"Score\"])\n",
    "plt.xlabel(\"Pos / Neg Review\")\n",
    "plt.ylabel(\"Count of Pos / Neg Reviews\")\n",
    "plt.title(\"No of reviews belonging to each class\")\n",
    "plt.show()"
   ]
  },
  {
   "cell_type": "code",
   "execution_count": 19,
   "metadata": {},
   "outputs": [
    {
     "name": "stdout",
     "output_type": "stream",
     "text": [
      "UserId\n",
      "#oc-R115TNMSPFT9I7    2\n",
      "#oc-R11D9D7SHXIJB9    3\n",
      "#oc-R11DNU2NBKQ23Z    2\n",
      "#oc-R11O5J5ZVQE25C    3\n",
      "#oc-R12KPBODL2B5ZD    2\n",
      "                     ..\n",
      "AZZNK89PXD006         6\n",
      "AZZTH6DJ0KSIP         3\n",
      "AZZU1VEO8KUXH         3\n",
      "AZZU4D6TZ2L6J         2\n",
      "AZZV9PDNMCOZW         3\n",
      "Name: UserId, Length: 75346, dtype: int64\n"
     ]
    }
   ],
   "source": [
    "#no of times each user has given the more that one review\n",
    "review_count = (reviews_data.groupby(by = \"UserId\")[\"UserId\"].count()[reviews_data.groupby(by = \"UserId\")[\"UserId\"].count()>1])\n",
    "print(review_count)"
   ]
  },
  {
   "cell_type": "code",
   "execution_count": 20,
   "metadata": {},
   "outputs": [
    {
     "name": "stdout",
     "output_type": "stream",
     "text": [
      "The user with max review count is : UserId\n",
      "A3OXHLG6DIBRW8    425\n",
      "Name: UserId, dtype: int64\n"
     ]
    }
   ],
   "source": [
    "#User who has given max review\n",
    "print(\"The user with max review count is :\",review_count[review_count==425])"
   ]
  },
  {
   "cell_type": "code",
   "execution_count": 21,
   "metadata": {},
   "outputs": [
    {
     "data": {
      "text/html": [
       "<div>\n",
       "<style scoped>\n",
       "    .dataframe tbody tr th:only-of-type {\n",
       "        vertical-align: middle;\n",
       "    }\n",
       "\n",
       "    .dataframe tbody tr th {\n",
       "        vertical-align: top;\n",
       "    }\n",
       "\n",
       "    .dataframe thead th {\n",
       "        text-align: right;\n",
       "    }\n",
       "</style>\n",
       "<table border=\"1\" class=\"dataframe\">\n",
       "  <thead>\n",
       "    <tr style=\"text-align: right;\">\n",
       "      <th></th>\n",
       "      <th>UserId</th>\n",
       "      <th>ProductId</th>\n",
       "      <th>ProfileName</th>\n",
       "      <th>Score</th>\n",
       "      <th>Time</th>\n",
       "      <th>Summary</th>\n",
       "      <th>Text</th>\n",
       "      <th>count(UserId)</th>\n",
       "    </tr>\n",
       "  </thead>\n",
       "  <tbody>\n",
       "    <tr>\n",
       "      <th>0</th>\n",
       "      <td>#oc-R115TNMSPFT9I7</td>\n",
       "      <td>B007Y59HVM</td>\n",
       "      <td>Breyton</td>\n",
       "      <td>2</td>\n",
       "      <td>1331510400</td>\n",
       "      <td>\"Green\" K-cup packaging sacrifices flavor</td>\n",
       "      <td>Overall its just OK when considering the price...</td>\n",
       "      <td>2</td>\n",
       "    </tr>\n",
       "    <tr>\n",
       "      <th>1</th>\n",
       "      <td>#oc-R11D9D7SHXIJB9</td>\n",
       "      <td>B005HG9ET0</td>\n",
       "      <td>Louis E. Emory \"hoppy\"</td>\n",
       "      <td>5</td>\n",
       "      <td>1342396800</td>\n",
       "      <td>Muscle spasms</td>\n",
       "      <td>My wife has recurring extreme muscle spasms, u...</td>\n",
       "      <td>3</td>\n",
       "    </tr>\n",
       "    <tr>\n",
       "      <th>2</th>\n",
       "      <td>#oc-R11DNU2NBKQ23Z</td>\n",
       "      <td>B007Y59HVM</td>\n",
       "      <td>Kim Cieszykowski</td>\n",
       "      <td>1</td>\n",
       "      <td>1348531200</td>\n",
       "      <td>Terrible coffee</td>\n",
       "      <td>This coffee is horrible and unfortunately not ...</td>\n",
       "      <td>2</td>\n",
       "    </tr>\n",
       "    <tr>\n",
       "      <th>3</th>\n",
       "      <td>#oc-R11O5J5ZVQE25C</td>\n",
       "      <td>B005HG9ET0</td>\n",
       "      <td>Penguin Chick</td>\n",
       "      <td>5</td>\n",
       "      <td>1346889600</td>\n",
       "      <td>Refreshing!</td>\n",
       "      <td>This will be the bottle that you grab from the...</td>\n",
       "      <td>3</td>\n",
       "    </tr>\n",
       "    <tr>\n",
       "      <th>4</th>\n",
       "      <td>#oc-R12KPBODL2B5ZD</td>\n",
       "      <td>B007OSBE1U</td>\n",
       "      <td>Christopher P. Presta</td>\n",
       "      <td>1</td>\n",
       "      <td>1348617600</td>\n",
       "      <td>Not what I expected</td>\n",
       "      <td>I didnt like this coffee. Instead of telling y...</td>\n",
       "      <td>2</td>\n",
       "    </tr>\n",
       "  </tbody>\n",
       "</table>\n",
       "</div>"
      ],
      "text/plain": [
       "               UserId   ProductId             ProfileName  Score        Time  \\\n",
       "0  #oc-R115TNMSPFT9I7  B007Y59HVM                 Breyton      2  1331510400   \n",
       "1  #oc-R11D9D7SHXIJB9  B005HG9ET0  Louis E. Emory \"hoppy\"      5  1342396800   \n",
       "2  #oc-R11DNU2NBKQ23Z  B007Y59HVM        Kim Cieszykowski      1  1348531200   \n",
       "3  #oc-R11O5J5ZVQE25C  B005HG9ET0           Penguin Chick      5  1346889600   \n",
       "4  #oc-R12KPBODL2B5ZD  B007OSBE1U   Christopher P. Presta      1  1348617600   \n",
       "\n",
       "                                     Summary  \\\n",
       "0  \"Green\" K-cup packaging sacrifices flavor   \n",
       "1                              Muscle spasms   \n",
       "2                            Terrible coffee   \n",
       "3                                Refreshing!   \n",
       "4                        Not what I expected   \n",
       "\n",
       "                                                Text  count(UserId)  \n",
       "0  Overall its just OK when considering the price...              2  \n",
       "1  My wife has recurring extreme muscle spasms, u...              3  \n",
       "2  This coffee is horrible and unfortunately not ...              2  \n",
       "3  This will be the bottle that you grab from the...              3  \n",
       "4  I didnt like this coffee. Instead of telling y...              2  "
      ]
     },
     "execution_count": 21,
     "metadata": {},
     "output_type": "execute_result"
    }
   ],
   "source": [
    "reviews_count = pd.read_sql_query(\"Select UserId, ProductId, ProfileName, Score, Time, Summary, Text, count(UserId) from Reviews group by UserId having count(UserId)>1\", conn)\n",
    "reviews_count.head()"
   ]
  },
  {
   "cell_type": "code",
   "execution_count": 22,
   "metadata": {},
   "outputs": [
    {
     "name": "stdout",
     "output_type": "stream",
     "text": [
      "The shape of reviews_count is : (80668, 8)\n"
     ]
    }
   ],
   "source": [
    "print(\"The shape of reviews_count is :\",reviews_count.shape)"
   ]
  },
  {
   "cell_type": "code",
   "execution_count": 23,
   "metadata": {},
   "outputs": [
    {
     "data": {
      "text/html": [
       "<div>\n",
       "<style scoped>\n",
       "    .dataframe tbody tr th:only-of-type {\n",
       "        vertical-align: middle;\n",
       "    }\n",
       "\n",
       "    .dataframe tbody tr th {\n",
       "        vertical-align: top;\n",
       "    }\n",
       "\n",
       "    .dataframe thead th {\n",
       "        text-align: right;\n",
       "    }\n",
       "</style>\n",
       "<table border=\"1\" class=\"dataframe\">\n",
       "  <thead>\n",
       "    <tr style=\"text-align: right;\">\n",
       "      <th></th>\n",
       "      <th>UserId</th>\n",
       "      <th>ProductId</th>\n",
       "      <th>ProfileName</th>\n",
       "      <th>Score</th>\n",
       "      <th>Time</th>\n",
       "      <th>Summary</th>\n",
       "      <th>Text</th>\n",
       "      <th>count(UserId)</th>\n",
       "    </tr>\n",
       "  </thead>\n",
       "  <tbody>\n",
       "    <tr>\n",
       "      <th>80663</th>\n",
       "      <td>AZZNK89PXD006</td>\n",
       "      <td>B0039GMZZK</td>\n",
       "      <td>Etude</td>\n",
       "      <td>5</td>\n",
       "      <td>1269648000</td>\n",
       "      <td>Limited Edition, Unlimited Flavor!</td>\n",
       "      <td>Regular Chocolate Pocky is good on its own but...</td>\n",
       "      <td>6</td>\n",
       "    </tr>\n",
       "  </tbody>\n",
       "</table>\n",
       "</div>"
      ],
      "text/plain": [
       "              UserId   ProductId ProfileName  Score        Time  \\\n",
       "80663  AZZNK89PXD006  B0039GMZZK       Etude      5  1269648000   \n",
       "\n",
       "                                  Summary  \\\n",
       "80663  Limited Edition, Unlimited Flavor!   \n",
       "\n",
       "                                                    Text  count(UserId)  \n",
       "80663  Regular Chocolate Pocky is good on its own but...              6  "
      ]
     },
     "execution_count": 23,
     "metadata": {},
     "output_type": "execute_result"
    }
   ],
   "source": [
    "reviews_count.loc[reviews_count['UserId']==\"AZZNK89PXD006\"]"
   ]
  },
  {
   "cell_type": "markdown",
   "metadata": {},
   "source": [
    "#### #check for duplicate data"
   ]
  },
  {
   "cell_type": "code",
   "execution_count": 24,
   "metadata": {},
   "outputs": [
    {
     "data": {
      "text/plain": [
       "False    366392\n",
       "True     159422\n",
       "dtype: int64"
      ]
     },
     "execution_count": 24,
     "metadata": {},
     "output_type": "execute_result"
    }
   ],
   "source": [
    "reviews_data.duplicated(subset=['UserId','ProfileName','HelpfulnessNumerator','HelpfulnessDenominator','Score','Time','Summary','Text']).value_counts()"
   ]
  },
  {
   "cell_type": "markdown",
   "metadata": {},
   "source": [
    "#### #Dropping the duplicate data"
   ]
  },
  {
   "cell_type": "code",
   "execution_count": 25,
   "metadata": {},
   "outputs": [
    {
     "name": "stdout",
     "output_type": "stream",
     "text": [
      "The number of O and 1 data are :\n"
     ]
    },
    {
     "data": {
      "text/plain": [
       "1    308681\n",
       "0     57711\n",
       "Name: Score, dtype: int64"
      ]
     },
     "execution_count": 25,
     "metadata": {},
     "output_type": "execute_result"
    }
   ],
   "source": [
    "reviews_data.drop_duplicates(subset=['UserId','ProfileName','HelpfulnessNumerator','HelpfulnessDenominator','Score','Time','Summary','Text']\\\n",
    "                            , keep=\"first\", inplace= True)\n",
    "\n",
    "print(\"The number of O and 1 data are :\")\n",
    "reviews_data.Score.value_counts()"
   ]
  },
  {
   "cell_type": "markdown",
   "metadata": {},
   "source": [
    "#### #Check for the data where Helpfullness numerator > Helpfullness denominator. If it exists then its absurd data"
   ]
  },
  {
   "cell_type": "code",
   "execution_count": 26,
   "metadata": {},
   "outputs": [
    {
     "name": "stdout",
     "output_type": "stream",
     "text": [
      "The no of datapoints where where Helpfullness numerator > Helpfullness denominator : \n",
      "False    366390\n",
      "True          2\n",
      "dtype: int64\n"
     ]
    },
    {
     "data": {
      "text/html": [
       "<div>\n",
       "<style scoped>\n",
       "    .dataframe tbody tr th:only-of-type {\n",
       "        vertical-align: middle;\n",
       "    }\n",
       "\n",
       "    .dataframe tbody tr th {\n",
       "        vertical-align: top;\n",
       "    }\n",
       "\n",
       "    .dataframe thead th {\n",
       "        text-align: right;\n",
       "    }\n",
       "</style>\n",
       "<table border=\"1\" class=\"dataframe\">\n",
       "  <thead>\n",
       "    <tr style=\"text-align: right;\">\n",
       "      <th></th>\n",
       "      <th>Id</th>\n",
       "      <th>ProductId</th>\n",
       "      <th>UserId</th>\n",
       "      <th>ProfileName</th>\n",
       "      <th>HelpfulnessNumerator</th>\n",
       "      <th>HelpfulnessDenominator</th>\n",
       "      <th>Score</th>\n",
       "      <th>Time</th>\n",
       "      <th>Summary</th>\n",
       "      <th>Text</th>\n",
       "    </tr>\n",
       "  </thead>\n",
       "  <tbody>\n",
       "    <tr>\n",
       "      <th>41159</th>\n",
       "      <td>44737</td>\n",
       "      <td>B001EQ55RW</td>\n",
       "      <td>A2V0I904FH7ABY</td>\n",
       "      <td>Ram</td>\n",
       "      <td>3</td>\n",
       "      <td>2</td>\n",
       "      <td>1</td>\n",
       "      <td>1212883200</td>\n",
       "      <td>Pure cocoa taste with crunchy almonds inside</td>\n",
       "      <td>It was almost a 'love at first bite' - the per...</td>\n",
       "    </tr>\n",
       "    <tr>\n",
       "      <th>59301</th>\n",
       "      <td>64422</td>\n",
       "      <td>B000MIDROQ</td>\n",
       "      <td>A161DK06JJMCYF</td>\n",
       "      <td>J. E. Stephens \"Jeanne\"</td>\n",
       "      <td>3</td>\n",
       "      <td>1</td>\n",
       "      <td>1</td>\n",
       "      <td>1224892800</td>\n",
       "      <td>Bought This for My Son at College</td>\n",
       "      <td>My son loves spaghetti so I didn't hesitate or...</td>\n",
       "    </tr>\n",
       "  </tbody>\n",
       "</table>\n",
       "</div>"
      ],
      "text/plain": [
       "          Id   ProductId          UserId              ProfileName  \\\n",
       "41159  44737  B001EQ55RW  A2V0I904FH7ABY                      Ram   \n",
       "59301  64422  B000MIDROQ  A161DK06JJMCYF  J. E. Stephens \"Jeanne\"   \n",
       "\n",
       "       HelpfulnessNumerator  HelpfulnessDenominator  Score        Time  \\\n",
       "41159                     3                       2      1  1212883200   \n",
       "59301                     3                       1      1  1224892800   \n",
       "\n",
       "                                            Summary  \\\n",
       "41159  Pure cocoa taste with crunchy almonds inside   \n",
       "59301             Bought This for My Son at College   \n",
       "\n",
       "                                                    Text  \n",
       "41159  It was almost a 'love at first bite' - the per...  \n",
       "59301  My son loves spaghetti so I didn't hesitate or...  "
      ]
     },
     "execution_count": 26,
     "metadata": {},
     "output_type": "execute_result"
    }
   ],
   "source": [
    "print(\"The no of datapoints where where Helpfullness numerator > Helpfullness denominator : \")\n",
    "print((reviews_data['HelpfulnessNumerator']>reviews_data['HelpfulnessDenominator']).value_counts())\n",
    "\n",
    "reviews_data.loc[(reviews_data['HelpfulnessNumerator'] > reviews_data['HelpfulnessDenominator'])]"
   ]
  },
  {
   "cell_type": "markdown",
   "metadata": {},
   "source": [
    "#### #Dropping the rows with Helpfullness numerator > Helpfullness denominator"
   ]
  },
  {
   "cell_type": "code",
   "execution_count": 27,
   "metadata": {},
   "outputs": [],
   "source": [
    "reviews_data.drop(index=[41159, 59301], axis=0, inplace=True)"
   ]
  },
  {
   "cell_type": "code",
   "execution_count": 28,
   "metadata": {},
   "outputs": [
    {
     "name": "stdout",
     "output_type": "stream",
     "text": [
      "The actual shape of the reviews data is: (366390, 10)\n"
     ]
    }
   ],
   "source": [
    "print(\"The actual shape of the reviews data is:\",reviews_data.shape)"
   ]
  },
  {
   "cell_type": "code",
   "execution_count": 29,
   "metadata": {},
   "outputs": [
    {
     "data": {
      "text/html": [
       "<div>\n",
       "<style scoped>\n",
       "    .dataframe tbody tr th:only-of-type {\n",
       "        vertical-align: middle;\n",
       "    }\n",
       "\n",
       "    .dataframe tbody tr th {\n",
       "        vertical-align: top;\n",
       "    }\n",
       "\n",
       "    .dataframe thead th {\n",
       "        text-align: right;\n",
       "    }\n",
       "</style>\n",
       "<table border=\"1\" class=\"dataframe\">\n",
       "  <thead>\n",
       "    <tr style=\"text-align: right;\">\n",
       "      <th></th>\n",
       "      <th>Id</th>\n",
       "      <th>ProductId</th>\n",
       "      <th>UserId</th>\n",
       "      <th>ProfileName</th>\n",
       "      <th>HelpfulnessNumerator</th>\n",
       "      <th>HelpfulnessDenominator</th>\n",
       "      <th>Score</th>\n",
       "      <th>Time</th>\n",
       "      <th>Summary</th>\n",
       "      <th>Text</th>\n",
       "    </tr>\n",
       "  </thead>\n",
       "  <tbody>\n",
       "    <tr>\n",
       "      <th>0</th>\n",
       "      <td>1</td>\n",
       "      <td>B001E4KFG0</td>\n",
       "      <td>A3SGXH7AUHU8GW</td>\n",
       "      <td>delmartian</td>\n",
       "      <td>1</td>\n",
       "      <td>1</td>\n",
       "      <td>positive</td>\n",
       "      <td>1303862400</td>\n",
       "      <td>Good Quality Dog Food</td>\n",
       "      <td>I have bought several of the Vitality canned d...</td>\n",
       "    </tr>\n",
       "    <tr>\n",
       "      <th>1</th>\n",
       "      <td>2</td>\n",
       "      <td>B00813GRG4</td>\n",
       "      <td>A1D87F6ZCVE5NK</td>\n",
       "      <td>dll pa</td>\n",
       "      <td>0</td>\n",
       "      <td>0</td>\n",
       "      <td>negative</td>\n",
       "      <td>1346976000</td>\n",
       "      <td>Not as Advertised</td>\n",
       "      <td>Product arrived labeled as Jumbo Salted Peanut...</td>\n",
       "    </tr>\n",
       "    <tr>\n",
       "      <th>2</th>\n",
       "      <td>3</td>\n",
       "      <td>B000LQOCH0</td>\n",
       "      <td>ABXLMWJIXXAIN</td>\n",
       "      <td>Natalia Corres \"Natalia Corres\"</td>\n",
       "      <td>1</td>\n",
       "      <td>1</td>\n",
       "      <td>positive</td>\n",
       "      <td>1219017600</td>\n",
       "      <td>\"Delight\" says it all</td>\n",
       "      <td>This is a confection that has been around a fe...</td>\n",
       "    </tr>\n",
       "    <tr>\n",
       "      <th>3</th>\n",
       "      <td>4</td>\n",
       "      <td>B000UA0QIQ</td>\n",
       "      <td>A395BORC6FGVXV</td>\n",
       "      <td>Karl</td>\n",
       "      <td>3</td>\n",
       "      <td>3</td>\n",
       "      <td>negative</td>\n",
       "      <td>1307923200</td>\n",
       "      <td>Cough Medicine</td>\n",
       "      <td>If you are looking for the secret ingredient i...</td>\n",
       "    </tr>\n",
       "    <tr>\n",
       "      <th>4</th>\n",
       "      <td>5</td>\n",
       "      <td>B006K2ZZ7K</td>\n",
       "      <td>A1UQRSCLF8GW1T</td>\n",
       "      <td>Michael D. Bigham \"M. Wassir\"</td>\n",
       "      <td>0</td>\n",
       "      <td>0</td>\n",
       "      <td>positive</td>\n",
       "      <td>1350777600</td>\n",
       "      <td>Great taffy</td>\n",
       "      <td>Great taffy at a great price.  There was a wid...</td>\n",
       "    </tr>\n",
       "  </tbody>\n",
       "</table>\n",
       "</div>"
      ],
      "text/plain": [
       "   Id   ProductId          UserId                      ProfileName  \\\n",
       "0   1  B001E4KFG0  A3SGXH7AUHU8GW                       delmartian   \n",
       "1   2  B00813GRG4  A1D87F6ZCVE5NK                           dll pa   \n",
       "2   3  B000LQOCH0   ABXLMWJIXXAIN  Natalia Corres \"Natalia Corres\"   \n",
       "3   4  B000UA0QIQ  A395BORC6FGVXV                             Karl   \n",
       "4   5  B006K2ZZ7K  A1UQRSCLF8GW1T    Michael D. Bigham \"M. Wassir\"   \n",
       "\n",
       "   HelpfulnessNumerator  HelpfulnessDenominator     Score        Time  \\\n",
       "0                     1                       1  positive  1303862400   \n",
       "1                     0                       0  negative  1346976000   \n",
       "2                     1                       1  positive  1219017600   \n",
       "3                     3                       3  negative  1307923200   \n",
       "4                     0                       0  positive  1350777600   \n",
       "\n",
       "                 Summary                                               Text  \n",
       "0  Good Quality Dog Food  I have bought several of the Vitality canned d...  \n",
       "1      Not as Advertised  Product arrived labeled as Jumbo Salted Peanut...  \n",
       "2  \"Delight\" says it all  This is a confection that has been around a fe...  \n",
       "3         Cough Medicine  If you are looking for the secret ingredient i...  \n",
       "4            Great taffy  Great taffy at a great price.  There was a wid...  "
      ]
     },
     "execution_count": 29,
     "metadata": {},
     "output_type": "execute_result"
    }
   ],
   "source": [
    "reviews_data[\"Score\"].replace(to_replace=[0,1], value=[\"negative\", \"positive\"], inplace=True)\n",
    "reviews_data.head()"
   ]
  },
  {
   "cell_type": "markdown",
   "metadata": {},
   "source": [
    "# Feature Engineering"
   ]
  },
  {
   "cell_type": "markdown",
   "metadata": {},
   "source": [
    "### 1. Making a column with word count - Summary count and Text Count"
   ]
  },
  {
   "cell_type": "code",
   "execution_count": 30,
   "metadata": {},
   "outputs": [],
   "source": [
    "#Summary Count\n",
    "reviews_data['Summary_count'] = reviews_data['Summary'].apply(lambda x : len(x.split()))\n",
    "\n",
    "#Text Count\n",
    "reviews_data['Text_count'] = reviews_data['Text'].apply(lambda x : len(x.split()))"
   ]
  },
  {
   "cell_type": "markdown",
   "metadata": {},
   "source": [
    "### 2. Making a column with length - Summary length and Text length"
   ]
  },
  {
   "cell_type": "code",
   "execution_count": 31,
   "metadata": {},
   "outputs": [],
   "source": [
    "#Summary length\n",
    "reviews_data['Summary_length'] = reviews_data['Summary'].apply(lambda x : len(x))\n",
    "\n",
    "#Text length\n",
    "reviews_data['Text_length'] = reviews_data['Text'].apply(lambda x : len(x))"
   ]
  },
  {
   "cell_type": "markdown",
   "metadata": {},
   "source": [
    "### 3. Making a new column - \"Comment\" combining Text and Summary "
   ]
  },
  {
   "cell_type": "code",
   "execution_count": 32,
   "metadata": {},
   "outputs": [],
   "source": [
    "#New column - \"Comment\"\n",
    "reviews_data['Comment'] = reviews_data['Summary'] + \" \"+ reviews_data['Text']"
   ]
  },
  {
   "cell_type": "code",
   "execution_count": 33,
   "metadata": {},
   "outputs": [
    {
     "data": {
      "text/html": [
       "<div>\n",
       "<style scoped>\n",
       "    .dataframe tbody tr th:only-of-type {\n",
       "        vertical-align: middle;\n",
       "    }\n",
       "\n",
       "    .dataframe tbody tr th {\n",
       "        vertical-align: top;\n",
       "    }\n",
       "\n",
       "    .dataframe thead th {\n",
       "        text-align: right;\n",
       "    }\n",
       "</style>\n",
       "<table border=\"1\" class=\"dataframe\">\n",
       "  <thead>\n",
       "    <tr style=\"text-align: right;\">\n",
       "      <th></th>\n",
       "      <th>Id</th>\n",
       "      <th>ProductId</th>\n",
       "      <th>UserId</th>\n",
       "      <th>ProfileName</th>\n",
       "      <th>HelpfulnessNumerator</th>\n",
       "      <th>HelpfulnessDenominator</th>\n",
       "      <th>Score</th>\n",
       "      <th>Time</th>\n",
       "      <th>Summary</th>\n",
       "      <th>Text</th>\n",
       "      <th>Summary_count</th>\n",
       "      <th>Text_count</th>\n",
       "      <th>Summary_length</th>\n",
       "      <th>Text_length</th>\n",
       "      <th>Comment</th>\n",
       "      <th>Comment_count</th>\n",
       "      <th>Comment_length</th>\n",
       "    </tr>\n",
       "  </thead>\n",
       "  <tbody>\n",
       "    <tr>\n",
       "      <th>0</th>\n",
       "      <td>1</td>\n",
       "      <td>B001E4KFG0</td>\n",
       "      <td>A3SGXH7AUHU8GW</td>\n",
       "      <td>delmartian</td>\n",
       "      <td>1</td>\n",
       "      <td>1</td>\n",
       "      <td>positive</td>\n",
       "      <td>1303862400</td>\n",
       "      <td>Good Quality Dog Food</td>\n",
       "      <td>I have bought several of the Vitality canned d...</td>\n",
       "      <td>4</td>\n",
       "      <td>48</td>\n",
       "      <td>21</td>\n",
       "      <td>263</td>\n",
       "      <td>Good Quality Dog Food I have bought several of...</td>\n",
       "      <td>52</td>\n",
       "      <td>285</td>\n",
       "    </tr>\n",
       "    <tr>\n",
       "      <th>1</th>\n",
       "      <td>2</td>\n",
       "      <td>B00813GRG4</td>\n",
       "      <td>A1D87F6ZCVE5NK</td>\n",
       "      <td>dll pa</td>\n",
       "      <td>0</td>\n",
       "      <td>0</td>\n",
       "      <td>negative</td>\n",
       "      <td>1346976000</td>\n",
       "      <td>Not as Advertised</td>\n",
       "      <td>Product arrived labeled as Jumbo Salted Peanut...</td>\n",
       "      <td>3</td>\n",
       "      <td>31</td>\n",
       "      <td>17</td>\n",
       "      <td>190</td>\n",
       "      <td>Not as Advertised Product arrived labeled as J...</td>\n",
       "      <td>34</td>\n",
       "      <td>208</td>\n",
       "    </tr>\n",
       "    <tr>\n",
       "      <th>2</th>\n",
       "      <td>3</td>\n",
       "      <td>B000LQOCH0</td>\n",
       "      <td>ABXLMWJIXXAIN</td>\n",
       "      <td>Natalia Corres \"Natalia Corres\"</td>\n",
       "      <td>1</td>\n",
       "      <td>1</td>\n",
       "      <td>positive</td>\n",
       "      <td>1219017600</td>\n",
       "      <td>\"Delight\" says it all</td>\n",
       "      <td>This is a confection that has been around a fe...</td>\n",
       "      <td>4</td>\n",
       "      <td>94</td>\n",
       "      <td>21</td>\n",
       "      <td>509</td>\n",
       "      <td>\"Delight\" says it all This is a confection tha...</td>\n",
       "      <td>98</td>\n",
       "      <td>531</td>\n",
       "    </tr>\n",
       "    <tr>\n",
       "      <th>3</th>\n",
       "      <td>4</td>\n",
       "      <td>B000UA0QIQ</td>\n",
       "      <td>A395BORC6FGVXV</td>\n",
       "      <td>Karl</td>\n",
       "      <td>3</td>\n",
       "      <td>3</td>\n",
       "      <td>negative</td>\n",
       "      <td>1307923200</td>\n",
       "      <td>Cough Medicine</td>\n",
       "      <td>If you are looking for the secret ingredient i...</td>\n",
       "      <td>2</td>\n",
       "      <td>41</td>\n",
       "      <td>14</td>\n",
       "      <td>219</td>\n",
       "      <td>Cough Medicine If you are looking for the secr...</td>\n",
       "      <td>43</td>\n",
       "      <td>234</td>\n",
       "    </tr>\n",
       "    <tr>\n",
       "      <th>4</th>\n",
       "      <td>5</td>\n",
       "      <td>B006K2ZZ7K</td>\n",
       "      <td>A1UQRSCLF8GW1T</td>\n",
       "      <td>Michael D. Bigham \"M. Wassir\"</td>\n",
       "      <td>0</td>\n",
       "      <td>0</td>\n",
       "      <td>positive</td>\n",
       "      <td>1350777600</td>\n",
       "      <td>Great taffy</td>\n",
       "      <td>Great taffy at a great price.  There was a wid...</td>\n",
       "      <td>2</td>\n",
       "      <td>27</td>\n",
       "      <td>11</td>\n",
       "      <td>140</td>\n",
       "      <td>Great taffy Great taffy at a great price.  The...</td>\n",
       "      <td>29</td>\n",
       "      <td>152</td>\n",
       "    </tr>\n",
       "  </tbody>\n",
       "</table>\n",
       "</div>"
      ],
      "text/plain": [
       "   Id   ProductId          UserId                      ProfileName  \\\n",
       "0   1  B001E4KFG0  A3SGXH7AUHU8GW                       delmartian   \n",
       "1   2  B00813GRG4  A1D87F6ZCVE5NK                           dll pa   \n",
       "2   3  B000LQOCH0   ABXLMWJIXXAIN  Natalia Corres \"Natalia Corres\"   \n",
       "3   4  B000UA0QIQ  A395BORC6FGVXV                             Karl   \n",
       "4   5  B006K2ZZ7K  A1UQRSCLF8GW1T    Michael D. Bigham \"M. Wassir\"   \n",
       "\n",
       "   HelpfulnessNumerator  HelpfulnessDenominator     Score        Time  \\\n",
       "0                     1                       1  positive  1303862400   \n",
       "1                     0                       0  negative  1346976000   \n",
       "2                     1                       1  positive  1219017600   \n",
       "3                     3                       3  negative  1307923200   \n",
       "4                     0                       0  positive  1350777600   \n",
       "\n",
       "                 Summary                                               Text  \\\n",
       "0  Good Quality Dog Food  I have bought several of the Vitality canned d...   \n",
       "1      Not as Advertised  Product arrived labeled as Jumbo Salted Peanut...   \n",
       "2  \"Delight\" says it all  This is a confection that has been around a fe...   \n",
       "3         Cough Medicine  If you are looking for the secret ingredient i...   \n",
       "4            Great taffy  Great taffy at a great price.  There was a wid...   \n",
       "\n",
       "   Summary_count  Text_count  Summary_length  Text_length  \\\n",
       "0              4          48              21          263   \n",
       "1              3          31              17          190   \n",
       "2              4          94              21          509   \n",
       "3              2          41              14          219   \n",
       "4              2          27              11          140   \n",
       "\n",
       "                                             Comment  Comment_count  \\\n",
       "0  Good Quality Dog Food I have bought several of...             52   \n",
       "1  Not as Advertised Product arrived labeled as J...             34   \n",
       "2  \"Delight\" says it all This is a confection tha...             98   \n",
       "3  Cough Medicine If you are looking for the secr...             43   \n",
       "4  Great taffy Great taffy at a great price.  The...             29   \n",
       "\n",
       "   Comment_length  \n",
       "0             285  \n",
       "1             208  \n",
       "2             531  \n",
       "3             234  \n",
       "4             152  "
      ]
     },
     "execution_count": 33,
     "metadata": {},
     "output_type": "execute_result"
    }
   ],
   "source": [
    "#Comment count\n",
    "reviews_data['Comment_count'] = reviews_data['Comment'].apply(lambda x : len(x.split()))\n",
    "\n",
    "#Comment length\n",
    "reviews_data['Comment_length'] = reviews_data['Comment'].apply(lambda x : len(x))\n",
    "\n",
    "reviews_data.head()"
   ]
  },
  {
   "cell_type": "markdown",
   "metadata": {},
   "source": [
    "#### Splitting the dataset - 50000 pos review data and 50000 neg review data for training and testing purpose."
   ]
  },
  {
   "cell_type": "code",
   "execution_count": 35,
   "metadata": {},
   "outputs": [
    {
     "name": "stdout",
     "output_type": "stream",
     "text": [
      "The shape of positive review data is:\n",
      "(308679, 17)\n",
      "\n",
      "\n",
      "The shape of negative review data is:\n",
      "(57711, 17)\n"
     ]
    }
   ],
   "source": [
    "# Positive and Negative reviewed Data\n",
    "\n",
    "reviews_data_pos = reviews_data.loc[reviews_data['Score']== \"positive\"]\n",
    "reviews_data_neg = reviews_data.loc[reviews_data['Score']== \"negative\"]\n",
    "\n",
    "print(\"The shape of positive review data is:\")\n",
    "print(reviews_data_pos.shape)\n",
    "\n",
    "print(\"\\n\")\n",
    "\n",
    "print(\"The shape of negative review data is:\")\n",
    "print(reviews_data_neg.shape)"
   ]
  },
  {
   "cell_type": "code",
   "execution_count": 36,
   "metadata": {},
   "outputs": [
    {
     "name": "stdout",
     "output_type": "stream",
     "text": [
      "The shape of data that is used for modelling is (100000, 17)\n",
      "\n",
      "\n",
      "The shape of data that is used for testing is (266389, 17)\n"
     ]
    }
   ],
   "source": [
    "# Data to be used for model building purpose is - data_train and data_test will be used for testing purpose.\n",
    "\n",
    "data_train = pd.concat([reviews_data_pos[0:50000], reviews_data_neg[0:50000]], ignore_index=True)\n",
    "print(\"The shape of data that is used for modelling is\",data_train.shape)\n",
    "\n",
    "print(\"\\n\")\n",
    "\n",
    "data_test = pd.concat([reviews_data_pos[50001:], reviews_data_neg[50000:]], ignore_index=True)\n",
    "print(\"The shape of data that is used for testing is\",data_test.shape)"
   ]
  },
  {
   "cell_type": "markdown",
   "metadata": {},
   "source": [
    "# Text processing\n",
    "\n",
    "##### 1. Removing HTML tags\n",
    "##### 2. Removing HTTP links\n",
    "##### 3. Lowering of sentence\n",
    "##### 4. Removing stopwords\n",
    "##### 5. Revoming puncuations\n",
    "##### 6. Removing words less the 3 characters\n",
    "##### 7. Removing Alphanumeric and numeric characters. \n",
    "##### 8. Applying Lemmatization\n",
    "##### 9. Applying stemming\n"
   ]
  },
  {
   "cell_type": "markdown",
   "metadata": {},
   "source": [
    "### #Checking if HTML tags and HTTP links are present or not "
   ]
  },
  {
   "cell_type": "code",
   "execution_count": 37,
   "metadata": {},
   "outputs": [
    {
     "name": "stdout",
     "output_type": "stream",
     "text": [
      "The count of comments which has HTML tags are : \n",
      "No     73180\n",
      "Yes    26820\n",
      "Name: Comment, dtype: int64\n",
      "\n",
      "\n",
      "The count of comments which has HTTP link are : \n"
     ]
    },
    {
     "data": {
      "text/plain": [
       "No     98004\n",
       "Yes     1996\n",
       "Name: Comment, dtype: int64"
      ]
     },
     "execution_count": 37,
     "metadata": {},
     "output_type": "execute_result"
    }
   ],
   "source": [
    "#Checking how many has HTML TAG\n",
    "print(\"The count of comments which has HTML tags are : \")\n",
    "print((data_train[\"Comment\"].apply(lambda x: \"Yes\" if bool(re.search(r\"<.{2,4}>\", x))==True else \"No\")).value_counts())\n",
    "\n",
    "print(\"\\n\")\n",
    "\n",
    "#Checking how many comment has HTTP link\n",
    "print(\"The count of comments which has HTTP link are : \")\n",
    "(data_train[\"Comment\"].apply(lambda x: \"Yes\" if bool(re.search(r\"http://\", x))==True else \"No\")).value_counts()"
   ]
  },
  {
   "cell_type": "markdown",
   "metadata": {},
   "source": [
    "#### Rows with html tag = \"Yes\"- where html tag is present"
   ]
  },
  {
   "cell_type": "code",
   "execution_count": 38,
   "metadata": {},
   "outputs": [
    {
     "data": {
      "text/plain": [
       "8     Yes\n",
       "14    Yes\n",
       "17    Yes\n",
       "20    Yes\n",
       "21    Yes\n",
       "Name: Comment, dtype: object"
      ]
     },
     "execution_count": 38,
     "metadata": {},
     "output_type": "execute_result"
    }
   ],
   "source": [
    "html_tag = (data_train[\"Comment\"].apply(lambda x: \"Yes\" if bool(re.search(r\"<.{2,4}>\", x))==True else \"No\"))\n",
    "html_tag[html_tag==\"Yes\"].head()"
   ]
  },
  {
   "cell_type": "code",
   "execution_count": 40,
   "metadata": {},
   "outputs": [
    {
     "data": {
      "text/plain": [
       "\"The Best Hot Sauce in the World I don't know if it's the cactus or the tequila or just the unique combination of ingredients, but the flavour of this hot sauce makes it one of a kind!  We picked up a bottle once on a trip we were on and brought it back home with us and were totally blown away!  When we realized that we simply couldn't find it anywhere in our city we were bummed.<br /><br />Now, because of the magic of the internet, we have a case of the sauce and are ecstatic because of it.<br /><br />If you love hot sauce..I mean really love hot sauce, but don't want a sauce that tastelessly burns your throat, grab a bottle of Tequila Picante Gourmet de Inclan.  Just realize that once you taste it, you will never want to use any other sauce.<br /><br />Thank you for the personal, incredible service!\""
      ]
     },
     "execution_count": 40,
     "metadata": {},
     "output_type": "execute_result"
    }
   ],
   "source": [
    "#An example of Comment that has an html tag present\n",
    "data_train.iloc[8]['Comment']"
   ]
  },
  {
   "cell_type": "code",
   "execution_count": 41,
   "metadata": {},
   "outputs": [
    {
     "data": {
      "text/plain": [
       "\"The Best Hot Sauce in the World I don't know if it's the cactus or the tequila or just the unique combination of ingredients, but the flavour of this hot sauce makes it one of a kind!  We picked up a bottle once on a trip we were on and brought it back home with us and were totally blown away!  When we realized that we simply couldn't find it anywhere in our city we were bummed.Now, because of the magic of the internet, we have a case of the sauce and are ecstatic because of it.If you love hot sauce..I mean really love hot sauce, but don't want a sauce that tastelessly burns your throat, grab a bottle of Tequila Picante Gourmet de Inclan.  Just realize that once you taste it, you will never want to use any other sauce.Thank you for the personal, incredible service!\""
      ]
     },
     "execution_count": 41,
     "metadata": {},
     "output_type": "execute_result"
    }
   ],
   "source": [
    "re.sub(r'<.{2,4}>', \"\", data_train.iloc[8]['Comment'])"
   ]
  },
  {
   "cell_type": "markdown",
   "metadata": {},
   "source": [
    "### #Checking if HTTP link are present or not "
   ]
  },
  {
   "cell_type": "code",
   "execution_count": 42,
   "metadata": {},
   "outputs": [
    {
     "name": "stdout",
     "output_type": "stream",
     "text": [
      "The count of comments which has HTTP links are : \n",
      "No     98004\n",
      "Yes     1996\n",
      "Name: Comment, dtype: int64\n"
     ]
    }
   ],
   "source": [
    "print(\"The count of comments which has HTTP links are : \")\n",
    "print((data_train[\"Comment\"].apply(lambda x: \"Yes\" if bool(re.search(r\"https|http\", x))==True else \"No\")).value_counts())"
   ]
  },
  {
   "cell_type": "markdown",
   "metadata": {},
   "source": [
    "#### Rows with http link = \"Yes\"- where http link is present"
   ]
  },
  {
   "cell_type": "code",
   "execution_count": 43,
   "metadata": {},
   "outputs": [
    {
     "data": {
      "text/plain": [
       "17     Yes\n",
       "21     Yes\n",
       "33     Yes\n",
       "273    Yes\n",
       "293    Yes\n",
       "Name: Comment, dtype: object"
      ]
     },
     "execution_count": 43,
     "metadata": {},
     "output_type": "execute_result"
    }
   ],
   "source": [
    "http_link_present = (data_train[\"Comment\"].apply(lambda x: \"Yes\" if bool(re.search(r\"https|http\", x))==True else \"No\"))\n",
    "http_link_present[http_link_present==\"Yes\"].head()"
   ]
  },
  {
   "cell_type": "code",
   "execution_count": 44,
   "metadata": {},
   "outputs": [
    {
     "data": {
      "text/plain": [
       "'TWIZZLERS I bought these for my husband who is currently overseas. He loves these, and apparently his staff likes them also.<br />There are generous amounts of Twizzlers in each 16-ounce bag, and this was well worth the price. <a href=\"http://www.amazon.com/gp/product/B001GVISJM\">Twizzlers, Strawberry, 16-Ounce Bags (Pack of 6)</a>'"
      ]
     },
     "execution_count": 44,
     "metadata": {},
     "output_type": "execute_result"
    }
   ],
   "source": [
    "#An example of Comment that has an http link present\n",
    "data_train.iloc[17]['Comment']"
   ]
  },
  {
   "cell_type": "code",
   "execution_count": 45,
   "metadata": {},
   "outputs": [
    {
     "name": "stdout",
     "output_type": "stream",
     "text": [
      "http://www.amazon.com/gp/product/B001GVISJM\n"
     ]
    },
    {
     "data": {
      "text/plain": [
       "'TWIZZLERS I bought these for my husband who is currently overseas. He loves these, and apparently his staff likes them also.There are generous amounts of Twizzlers in each 16-ounce bag, and this was well worth the price. Twizzlers, Strawberry, 16-Ounce Bags (Pack of 6)'"
      ]
     },
     "execution_count": 45,
     "metadata": {},
     "output_type": "execute_result"
    }
   ],
   "source": [
    "#Removing http link using Beautiful soup\n",
    "from bs4 import BeautifulSoup\n",
    "soup = BeautifulSoup(data_train.iloc[17]['Comment'], \"html.parser\")\n",
    "print(soup.find(\"a\")['href'])\n",
    "soup.get_text()"
   ]
  },
  {
   "cell_type": "markdown",
   "metadata": {},
   "source": [
    "## Processing of Text"
   ]
  },
  {
   "cell_type": "markdown",
   "metadata": {},
   "source": [
    "#### Removing http link and html tags"
   ]
  },
  {
   "cell_type": "raw",
   "metadata": {},
   "source": [
    "#HTTP link and HTML tag removal - First level of preprocesing text\n",
    "from tqdm import tqdm\n",
    "from bs4 import BeautifulSoup\n",
    "processed_text_level1 = []\n",
    "for review in tqdm(data_train[\"Comment\"]):\n",
    "    review = re.sub(r'<.{2,4}>', \"\", review)\n",
    "    soup = BeautifulSoup(review, \"html.parser\")\n",
    "    review = soup.get_text()\n",
    "    processed_text_level1.append(review)"
   ]
  },
  {
   "cell_type": "markdown",
   "metadata": {},
   "source": [
    "#### Lowercase and Removing Stopwords"
   ]
  },
  {
   "cell_type": "raw",
   "metadata": {},
   "source": [
    "#Lowercase and removing Stopwords from processed review - ###This piece of code is excecuted and commented and list is saved.\n",
    "#This code lowers each review and do the stopword removal.\n",
    "\n",
    "from tqdm import tqdm\n",
    "\n",
    "processed_text_level2 = []\n",
    "\n",
    "for processed_at_level1_review in tqdm(processed_text_level1):\n",
    "    review = processed_at_level1_review.lower()  #Lowercase\n",
    "    review = (\" \").join(words for words in review.split() if words not in stopwords.words(\"english\")) #Stopwords removal\n",
    "    processed_text_level2.append(review)"
   ]
  },
  {
   "cell_type": "markdown",
   "metadata": {},
   "source": [
    "### Saving List to the harddisk Using Pickle-  https://www.datacamp.com/community/tutorials/pickle-python-tutorial"
   ]
  },
  {
   "cell_type": "raw",
   "metadata": {},
   "source": [
    "Python Pickle module serializes/deserializes the object so that it can be saved to a file and can be loaded later in program. Serialization refers to converting an object in memory to byte stream that can be stored in the disk. Later on the character stream can be deserialized and back to Python object.\n",
    "What can be Pickled - Boolean, Integer, Float, Complex number, String, Tuples, List, Set, Dictionary"
   ]
  },
  {
   "cell_type": "raw",
   "metadata": {},
   "source": [
    "#Dumping the list in file Stopword_removed_list - w stands for write and b stands for binary.\n",
    "\n",
    "import pickle\n",
    "filename = r\"G:\\Projects\\Amazon fine food review\\Stopword_removed_list\"\n",
    "outfile = open(filename,'wb')\n",
    "pickle.dump(processed_text_level2,outfile)\n",
    "outfile.close()"
   ]
  },
  {
   "cell_type": "code",
   "execution_count": 46,
   "metadata": {},
   "outputs": [],
   "source": [
    "#Loading the file back in a list - infile\n",
    "import pickle\n",
    "\n",
    "infile = open(r\"G:\\Projects\\Amazon fine food review\\Stopword_removed_list\",'rb')\n",
    "processed_text_pickled_level2 = pickle.load(infile)\n",
    "infile.close()"
   ]
  },
  {
   "cell_type": "code",
   "execution_count": 47,
   "metadata": {},
   "outputs": [
    {
     "data": {
      "text/plain": [
       "['good quality dog food bought several vitality canned dog food products found good quality. product looks like stew processed meat smells better. labrador finicky appreciates product better most.',\n",
       " '\"delight\" says confection around centuries. light, pillowy citrus gelatin nuts - case filberts. cut tiny squares liberally coated powdered sugar. tiny mouthful heaven. chewy, flavorful. highly recommend yummy treat. familiar story c.s. lewis\\' \"the lion, witch, wardrobe\" - treat seduces edmund selling brother sisters witch.',\n",
       " 'great taffy great taffy great price. wide assortment yummy taffy. delivery quick. taffy lover, deal.',\n",
       " 'nice taffy got wild hair taffy ordered five pound bag. taffy enjoyable many flavors: watermelon, root beer, melon, peppermint, grape, etc. complaint bit much red/black licorice-flavored pieces (just particular favorites). me, kids, husband, lasted two weeks! would recommend brand taffy -- delightful treat.',\n",
       " \"great! good expensive brands! saltwater taffy great flavors soft chewy. candy individually wrapped well. none candies stuck together, happen expensive version, fralinger's. would highly recommend candy! served beach-themed party everyone loved it!\",\n",
       " 'wonderful, tasty taffy taffy good. soft chewy. flavors amazing. would definitely recommend buying it. satisfying!!',\n",
       " \"yay barley right i'm mostly sprouting cats eat grass. love it. rotate around wheatgrass rye\",\n",
       " 'healthy dog food healthy dog food. good digestion. also good small puppies. dog eats required amount every feeding.',\n",
       " 'best hot sauce world know cactus tequila unique combination ingredients, flavour hot sauce makes one kind! picked bottle trip brought back home us totally blown away! realized simply find anywhere city bummed.now, magic internet, case sauce ecstatic it.if love hot sauce..i mean really love hot sauce, want sauce tastelessly burns throat, grab bottle tequila picante gourmet de inclan. realize taste it, never want use sauce.thank personal, incredible service!',\n",
       " 'cats love \"diet\" food better regular food one boys needed lose weight didn\\'t. put food floor chubby guy, protein-rich, by-product food higher skinny boy jump. higher food sits going stale. really go food. chubby boy losing ounce week.',\n",
       " 'fresh greasy! good flavor! came securely packed... fresh delicious! love twizzlers!',\n",
       " 'strawberry twizzlers - yummy strawberry twizzlers guilty pleasure - yummy. six pounds around son i.',\n",
       " 'lots twizzlers, expect. daughter loves twizzlers shipment six pounds really hit spot. exactly would expect...six packages strawberry twizzlers.',\n",
       " 'love it! satisfied twizzler purchase. shared others enjoyed them. definitely ordering more.',\n",
       " 'great sweet candy! twizzlers, strawberry childhood favorite candy, made lancaster pennsylvania & candies, inc. one oldest confectionery firms united states, subsidiary hershey company, company established 1845 young smylie, also make apple licorice twists, green color blue raspberry licorice twists, like alli keep dry cool place recommended put fridge. according guinness book records, longest licorice twist ever made measured 1.200 feet (370 m) weighted 100 pounds (45 kg) made & candies, inc. record-breaking twist became guinness world record july 19, 1998. product kosher! thank',\n",
       " 'home delivered twizlers candy delivered fast purchased reasonable price. home bound unable get store perfect me.',\n",
       " \"always fresh husband twizzlers addict. we've bought many times amazon we're government employees living overseas can't get country assigned to. they've always fresh tasty, packed well arrive timely manner.\",\n",
       " 'twizzlers bought husband currently overseas. loves these, apparently staff likes also.there generous amounts twizzlers 16-ounce bag, well worth price. twizzlers, strawberry, 16-ounce bags (pack 6)',\n",
       " 'delicious product! remember buying candy kid quality dropped years. still superb product disappointed with.',\n",
       " 'twizzlers love candy. weight watchers cut back still craving it.',\n",
       " \"please sell mexico!! lived us 7 yrs now, miss twizzlers!! go back visit someone visits me, always stock up. say yum!sell mexico faithful buyer, often i'm able buy right now.\",\n",
       " 'twizzlers - strawberry product received advertised.twizzlers, strawberry, 16-ounce bags (pack 6)',\n",
       " 'great bargain price glad amazon carried batteries. hard time finding elsewhere unique size. need garage door opener.great deal price.',\n",
       " \"yummy! got mum diabetic needs watch sugar intake, father simply chooses limit unnecessary sugar intake - one sweet tooth - loved toffees, would never guess they're sugar-free great eat pretty much guilt free! impressed i've ordered (w dark chocolate) take office i'll eat instead snacking sugary sweets.these excellent!\",\n",
       " \"great machine! never huge coffee fan. however, mother purchased little machine talked trying latte macciato. coffee shop better one like products, (as usually non-coffee drinker!).the little dolche guesto machine super easy use prepares really good coffee/latte/cappuccino/etc less minute (if water heated up). would recommend dolce gusto anyone. good price i'am getting one myself! :)\",\n",
       " 'taste... offer great price great taste, thanks amazon selling product.staral',\n",
       " \"best instant oatmeals mccann's instant oatmeal great must oatmeal scrape together two three minutes prepare it. escaping fact, however, even best instant oatmeal nowhere near good even store brand oatmeal requiring stovetop preparation. still, mccann's good gets instant oatmeal. even better organic, all-natural brands tried. varieties mccann's variety pack taste good. prepared microwave adding boiling water convenient extreme time issue.mccann's use actual cane sugar instead high fructose corn syrup helped decide buy product. real sugar tastes better harmful stuff. one thing like, though, mccann's use thickeners. oats plus water plus heat make creamy, tasty oatmeal without need guar gum. convenience product. maybe guar gum why, sitting bowl while, instant mccann's becomes thick gluey.\",\n",
       " \"good instant good instant oatmeal best oatmeal brand. uses cane sugar instead high fructouse corn syrup, better sweetness, doctors say form sugar better you. great cold morning time make mccann's steel cut oats. apple cinnamon best maple brown sugar regular good too. plus require doctoring actually tell three flavors apart.\",\n",
       " \"great irish oatmeal hurry! instant oatmeal become soggy minute water hits bowl. mccann's instant oatmeal holds texture, excellent flavor, good time. mccann's regular oat meal excellent, too, may take bit longer prepare time morning. best instant brand i've ever eaten, close second non-instant variety.mccann's instant irish oatmeal, variety pack regular, apples & cinnamon, maple & brown sugar, 10-count boxes (pack 6)\",\n",
       " \"satisfying mccann's instant irish oatmeal, variety pack regular, apples & cinnamon, maple & brown sugar, 10-count boxes (pack 6)i'm fan mccann's steel-cut oats, thought i'd give instant variety try. found hardy meal, sweet, great folks like (post-bariatric surgery) need food palatable, easily digestible, fiber make bloat.\",\n",
       " \"love gluten free oatmeal!!! us celiac disease product lifesaver could better getting almost half price grocery health food store! love mccann's instant oatmeal - flavors!!!thanks,abby\",\n",
       " 'oatmeal else need know? oatmeal, instant (make half cup low-fat milk add raisins;nuke 90 seconds). expensive kroger store brand oatmeal maybe little tastier better texture something. still oatmeal. mmm, convenient!',\n",
       " 'good way start day.... visiting friend nate morning coffee , came storage room ( packet mccanns instant irish oatmeal .) suggested try use ,in stash . sometimes nate dose give chance say , ended trying apple cinn . found tastefull made water powdered milk . goes good o.j. coffee slice toast ready take world...or day least.. jerry reith...',\n",
       " \"wife's favorite breakfast ordered wife reccomended daughter. almost every morning likes flavors. happy, i'm happy!!!mccann's instant irish oatmeal, variety pack regular, apples & cinnamon, maple & brown sugar, 10-count boxes (pack 6)\",\n",
       " 'buy oatmeal mcanns? tastes great! variety packs taste great!i every morning. $0.30 cents per meal, understand everyone earth buying stuff up.maple brown sugar terrific, followed apples cinnamon, followed regular. get tired ole thing, taste great.i boil water small pot, empty packet 2 bowl, pour boiling water, watch expand 2x size!taste really good takes minutes prepare.not sure everyone earth this. convenient, healthy, quick, excellent quality, extremely cheap...',\n",
       " \"oatmeal oatmeal lovers mccann's makes oatmeal every oatmeal connoisseur, whether one likes raw pellet state cooks half hour, sloth addled instant, done microwave three minutes. good, that's sure, beauty instant variety available different flavors well regular. variety pack allows different tastes explored, well giving chance experience difference mccann's well-known oatmeals. personally like mccann's cooks thicker body top brand america. apples & cinnamon, though, tends little liquidy may want experiment amount water add. 1300watt microwave oatmeal cooks one minute twenty-seven seconds, also watch get handle much time water use. bad thing -- consider bad thing -- offering buy lot end six ten-count boxes. good whole family oatmeal-eaters, single person alone -- well, love oatmeal.\",\n",
       " \"food-great mccann's oatmeal every morning ordering amazon able save almost $3.00 per box.it great product. tastes great healthy\",\n",
       " \"good hot breakfast mccann's oatmeal good quality choice. favorite apples cinnamon, find none overly sugary. good hot breakfast 2 minutes, excellent.\",\n",
       " \"great taste convenience really like mccann's steel cut oats find cook often.this tastes much better grocery store brands convenient.anything keeps eating oatmeal regularly good thing.\",\n",
       " 'good good oatmeal. like apple cinnamon best. though follow directions package since always comes soupy taste. could since like oatmeal really thick add milk top of.',\n",
       " \"good next time order variety pack really like maple brown sugar flavor. regular fine brown sugar added. apples cinnamon flavor ok. quick, easy satisfying breakfast i'll order brand again, variety. i'll get maple brown sugar.\",\n",
       " 'hot! good! came back :) got free package bottle bloody mary mix bought seller, advertising worked..lol, tried them, shared 2 buddies, loved them... im buy more, noticed reviews yet,... well is. hot, \"burn mouth forever hot\" nice temp... perfect us..',\n",
       " \"go nuts ass-kickin' peanuts. stock last time looked. go vermont country store weston find along jaw harp, cranberry horseradish sauce, fartless black bean salsa, apple cider jelly, newton's cradle art motion staple vermont maple syrup.back ass kickin peanuts. hot. activate perspiration glands behind ears arms. requires beverage advertised, glass cold milk, box kleenex since make nose run. look like ordinary peanuts already giving ideas work. suspect people hitting goodies absence, especially colleague greg. i'm going take work earliest opportunity empty contents ordinary planters peanuts can, see whose crying whose nose running return.the shaken ensure spices evenly distributed. important wash hands consumption touch eyes.you'll go nuts ass-kickin' peanuts.p.s. i'm sharing peanuts, deliberately, i'll probably give greg jaw harp christmas. he'll insulted.\",\n",
       " \"roasts smooth brew roast home stove-top popcorn popper (but outside, course). beans (coffee bean direct green mexican altura) seem well-suited method. first second cracks distinct, i've roasted beans medium slightly dark great results every time. aroma strong persistent. taste smooth, velvety, yet lively.\",\n",
       " \"guests love it! roast large cast iron pan grill (about 1/3 bag time). smell wonderful roasted beans taste delicious too. importantly, coffee smooth; bitter aftertaste. numerous occasions, we've send roasted beans home friends like much.\",\n",
       " \"awesome deal! deal awesome! arrived halloween indicated enough satisfy trick treaters. love quality product much less expensive local store's candy.\",\n",
       " 'go wrong! chocolate, say. great variety everything family loves. family six goes fast here. perfect variety. kit kat, reeses, take five more.',\n",
       " 'awsome - kids neighborhood loved us! great product, nice combination chocolates perfect size! bags plenty, shipped promptly. kids neighborhood liked candies!',\n",
       " 'great deal. halloween but, sent bag daughters class share. chocolate fresh enjoyed many.',\n",
       " 'pretty expensive bag candy online pretty expensive, cheaper order compete grocery stores, that, good combination favorite candy']"
      ]
     },
     "execution_count": 47,
     "metadata": {},
     "output_type": "execute_result"
    }
   ],
   "source": [
    "processed_text_pickled_level2[0:50]"
   ]
  },
  {
   "cell_type": "markdown",
   "metadata": {},
   "source": [
    "#### Punctuation removal and Removal of words less than 3 characters in length, non english words and multiple spaces "
   ]
  },
  {
   "cell_type": "code",
   "execution_count": 48,
   "metadata": {},
   "outputs": [
    {
     "name": "stderr",
     "output_type": "stream",
     "text": [
      "100%|████████████████████████████████| 100000/100000 [00:18<00:00, 5394.29it/s]\n"
     ]
    }
   ],
   "source": [
    "# Punctuation removal and Removal of words less than 3 characters in length, non english words and multiple spaces - \n",
    "#3nd level of preprocessing\n",
    "from tqdm import tqdm\n",
    "processed_text_level3 = []\n",
    "\n",
    "for text in tqdm(processed_text_pickled_level2):\n",
    "    \n",
    "    text = (\"\").join(char for char in text if char not in '!\"#$%&\\'()*+,./:;<=>?@[\\\\]^_`{|}~')  ##string.punctuations\n",
    "    text = (\" \").join(word for word in text.split() if len(word)>2) # removal of words less than 3 characters\n",
    "    text = re.sub(r\"[^A-Za-z]+\", \" \", text) #removal of non english words\n",
    "    text = re.sub(r\"\\s+\", r\" \", text) #Removal of multiple spaces\n",
    "    \n",
    "    processed_text_level3.append(text)"
   ]
  },
  {
   "cell_type": "markdown",
   "metadata": {},
   "source": [
    "#### Lemmatization and Stemming "
   ]
  },
  {
   "cell_type": "code",
   "execution_count": 49,
   "metadata": {},
   "outputs": [
    {
     "name": "stderr",
     "output_type": "stream",
     "text": [
      "100%|█████████████████████████████████| 100000/100000 [05:38<00:00, 295.60it/s]\n"
     ]
    }
   ],
   "source": [
    "from nltk.stem import wordnet, WordNetLemmatizer, LancasterStemmer, PorterStemmer\n",
    "word_lem = WordNetLemmatizer()\n",
    "pst_stem = PorterStemmer()\n",
    "\n",
    "processed_text_final = []\n",
    "\n",
    "for text in tqdm(processed_text_level3):\n",
    "    text = (\" \").join(word_lem.lemmatize(word) for word in text.split()) ##Lemmatization\n",
    "    text = (\" \").join(pst_stem.stem(word) for word in text.split())   ##Stemming\n",
    "    \n",
    "    processed_text_final.append(text)"
   ]
  },
  {
   "cell_type": "code",
   "execution_count": 59,
   "metadata": {},
   "outputs": [
    {
     "name": "stdout",
     "output_type": "stream",
     "text": [
      "\"Processed_text_final - List\" is the final text that we get after processing of Text\n"
     ]
    }
   ],
   "source": [
    "print(\"\\\"Processed_text_final - List\\\" is the final text that we get after processing of Text\") "
   ]
  },
  {
   "cell_type": "markdown",
   "metadata": {},
   "source": [
    "#### New column - \"Processed_text \" column is created to save the processed text"
   ]
  },
  {
   "cell_type": "code",
   "execution_count": 50,
   "metadata": {},
   "outputs": [
    {
     "data": {
      "text/plain": [
       "(100000, 17)"
      ]
     },
     "execution_count": 50,
     "metadata": {},
     "output_type": "execute_result"
    }
   ],
   "source": [
    "data_train.shape"
   ]
  },
  {
   "cell_type": "code",
   "execution_count": 51,
   "metadata": {},
   "outputs": [
    {
     "name": "stdout",
     "output_type": "stream",
     "text": [
      "The shape of new df is (100000, 18)\n"
     ]
    }
   ],
   "source": [
    "data_train['processed_text'] = processed_text_final\n",
    "\n",
    "print(\"The shape of new df is\", data_train.shape)"
   ]
  },
  {
   "cell_type": "code",
   "execution_count": 52,
   "metadata": {},
   "outputs": [],
   "source": [
    "#Converting \"score\" column to 1/0 for Positive and Negative respectively\n",
    "\n",
    "data_train['Score'] = data_train[\"Score\"].apply(lambda x : 1 if x ==\"positive\" else 0)"
   ]
  },
  {
   "cell_type": "raw",
   "metadata": {},
   "source": [
    "#Saving the dataframes - data_train and data_test\n",
    "\n",
    "data_train.to_csv(r\"G:\\Projects\\Amazon fine food review\\train_data.csv\")\n",
    "\n",
    "data_test.to_csv(r\"G:\\Projects\\Amazon fine food review\\test_data.csv\")"
   ]
  },
  {
   "cell_type": "markdown",
   "metadata": {},
   "source": [
    "# Feature Engineering"
   ]
  },
  {
   "cell_type": "markdown",
   "metadata": {},
   "source": [
    "## 1. Bag of Words - Binary"
   ]
  },
  {
   "cell_type": "code",
   "execution_count": 53,
   "metadata": {},
   "outputs": [],
   "source": [
    "from sklearn.feature_extraction.text import CountVectorizer\n",
    "\n",
    "count_vect = CountVectorizer(ngram_range=(1,3), binary=True, stop_words=\"english\")\n",
    "\n",
    "#Fiting the data- it fits the data and find the vocabulary\n",
    "bow_binary = count_vect.fit(data_train['processed_text'])\n"
   ]
  },
  {
   "cell_type": "code",
   "execution_count": 54,
   "metadata": {},
   "outputs": [
    {
     "data": {
      "text/plain": [
       "<bound method BaseEstimator.get_params of CountVectorizer(analyzer='word', binary=True, decode_error='strict',\n",
       "                dtype=<class 'numpy.int64'>, encoding='utf-8', input='content',\n",
       "                lowercase=True, max_df=1.0, max_features=None, min_df=1,\n",
       "                ngram_range=(1, 3), preprocessor=None, stop_words='english',\n",
       "                strip_accents=None, token_pattern='(?u)\\\\b\\\\w\\\\w+\\\\b',\n",
       "                tokenizer=None, vocabulary=None)>"
      ]
     },
     "execution_count": 54,
     "metadata": {},
     "output_type": "execute_result"
    }
   ],
   "source": [
    "count_vect.get_params"
   ]
  },
  {
   "cell_type": "code",
   "execution_count": 55,
   "metadata": {},
   "outputs": [
    {
     "name": "stdout",
     "output_type": "stream",
     "text": [
      "The number of features in BOW - Binary are 4522963\n"
     ]
    }
   ],
   "source": [
    "print(\"The number of features in BOW - Binary are\",len(bow_binary.get_feature_names()))"
   ]
  },
  {
   "cell_type": "code",
   "execution_count": 56,
   "metadata": {},
   "outputs": [
    {
     "name": "stdout",
     "output_type": "stream",
     "text": [
      "The top 10 items in vocabulary is :\n"
     ]
    },
    {
     "data": {
      "text/plain": [
       "[('good', 1657889),\n",
       " ('qualiti', 3134677),\n",
       " ('dog', 1147537),\n",
       " ('food', 1522169),\n",
       " ('bought', 429395),\n",
       " ('sever', 3487171),\n",
       " ('vital', 4322690),\n",
       " ('product', 3054496),\n",
       " ('look', 2304013),\n",
       " ('like', 2204649)]"
      ]
     },
     "execution_count": 56,
     "metadata": {},
     "output_type": "execute_result"
    }
   ],
   "source": [
    "print(\"The top 10 items in vocabulary is :\")\n",
    "[v for v in bow_binary.vocabulary_.items()][0:10]"
   ]
  },
  {
   "cell_type": "code",
   "execution_count": 57,
   "metadata": {},
   "outputs": [
    {
     "name": "stdout",
     "output_type": "stream",
     "text": [
      "The datatype of bow4 is : <class 'scipy.sparse.csr.csr_matrix'>\n",
      "The dimension of bow4 is : 2\n",
      "The shape of bow4 is :  (1, 4522963)\n",
      "  (0, 290591)\t1\n",
      "  (0, 290794)\t1\n",
      "  (0, 290795)\t1\n",
      "  (0, 463603)\t1\n",
      "  (0, 471266)\t1\n",
      "  (0, 471267)\t1\n",
      "  (0, 574676)\t1\n",
      "  (0, 577443)\t1\n",
      "  (0, 577444)\t1\n",
      "  (0, 579055)\t1\n",
      "  (0, 579056)\t1\n",
      "  (0, 579517)\t1\n",
      "  (0, 579521)\t1\n",
      "  (0, 682568)\t1\n",
      "  (0, 682745)\t1\n",
      "  (0, 682751)\t1\n",
      "  (0, 1318156)\t1\n",
      "  (0, 1319181)\t1\n",
      "  (0, 1346764)\t1\n",
      "  (0, 1347216)\t1\n",
      "  (0, 1347263)\t1\n",
      "  (0, 1351176)\t1\n",
      "  (0, 1351178)\t1\n",
      "  (0, 1468830)\t1\n",
      "  (0, 1494093)\t1\n",
      "  :\t:\n",
      "  (0, 3389222)\t1\n",
      "  (0, 3475461)\t1\n",
      "  (0, 3475796)\t1\n",
      "  (0, 3475797)\t1\n",
      "  (0, 3622849)\t1\n",
      "  (0, 3623141)\t1\n",
      "  (0, 3623157)\t1\n",
      "  (0, 3790890)\t1\n",
      "  (0, 3792250)\t1\n",
      "  (0, 3792285)\t1\n",
      "  (0, 3894431)\t1\n",
      "  (0, 3894557)\t1\n",
      "  (0, 3894558)\t1\n",
      "  (0, 4014992)\t1\n",
      "  (0, 4015100)\t1\n",
      "  (0, 4015104)\t1\n",
      "  (0, 4105488)\t1\n",
      "  (0, 4106223)\t1\n",
      "  (0, 4106224)\t1\n",
      "  (0, 4309478)\t1\n",
      "  (0, 4310510)\t1\n",
      "  (0, 4310511)\t1\n",
      "  (0, 4477588)\t1\n",
      "  (0, 4477830)\t1\n",
      "  (0, 4477845)\t1\n"
     ]
    }
   ],
   "source": [
    "## Transforming the data - transform outputs the sparse matrix of indices aong with the no. of times each word occur in the index\n",
    "\n",
    "data_train[\"processed_text\"][4]\n",
    "bow4 = bow_binary.transform([data_train[\"processed_text\"][4]])\n",
    "#print(bow4)\n",
    "\n",
    "print(\"The datatype of bow4 is :\",type(bow4))\n",
    "\n",
    "print(\"The dimension of bow4 is :\",bow4.ndim)\n",
    "print(\"The shape of bow4 is : \",bow4.shape)\n",
    "print(bow4)"
   ]
  },
  {
   "cell_type": "code",
   "execution_count": 58,
   "metadata": {},
   "outputs": [
    {
     "name": "stdout",
     "output_type": "stream",
     "text": [
      "The shape of BInary Bag of Words is :  (100000, 4522963)\n"
     ]
    }
   ],
   "source": [
    "#Transforming the data\n",
    "\n",
    "binary_bag_of_words = bow_binary.transform(data_train['processed_text'])\n",
    "\n",
    "print(\"The shape of BInary Bag of Words is : \",binary_bag_of_words.shape)"
   ]
  },
  {
   "cell_type": "code",
   "execution_count": 59,
   "metadata": {},
   "outputs": [
    {
     "name": "stdout",
     "output_type": "stream",
     "text": [
      "The number of non zero occurances are: 10227446\n",
      "The sparcity of text data using binary bag of words is : 0.0022612269877069525\n"
     ]
    }
   ],
   "source": [
    "#Amount of non zero occurances\n",
    "\n",
    "print(\"The number of non zero occurances are:\", binary_bag_of_words.nnz)\n",
    "\n",
    "Sparcity = (binary_bag_of_words.nnz/(binary_bag_of_words.shape[0]*binary_bag_of_words.shape[1]))*100\n",
    "\n",
    "print(\"The sparcity of text data using binary bag of words is :\", Sparcity)"
   ]
  },
  {
   "cell_type": "raw",
   "metadata": {},
   "source": [
    "#Saving the binary bag of word sparse matrix in local drive\n",
    "\n",
    "from scipy import sparse\n",
    "\n",
    "sparse.save_npz(r\"G:\\Projects\\Amazon fine food review\\binary_bag_of_words_sparse.npz\",binary_bag_of_words)"
   ]
  },
  {
   "cell_type": "code",
   "execution_count": 62,
   "metadata": {},
   "outputs": [],
   "source": [
    "#Loading the binary bag of word sparse matrix from local drive\n",
    "\n",
    "binary_bag_of_words = sparse.load_npz(r\"G:\\Projects\\Amazon fine food review\\binary_bag_of_words_sparse.npz\")"
   ]
  },
  {
   "cell_type": "markdown",
   "metadata": {},
   "source": [
    "## 2. Bag of words - Non binary"
   ]
  },
  {
   "cell_type": "code",
   "execution_count": 63,
   "metadata": {},
   "outputs": [
    {
     "name": "stdout",
     "output_type": "stream",
     "text": [
      "The shape of Non Binary Bag of Words is :  (100000, 4522963)\n",
      "The number of non zero occurances are: 10227446\n",
      "The sparcity of text data using non binary bag of words is : 0.0022612269877069525\n"
     ]
    }
   ],
   "source": [
    "count_vect = CountVectorizer(stop_words=\"english\", ngram_range=(1,3))\n",
    "\n",
    "bow_non_binary = count_vect.fit_transform(data_train[\"processed_text\"])\n",
    "\n",
    "print(\"The shape of Non Binary Bag of Words is : \",bow_non_binary.shape)\n",
    "print(\"The number of non zero occurances are:\", bow_non_binary.nnz)\n",
    "\n",
    "Sparcity = (bow_non_binary.nnz/(bow_non_binary.shape[0]*bow_non_binary.shape[1]))*100\n",
    "print(\"The sparcity of text data using non binary bag of words is :\", Sparcity)"
   ]
  },
  {
   "cell_type": "raw",
   "metadata": {},
   "source": [
    "#Saving the non binary bag of word sparse matrix in local drive\n",
    "\n",
    "from scipy import sparse\n",
    "\n",
    "sparse.save_npz(r\"G:\\Projects\\Amazon fine food review\\non_binary_bag_of_words_sparse.npz\",bow_non_binary)"
   ]
  },
  {
   "cell_type": "code",
   "execution_count": 65,
   "metadata": {},
   "outputs": [],
   "source": [
    "#Loading the binary bag of word sparse matrix from local drive\n",
    "\n",
    "non_binary_bag_of_words = sparse.load_npz(r\"G:\\Projects\\Amazon fine food review\\non_binary_bag_of_words_sparse.npz\")"
   ]
  },
  {
   "cell_type": "markdown",
   "metadata": {},
   "source": [
    "# TFIDF Vectorizer"
   ]
  },
  {
   "cell_type": "code",
   "execution_count": 66,
   "metadata": {},
   "outputs": [
    {
     "name": "stdout",
     "output_type": "stream",
     "text": [
      "The shape of TFIDF is :  (100000, 4522963)\n",
      "The number of non zero occurances are: 10227446\n",
      "The sparcity of text data using non binary bag of words is : 0.0022612269877069525\n"
     ]
    }
   ],
   "source": [
    "from sklearn.feature_extraction.text import TfidfVectorizer \n",
    "\n",
    "tfidf_vect = TfidfVectorizer(stop_words=\"english\", ngram_range=(1,3))\n",
    "\n",
    "tfidf = tfidf_vect.fit_transform(data_train[\"processed_text\"])\n",
    "\n",
    "print(\"The shape of TFIDF is : \",tfidf.shape)\n",
    "print(\"The number of non zero occurances are:\", tfidf.nnz)\n",
    "\n",
    "Sparcity = (tfidf.nnz/(tfidf.shape[0]*tfidf.shape[1]))*100\n",
    "print(\"The sparcity of text data using non binary bag of words is :\", Sparcity)"
   ]
  },
  {
   "cell_type": "raw",
   "metadata": {},
   "source": [
    "#Saving the TFIDF vector sparse matrix in local drive\n",
    "\n",
    "from scipy import sparse\n",
    "\n",
    "sparse.save_npz(r\"G:\\Projects\\Amazon fine food review\\tfidf_sparse.npz\",tfidf)"
   ]
  },
  {
   "cell_type": "code",
   "execution_count": 68,
   "metadata": {},
   "outputs": [],
   "source": [
    "#Loading the binary bag of word sparse matrix from local drive\n",
    "\n",
    "tfidf_bow = sparse.load_npz(r\"G:\\Projects\\Amazon fine food review\\tfidf_sparse.npz\")"
   ]
  },
  {
   "cell_type": "code",
   "execution_count": 71,
   "metadata": {},
   "outputs": [
    {
     "name": "stdout",
     "output_type": "stream",
     "text": [
      "The shape of binary bow is (100000, 4522963)\n",
      "The shape of non binary bow is (100000, 4522963)\n",
      "The shape of tfdf is (100000, 4522963)\n"
     ]
    }
   ],
   "source": [
    "print(\"The shape of binary bow is\", binary_bag_of_words.get_shape())\n",
    "print(\"The shape of non binary bow is\", non_binary_bag_of_words.get_shape())\n",
    "print(\"The shape of tfdf is\", tfidf_bow.get_shape())"
   ]
  },
  {
   "cell_type": "markdown",
   "metadata": {},
   "source": [
    "# Train-Test Split for Binary Bag of Word data"
   ]
  },
  {
   "cell_type": "code",
   "execution_count": 59,
   "metadata": {},
   "outputs": [
    {
     "name": "stdout",
     "output_type": "stream",
     "text": [
      "The shape of x_train is (80000, 4522963)\n",
      "The shape of x_train is (20000, 4522963)\n",
      "\n",
      "The no of classes in x_train is\n",
      " 1    40000\n",
      "0    40000\n",
      "Name: Score, dtype: int64\n",
      "\n",
      "The no of classes in x_test is\n",
      " 1    10000\n",
      "0    10000\n",
      "Name: Score, dtype: int64\n"
     ]
    }
   ],
   "source": [
    "from sklearn.model_selection import train_test_split\n",
    "\n",
    "x_train, x_test, y_train, y_test = train_test_split(binary_bag_of_words, data_train['Score'], test_size = 0.2, random_state= 1, stratify =data_train['Score'] )\n",
    "\n",
    "print(\"The shape of x_train is\",x_train.shape)\n",
    "print(\"The shape of x_train is\",x_test.shape)\n",
    "print(\"\\nThe no of classes in x_train is\\n\",y_train.value_counts())\n",
    "print(\"\\nThe no of classes in x_test is\\n\",y_test.value_counts())"
   ]
  },
  {
   "cell_type": "markdown",
   "metadata": {},
   "source": [
    "# Modelling using Binary BOW data"
   ]
  },
  {
   "cell_type": "markdown",
   "metadata": {},
   "source": [
    "### 1. Lets try the baseline model first - Naive Bayes"
   ]
  },
  {
   "cell_type": "code",
   "execution_count": 60,
   "metadata": {},
   "outputs": [
    {
     "name": "stdout",
     "output_type": "stream",
     "text": [
      "The accuracy score for the train data is 0.998\n",
      "The accuracy score for the test data is 0.896\n",
      "===========================================================================\n"
     ]
    },
    {
     "data": {
      "image/png": "[encoded data removed]",
      "text/plain": [
       "<Figure size 432x288 with 1 Axes>"
      ]
     },
     "metadata": {},
     "output_type": "display_data"
    },
    {
     "name": "stdout",
     "output_type": "stream",
     "text": [
      "===========================================================================\n",
      "              precision    recall  f1-score   support\n",
      "\n",
      "           0       0.93      0.85      0.89     10000\n",
      "           1       0.86      0.94      0.90     10000\n",
      "\n",
      "    accuracy                           0.90     20000\n",
      "   macro avg       0.90      0.90      0.90     20000\n",
      "weighted avg       0.90      0.90      0.90     20000\n",
      "\n"
     ]
    }
   ],
   "source": [
    "#1. Naive_Bayes\n",
    "from sklearn.naive_bayes import MultinomialNB \n",
    "n_bayes1 = MultinomialNB(alpha = 1.0, fit_prior=True, class_prior=None) \n",
    "\n",
    "n_bayes1.fit(x_train, y_train)\n",
    "\n",
    "\n",
    "#Metrics for naive bayes model - binary\n",
    "from sklearn.metrics import accuracy_score, confusion_matrix, classification_report, roc_auc_score, log_loss, roc_curve\n",
    "import seaborn as sns\n",
    "print(\"The accuracy score for the train data is\",accuracy_score(y_train, n_bayes1.predict(x_train)))\n",
    "print(\"The accuracy score for the test data is\",accuracy_score(y_test, n_bayes1.predict(x_test)))\n",
    "print(\"=\"*75)\n",
    "sns.heatmap(confusion_matrix(y_test, n_bayes1.predict(x_test)), linewidths=0.5, annot=True, fmt='d', cbar=False )\n",
    "plt.xlabel(\"Predicted class\")\n",
    "plt.ylabel(\"Actual class\")\n",
    "plt.title(\"Confusion matrix for naive bayes model - Binary\")\n",
    "plt.show()\n",
    "print(\"=\"*75)\n",
    "print(classification_report(y_test, n_bayes1.predict(x_test)))"
   ]
  },
  {
   "cell_type": "markdown",
   "metadata": {},
   "source": [
    "### 2nd Model - Logistic Regression with C = 1.0"
   ]
  },
  {
   "cell_type": "code",
   "execution_count": 61,
   "metadata": {},
   "outputs": [
    {
     "name": "stdout",
     "output_type": "stream",
     "text": [
      "The accuracy score for the train data is 1.0\n",
      "The accuracy score for the test data is 0.9095\n",
      "===========================================================================\n"
     ]
    },
    {
     "data": {
      "image/png": "[encoded data removed]",
      "text/plain": [
       "<Figure size 432x288 with 1 Axes>"
      ]
     },
     "metadata": {},
     "output_type": "display_data"
    },
    {
     "name": "stdout",
     "output_type": "stream",
     "text": [
      "===========================================================================\n",
      "              precision    recall  f1-score   support\n",
      "\n",
      "           0       0.91      0.90      0.91     10000\n",
      "           1       0.91      0.91      0.91     10000\n",
      "\n",
      "    accuracy                           0.91     20000\n",
      "   macro avg       0.91      0.91      0.91     20000\n",
      "weighted avg       0.91      0.91      0.91     20000\n",
      "\n"
     ]
    }
   ],
   "source": [
    "#1. logistic Regression (C = 1)\n",
    "from sklearn.linear_model import LogisticRegression\n",
    "from sklearn.model_selection import GridSearchCV\n",
    "log_reg1 = LogisticRegression(n_jobs=-1) #C = 1\n",
    "\n",
    "log_reg1.fit(x_train, y_train)\n",
    "\n",
    "\n",
    "#Metrics for naive bayes model - binary\n",
    "from sklearn.metrics import accuracy_score, confusion_matrix, classification_report, roc_auc_score, log_loss, roc_curve\n",
    "import seaborn as sns\n",
    "print(\"The accuracy score for the train data is\",accuracy_score(y_train, log_reg1.predict(x_train)))\n",
    "print(\"The accuracy score for the test data is\",accuracy_score(y_test, log_reg1.predict(x_test)))\n",
    "print(\"=\"*75)\n",
    "sns.heatmap(confusion_matrix(y_test, log_reg1.predict(x_test)), linewidths=0.5, annot=True, fmt='d', cbar=False )\n",
    "plt.xlabel(\"Predicted class\")\n",
    "plt.ylabel(\"Actual class\")\n",
    "plt.title(\"Confusion matrix for naive bayes model - Binary\")\n",
    "plt.show()\n",
    "print(\"=\"*75)\n",
    "print(classification_report(y_test, log_reg1.predict(x_test)))"
   ]
  },
  {
   "cell_type": "markdown",
   "metadata": {},
   "source": [
    "### 3. LogisticRegression (C = [0.01, 0.1, 1, 10, 100] )- Grid Search CV"
   ]
  },
  {
   "cell_type": "code",
   "execution_count": 62,
   "metadata": {},
   "outputs": [
    {
     "ename": "MemoryError",
     "evalue": "Unable to allocate 863. MiB for an array with shape (113075280,) and data type float64",
     "output_type": "error",
     "traceback": [
      "\u001b[1;31m---------------------------------------------------------------------------\u001b[0m",
      "\u001b[1;31m_RemoteTraceback\u001b[0m                          Traceback (most recent call last)",
      "\u001b[1;31m_RemoteTraceback\u001b[0m: \n\"\"\"\nTraceback (most recent call last):\n  File \"C:\\python\\lib\\site-packages\\joblib\\externals\\loky\\process_executor.py\", line 418, in _process_worker\n    r = call_item()\n  File \"C:\\python\\lib\\site-packages\\joblib\\externals\\loky\\process_executor.py\", line 272, in __call__\n    return self.fn(*self.args, **self.kwargs)\n  File \"C:\\python\\lib\\site-packages\\joblib\\_parallel_backends.py\", line 608, in __call__\n    return self.func(*args, **kwargs)\n  File \"C:\\python\\lib\\site-packages\\joblib\\parallel.py\", line 256, in __call__\n    for func, args, kwargs in self.items]\n  File \"C:\\python\\lib\\site-packages\\joblib\\parallel.py\", line 256, in <listcomp>\n    for func, args, kwargs in self.items]\n  File \"C:\\python\\lib\\site-packages\\sklearn\\model_selection\\_validation.py\", line 515, in _fit_and_score\n    estimator.fit(X_train, y_train, **fit_params)\n  File \"C:\\python\\lib\\site-packages\\sklearn\\linear_model\\_logistic.py\", line 1601, in fit\n    for class_, warm_start_coef_ in zip(classes_, warm_start_coef))\n  File \"C:\\python\\lib\\site-packages\\joblib\\parallel.py\", line 1004, in __call__\n    if self.dispatch_one_batch(iterator):\n  File \"C:\\python\\lib\\site-packages\\joblib\\parallel.py\", line 835, in dispatch_one_batch\n    self._dispatch(tasks)\n  File \"C:\\python\\lib\\site-packages\\joblib\\parallel.py\", line 754, in _dispatch\n    job = self._backend.apply_async(batch, callback=cb)\n  File \"C:\\python\\lib\\site-packages\\joblib\\_parallel_backends.py\", line 209, in apply_async\n    result = ImmediateResult(func)\n  File \"C:\\python\\lib\\site-packages\\joblib\\_parallel_backends.py\", line 590, in __init__\n    self.results = batch()\n  File \"C:\\python\\lib\\site-packages\\joblib\\parallel.py\", line 256, in __call__\n    for func, args, kwargs in self.items]\n  File \"C:\\python\\lib\\site-packages\\joblib\\parallel.py\", line 256, in <listcomp>\n    for func, args, kwargs in self.items]\n  File \"C:\\python\\lib\\site-packages\\sklearn\\linear_model\\_logistic.py\", line 936, in _logistic_regression_path\n    options={\"iprint\": iprint, \"gtol\": tol, \"maxiter\": max_iter}\n  File \"C:\\python\\lib\\site-packages\\scipy\\optimize\\_minimize.py\", line 610, in minimize\n    callback=callback, **options)\n  File \"C:\\python\\lib\\site-packages\\scipy\\optimize\\lbfgsb.py\", line 322, in _minimize_lbfgsb\n    wa = zeros(2*m*n + 5*n + 11*m*m + 8*m, float64)\nMemoryError: Unable to allocate 863. MiB for an array with shape (113075280,) and data type float64\n\"\"\"",
      "\nThe above exception was the direct cause of the following exception:\n",
      "\u001b[1;31mMemoryError\u001b[0m                               Traceback (most recent call last)",
      "\u001b[1;32m<ipython-input-62-1323630537d1>\u001b[0m in \u001b[0;36m<module>\u001b[1;34m()\u001b[0m\n\u001b[0;32m      6\u001b[0m \u001b[0mclf\u001b[0m \u001b[1;33m=\u001b[0m \u001b[0mGridSearchCV\u001b[0m\u001b[1;33m(\u001b[0m\u001b[0mestimator\u001b[0m\u001b[1;33m=\u001b[0m\u001b[0mlog_reg2\u001b[0m\u001b[1;33m,\u001b[0m \u001b[0mparam_grid\u001b[0m\u001b[1;33m=\u001b[0m\u001b[0mparam\u001b[0m\u001b[1;33m,\u001b[0m \u001b[0mscoring\u001b[0m\u001b[1;33m=\u001b[0m\u001b[1;34m\"f1\"\u001b[0m\u001b[1;33m,\u001b[0m \u001b[0mn_jobs\u001b[0m\u001b[1;33m=\u001b[0m\u001b[1;33m-\u001b[0m\u001b[1;36m1\u001b[0m\u001b[1;33m,\u001b[0m \u001b[0mrefit\u001b[0m\u001b[1;33m=\u001b[0m\u001b[1;32mTrue\u001b[0m\u001b[1;33m,\u001b[0m \u001b[0merror_score\u001b[0m\u001b[1;33m=\u001b[0m\u001b[1;34m'raise'\u001b[0m\u001b[1;33m)\u001b[0m\u001b[1;33m\u001b[0m\u001b[0m\n\u001b[0;32m      7\u001b[0m \u001b[1;33m\u001b[0m\u001b[0m\n\u001b[1;32m----> 8\u001b[1;33m \u001b[0mclf\u001b[0m\u001b[1;33m.\u001b[0m\u001b[0mfit\u001b[0m\u001b[1;33m(\u001b[0m\u001b[0mx_train\u001b[0m\u001b[1;33m,\u001b[0m \u001b[0my_train\u001b[0m\u001b[1;33m)\u001b[0m\u001b[1;33m\u001b[0m\u001b[0m\n\u001b[0m",
      "\u001b[1;32mC:\\python\\lib\\site-packages\\sklearn\\model_selection\\_search.py\u001b[0m in \u001b[0;36mfit\u001b[1;34m(self, X, y, groups, **fit_params)\u001b[0m\n\u001b[0;32m    708\u001b[0m                 \u001b[1;32mreturn\u001b[0m \u001b[0mresults\u001b[0m\u001b[1;33m\u001b[0m\u001b[0m\n\u001b[0;32m    709\u001b[0m \u001b[1;33m\u001b[0m\u001b[0m\n\u001b[1;32m--> 710\u001b[1;33m             \u001b[0mself\u001b[0m\u001b[1;33m.\u001b[0m\u001b[0m_run_search\u001b[0m\u001b[1;33m(\u001b[0m\u001b[0mevaluate_candidates\u001b[0m\u001b[1;33m)\u001b[0m\u001b[1;33m\u001b[0m\u001b[0m\n\u001b[0m\u001b[0;32m    711\u001b[0m \u001b[1;33m\u001b[0m\u001b[0m\n\u001b[0;32m    712\u001b[0m         \u001b[1;31m# For multi-metric evaluation, store the best_index_, best_params_ and\u001b[0m\u001b[1;33m\u001b[0m\u001b[1;33m\u001b[0m\u001b[0m\n",
      "\u001b[1;32mC:\\python\\lib\\site-packages\\sklearn\\model_selection\\_search.py\u001b[0m in \u001b[0;36m_run_search\u001b[1;34m(self, evaluate_candidates)\u001b[0m\n\u001b[0;32m   1149\u001b[0m     \u001b[1;32mdef\u001b[0m \u001b[0m_run_search\u001b[0m\u001b[1;33m(\u001b[0m\u001b[0mself\u001b[0m\u001b[1;33m,\u001b[0m \u001b[0mevaluate_candidates\u001b[0m\u001b[1;33m)\u001b[0m\u001b[1;33m:\u001b[0m\u001b[1;33m\u001b[0m\u001b[0m\n\u001b[0;32m   1150\u001b[0m         \u001b[1;34m\"\"\"Search all candidates in param_grid\"\"\"\u001b[0m\u001b[1;33m\u001b[0m\u001b[0m\n\u001b[1;32m-> 1151\u001b[1;33m         \u001b[0mevaluate_candidates\u001b[0m\u001b[1;33m(\u001b[0m\u001b[0mParameterGrid\u001b[0m\u001b[1;33m(\u001b[0m\u001b[0mself\u001b[0m\u001b[1;33m.\u001b[0m\u001b[0mparam_grid\u001b[0m\u001b[1;33m)\u001b[0m\u001b[1;33m)\u001b[0m\u001b[1;33m\u001b[0m\u001b[0m\n\u001b[0m\u001b[0;32m   1152\u001b[0m \u001b[1;33m\u001b[0m\u001b[0m\n\u001b[0;32m   1153\u001b[0m \u001b[1;33m\u001b[0m\u001b[0m\n",
      "\u001b[1;32mC:\\python\\lib\\site-packages\\sklearn\\model_selection\\_search.py\u001b[0m in \u001b[0;36mevaluate_candidates\u001b[1;34m(candidate_params)\u001b[0m\n\u001b[0;32m    687\u001b[0m                                \u001b[1;32mfor\u001b[0m \u001b[0mparameters\u001b[0m\u001b[1;33m,\u001b[0m \u001b[1;33m(\u001b[0m\u001b[0mtrain\u001b[0m\u001b[1;33m,\u001b[0m \u001b[0mtest\u001b[0m\u001b[1;33m)\u001b[0m\u001b[1;33m\u001b[0m\u001b[0m\n\u001b[0;32m    688\u001b[0m                                in product(candidate_params,\n\u001b[1;32m--> 689\u001b[1;33m                                           cv.split(X, y, groups)))\n\u001b[0m\u001b[0;32m    690\u001b[0m \u001b[1;33m\u001b[0m\u001b[0m\n\u001b[0;32m    691\u001b[0m                 \u001b[1;32mif\u001b[0m \u001b[0mlen\u001b[0m\u001b[1;33m(\u001b[0m\u001b[0mout\u001b[0m\u001b[1;33m)\u001b[0m \u001b[1;33m<\u001b[0m \u001b[1;36m1\u001b[0m\u001b[1;33m:\u001b[0m\u001b[1;33m\u001b[0m\u001b[0m\n",
      "\u001b[1;32mC:\\python\\lib\\site-packages\\joblib\\parallel.py\u001b[0m in \u001b[0;36m__call__\u001b[1;34m(self, iterable)\u001b[0m\n\u001b[0;32m   1015\u001b[0m \u001b[1;33m\u001b[0m\u001b[0m\n\u001b[0;32m   1016\u001b[0m             \u001b[1;32mwith\u001b[0m \u001b[0mself\u001b[0m\u001b[1;33m.\u001b[0m\u001b[0m_backend\u001b[0m\u001b[1;33m.\u001b[0m\u001b[0mretrieval_context\u001b[0m\u001b[1;33m(\u001b[0m\u001b[1;33m)\u001b[0m\u001b[1;33m:\u001b[0m\u001b[1;33m\u001b[0m\u001b[0m\n\u001b[1;32m-> 1017\u001b[1;33m                 \u001b[0mself\u001b[0m\u001b[1;33m.\u001b[0m\u001b[0mretrieve\u001b[0m\u001b[1;33m(\u001b[0m\u001b[1;33m)\u001b[0m\u001b[1;33m\u001b[0m\u001b[0m\n\u001b[0m\u001b[0;32m   1018\u001b[0m             \u001b[1;31m# Make sure that we get a last message telling us we are done\u001b[0m\u001b[1;33m\u001b[0m\u001b[1;33m\u001b[0m\u001b[0m\n\u001b[0;32m   1019\u001b[0m             \u001b[0melapsed_time\u001b[0m \u001b[1;33m=\u001b[0m \u001b[0mtime\u001b[0m\u001b[1;33m.\u001b[0m\u001b[0mtime\u001b[0m\u001b[1;33m(\u001b[0m\u001b[1;33m)\u001b[0m \u001b[1;33m-\u001b[0m \u001b[0mself\u001b[0m\u001b[1;33m.\u001b[0m\u001b[0m_start_time\u001b[0m\u001b[1;33m\u001b[0m\u001b[0m\n",
      "\u001b[1;32mC:\\python\\lib\\site-packages\\joblib\\parallel.py\u001b[0m in \u001b[0;36mretrieve\u001b[1;34m(self)\u001b[0m\n\u001b[0;32m    907\u001b[0m             \u001b[1;32mtry\u001b[0m\u001b[1;33m:\u001b[0m\u001b[1;33m\u001b[0m\u001b[0m\n\u001b[0;32m    908\u001b[0m                 \u001b[1;32mif\u001b[0m \u001b[0mgetattr\u001b[0m\u001b[1;33m(\u001b[0m\u001b[0mself\u001b[0m\u001b[1;33m.\u001b[0m\u001b[0m_backend\u001b[0m\u001b[1;33m,\u001b[0m \u001b[1;34m'supports_timeout'\u001b[0m\u001b[1;33m,\u001b[0m \u001b[1;32mFalse\u001b[0m\u001b[1;33m)\u001b[0m\u001b[1;33m:\u001b[0m\u001b[1;33m\u001b[0m\u001b[0m\n\u001b[1;32m--> 909\u001b[1;33m                     \u001b[0mself\u001b[0m\u001b[1;33m.\u001b[0m\u001b[0m_output\u001b[0m\u001b[1;33m.\u001b[0m\u001b[0mextend\u001b[0m\u001b[1;33m(\u001b[0m\u001b[0mjob\u001b[0m\u001b[1;33m.\u001b[0m\u001b[0mget\u001b[0m\u001b[1;33m(\u001b[0m\u001b[0mtimeout\u001b[0m\u001b[1;33m=\u001b[0m\u001b[0mself\u001b[0m\u001b[1;33m.\u001b[0m\u001b[0mtimeout\u001b[0m\u001b[1;33m)\u001b[0m\u001b[1;33m)\u001b[0m\u001b[1;33m\u001b[0m\u001b[0m\n\u001b[0m\u001b[0;32m    910\u001b[0m                 \u001b[1;32melse\u001b[0m\u001b[1;33m:\u001b[0m\u001b[1;33m\u001b[0m\u001b[0m\n\u001b[0;32m    911\u001b[0m                     \u001b[0mself\u001b[0m\u001b[1;33m.\u001b[0m\u001b[0m_output\u001b[0m\u001b[1;33m.\u001b[0m\u001b[0mextend\u001b[0m\u001b[1;33m(\u001b[0m\u001b[0mjob\u001b[0m\u001b[1;33m.\u001b[0m\u001b[0mget\u001b[0m\u001b[1;33m(\u001b[0m\u001b[1;33m)\u001b[0m\u001b[1;33m)\u001b[0m\u001b[1;33m\u001b[0m\u001b[0m\n",
      "\u001b[1;32mC:\\python\\lib\\site-packages\\joblib\\_parallel_backends.py\u001b[0m in \u001b[0;36mwrap_future_result\u001b[1;34m(future, timeout)\u001b[0m\n\u001b[0;32m    560\u001b[0m         AsyncResults.get from multiprocessing.\"\"\"\n\u001b[0;32m    561\u001b[0m         \u001b[1;32mtry\u001b[0m\u001b[1;33m:\u001b[0m\u001b[1;33m\u001b[0m\u001b[0m\n\u001b[1;32m--> 562\u001b[1;33m             \u001b[1;32mreturn\u001b[0m \u001b[0mfuture\u001b[0m\u001b[1;33m.\u001b[0m\u001b[0mresult\u001b[0m\u001b[1;33m(\u001b[0m\u001b[0mtimeout\u001b[0m\u001b[1;33m=\u001b[0m\u001b[0mtimeout\u001b[0m\u001b[1;33m)\u001b[0m\u001b[1;33m\u001b[0m\u001b[0m\n\u001b[0m\u001b[0;32m    563\u001b[0m         \u001b[1;32mexcept\u001b[0m \u001b[0mLokyTimeoutError\u001b[0m\u001b[1;33m:\u001b[0m\u001b[1;33m\u001b[0m\u001b[0m\n\u001b[0;32m    564\u001b[0m             \u001b[1;32mraise\u001b[0m \u001b[0mTimeoutError\u001b[0m\u001b[1;33m(\u001b[0m\u001b[1;33m)\u001b[0m\u001b[1;33m\u001b[0m\u001b[0m\n",
      "\u001b[1;32mC:\\python\\lib\\concurrent\\futures\\_base.py\u001b[0m in \u001b[0;36mresult\u001b[1;34m(self, timeout)\u001b[0m\n\u001b[0;32m    430\u001b[0m                 \u001b[1;32mraise\u001b[0m \u001b[0mCancelledError\u001b[0m\u001b[1;33m(\u001b[0m\u001b[1;33m)\u001b[0m\u001b[1;33m\u001b[0m\u001b[0m\n\u001b[0;32m    431\u001b[0m             \u001b[1;32melif\u001b[0m \u001b[0mself\u001b[0m\u001b[1;33m.\u001b[0m\u001b[0m_state\u001b[0m \u001b[1;33m==\u001b[0m \u001b[0mFINISHED\u001b[0m\u001b[1;33m:\u001b[0m\u001b[1;33m\u001b[0m\u001b[0m\n\u001b[1;32m--> 432\u001b[1;33m                 \u001b[1;32mreturn\u001b[0m \u001b[0mself\u001b[0m\u001b[1;33m.\u001b[0m\u001b[0m__get_result\u001b[0m\u001b[1;33m(\u001b[0m\u001b[1;33m)\u001b[0m\u001b[1;33m\u001b[0m\u001b[0m\n\u001b[0m\u001b[0;32m    433\u001b[0m             \u001b[1;32melse\u001b[0m\u001b[1;33m:\u001b[0m\u001b[1;33m\u001b[0m\u001b[0m\n\u001b[0;32m    434\u001b[0m                 \u001b[1;32mraise\u001b[0m \u001b[0mTimeoutError\u001b[0m\u001b[1;33m(\u001b[0m\u001b[1;33m)\u001b[0m\u001b[1;33m\u001b[0m\u001b[0m\n",
      "\u001b[1;32mC:\\python\\lib\\concurrent\\futures\\_base.py\u001b[0m in \u001b[0;36m__get_result\u001b[1;34m(self)\u001b[0m\n\u001b[0;32m    382\u001b[0m     \u001b[1;32mdef\u001b[0m \u001b[0m__get_result\u001b[0m\u001b[1;33m(\u001b[0m\u001b[0mself\u001b[0m\u001b[1;33m)\u001b[0m\u001b[1;33m:\u001b[0m\u001b[1;33m\u001b[0m\u001b[0m\n\u001b[0;32m    383\u001b[0m         \u001b[1;32mif\u001b[0m \u001b[0mself\u001b[0m\u001b[1;33m.\u001b[0m\u001b[0m_exception\u001b[0m\u001b[1;33m:\u001b[0m\u001b[1;33m\u001b[0m\u001b[0m\n\u001b[1;32m--> 384\u001b[1;33m             \u001b[1;32mraise\u001b[0m \u001b[0mself\u001b[0m\u001b[1;33m.\u001b[0m\u001b[0m_exception\u001b[0m\u001b[1;33m\u001b[0m\u001b[0m\n\u001b[0m\u001b[0;32m    385\u001b[0m         \u001b[1;32melse\u001b[0m\u001b[1;33m:\u001b[0m\u001b[1;33m\u001b[0m\u001b[0m\n\u001b[0;32m    386\u001b[0m             \u001b[1;32mreturn\u001b[0m \u001b[0mself\u001b[0m\u001b[1;33m.\u001b[0m\u001b[0m_result\u001b[0m\u001b[1;33m\u001b[0m\u001b[0m\n",
      "\u001b[1;31mMemoryError\u001b[0m: Unable to allocate 863. MiB for an array with shape (113075280,) and data type float64"
     ]
    }
   ],
   "source": [
    "#3. LogisticRegression (C = [0.01, 0.1, 1, 10, 100])\n",
    "from sklearn.linear_model import LogisticRegression\n",
    "from sklearn.model_selection import GridSearchCV\n",
    "log_reg2 = LogisticRegression()\n",
    "param = {\"C\":[0.01, 0.1, 1, 10]}\n",
    "clf = GridSearchCV(estimator=log_reg2, param_grid=param, scoring=\"f1\", n_jobs=-1, refit=True, error_score='raise')\n",
    "\n",
    "clf.fit(x_train, y_train)"
   ]
  },
  {
   "cell_type": "code",
   "execution_count": null,
   "metadata": {},
   "outputs": [],
   "source": [
    "print(\"The best param for the grid serach cv model is\",clf2.best_params_)\n",
    "print(\"The best estimator is :-\\n\",clf2.best_estimator_)\n",
    "print(\"The best score on the cv dataset is:\",clf2.best_score_)\n",
    "print(\"=\"*75)\n",
    "print(\"The accuracy score on the CV dataset for 5 fold crossvalidation is :\")\n",
    "display((pd.DataFrame(clf2.cv_results_))[['param_C','mean_test_score']])\n",
    "print(\"=\"*75)\n",
    "\n",
    "#Metrics for Logistic Regression model - binary (using best found param)\n",
    "from sklearn.metrics import accuracy_score, confusion_matrix, classification_report, roc_auc_score, log_loss, roc_curve\n",
    "import seaborn as sns\n",
    "print(\"The accuracy score for the train data is\",accuracy_score(y_train, clf2.predict(x_train)))\n",
    "print(\"The accuracy score for the test data is\",accuracy_score(y_test, clf2.predict(x_test)))\n",
    "print(\"=\"*75)\n",
    "sns.heatmap(confusion_matrix(y_test, clf2.predict(x_test)), linewidths=0.5, annot=True, fmt='d', cbar=False )\n",
    "plt.xlabel(\"Predicted class\")\n",
    "plt.ylabel(\"Actual class\")\n",
    "plt.title(\"Confusion matrix for naive bayes model - Binary\")\n",
    "plt.show()\n",
    "print(\"=\"*75)\n",
    "print(classification_report(y_test, clf2.predict(x_test)))"
   ]
  },
  {
   "cell_type": "raw",
   "metadata": {},
   "source": [
    "from sklearn.svm import SVC\n",
    "svc_clf = SVC(kernel='linear')\n",
    "svc_clf.fit(x_train, y_train)"
   ]
  },
  {
   "cell_type": "markdown",
   "metadata": {},
   "source": [
    "## 2. Bag of words - Non binary"
   ]
  },
  {
   "cell_type": "raw",
   "metadata": {},
   "source": [
    "count_vect = CountVectorizer(stop_words=\"english\", ngram_range=(1,3))\n",
    "\n",
    "bow_non_binary = count_vect.fit_transform(data_train[\"processed_text\"])\n",
    "\n",
    "print(\"The shape of Non Binary Bag of Words is : \",bow_non_binary.shape)\n",
    "print(\"The number of non zero occurances are:\", bow_non_binary.nnz)\n",
    "\n",
    "Sparcity = (bow_non_binary.nnz/(bow_non_binary.shape[0]*bow_non_binary.shape[1]))*100\n",
    "print(\"The sparcity of text data using non binary bag of words is :\", Sparcity)"
   ]
  },
  {
   "cell_type": "markdown",
   "metadata": {},
   "source": [
    "# 3 TFIDF Vectorizer"
   ]
  },
  {
   "cell_type": "raw",
   "metadata": {},
   "source": [
    "from sklearn.feature_extraction.text import TfidfVectorizer \n",
    "\n",
    "tfidf_vect = TfidfVectorizer(stop_words=\"english\", ngram_range=(1,3))\n",
    "\n",
    "tfidf = tfidf_vect.fit_transform(data_train[\"processed_text\"])\n",
    "\n",
    "print(\"The shape of TFIDF is : \",tfidf.shape)\n",
    "print(\"The number of non zero occurances are:\", tfidf.nnz)\n",
    "\n",
    "Sparcity = (tfidf.nnz/(tfidf.shape[0]*tfidf.shape[1]))*100\n",
    "print(\"The sparcity of text data using non binary bag of words is :\", Sparcity)"
   ]
  },
  {
   "cell_type": "markdown",
   "metadata": {},
   "source": [
    "# 4. Word2Vec"
   ]
  },
  {
   "cell_type": "raw",
   "metadata": {},
   "source": [
    "from gensim.models import Word2Vec, word2vec, keyedvectors, KeyedVectors\n",
    "\n",
    "#Word2vec takes list of sentence as an input\n",
    "list_of_sen = []\n",
    "for sen in data_train['processed_text']:\n",
    "    list_of_sen.append(sen.split())"
   ]
  }
 ],
 "metadata": {
  "kernelspec": {
   "display_name": "Python 3",
   "language": "python",
   "name": "python3"
  },
  "language_info": {
   "codemirror_mode": {
    "name": "ipython",
    "version": 3
   },
   "file_extension": ".py",
   "mimetype": "text/x-python",
   "name": "python",
   "nbconvert_exporter": "python",
   "pygments_lexer": "ipython3",
   "version": "3.6.4"
  }
 },
 "nbformat": 4,
 "nbformat_minor": 2
}
