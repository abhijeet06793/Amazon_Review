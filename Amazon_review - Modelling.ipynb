{
 "cells": [
  {
   "cell_type": "code",
   "execution_count": null,
   "metadata": {},
   "outputs": [],
   "source": []
  },
  {
   "cell_type": "markdown",
   "metadata": {},
   "source": [
    "# Importing Libraries"
   ]
  },
  {
   "cell_type": "code",
   "execution_count": 1,
   "metadata": {},
   "outputs": [],
   "source": [
    "import warnings\n",
    "warnings.filterwarnings(\"ignore\")\n",
    "import pandas as pd\n",
    "import numpy as np\n",
    "import matplotlib.pyplot as plt\n",
    "import scipy\n",
    "from sklearn.linear_model import LogisticRegression\n",
    "from sklearn.metrics import accuracy_score, confusion_matrix, classification_report, log_loss, roc_auc_score, auc\n",
    "from sklearn.svm import SVC\n",
    "from sklearn.naive_bayes import MultinomialNB\n",
    "from scipy import sparse"
   ]
  },
  {
   "cell_type": "markdown",
   "metadata": {},
   "source": [
    "# Data Load - Binary bag of words data"
   ]
  },
  {
   "cell_type": "code",
   "execution_count": 2,
   "metadata": {},
   "outputs": [],
   "source": [
    "#data loading\n",
    "\n",
    "data_train = pd.read_csv(r\"G:\\Projects\\Amazon fine food review\\train_data.csv\")\n",
    "\n",
    "#data_test = pd.read_csv(r\"G:\\Projects\\Amazon fine food review\\test_data.csv\")"
   ]
  },
  {
   "cell_type": "code",
   "execution_count": 3,
   "metadata": {},
   "outputs": [],
   "source": [
    "#Loading binary_bag of words sparse features from loacl disk\n",
    "\n",
    "binary_bag_of_words = sparse.load_npz(r\"G:\\Projects\\Amazon fine food review\\binary_bag_of_words_sparse.npz\")"
   ]
  },
  {
   "cell_type": "code",
   "execution_count": 4,
   "metadata": {},
   "outputs": [
    {
     "name": "stdout",
     "output_type": "stream",
     "text": [
      "The shape of x_train is (80000, 4522963)\n",
      "The shape of x_train is (20000, 4522963)\n",
      "\n",
      "The no of classes in x_train is\n",
      " 1    40000\n",
      "0    40000\n",
      "Name: Score, dtype: int64\n",
      "\n",
      "The no of classes in x_test is\n",
      " 1    10000\n",
      "0    10000\n",
      "Name: Score, dtype: int64\n"
     ]
    }
   ],
   "source": [
    "## Train Test split of Bag of Words -Binary data\n",
    "\n",
    "from sklearn.model_selection import train_test_split\n",
    "\n",
    "x_train, x_test, y_train, y_test = train_test_split(binary_bag_of_words, data_train['Score'], test_size = 0.2, random_state= 1, stratify =data_train['Score'] )\n",
    "\n",
    "print(\"The shape of x_train is\",x_train.shape)\n",
    "print(\"The shape of x_train is\",x_test.shape)\n",
    "print(\"\\nThe no of classes in x_train is\\n\",y_train.value_counts())\n",
    "print(\"\\nThe no of classes in x_test is\\n\",y_test.value_counts())"
   ]
  },
  {
   "cell_type": "markdown",
   "metadata": {},
   "source": [
    "# Modelling using Binary BOW data"
   ]
  },
  {
   "cell_type": "markdown",
   "metadata": {},
   "source": [
    "### 1. Lets try the baseline model first - Naive Bayes"
   ]
  },
  {
   "cell_type": "code",
   "execution_count": 5,
   "metadata": {},
   "outputs": [
    {
     "name": "stdout",
     "output_type": "stream",
     "text": [
      "The accuracy score for the train data is 0.998\n",
      "The accuracy score for the test data is 0.896\n",
      "===========================================================================\n"
     ]
    },
    {
     "data": {
      "image/png": "[encoded data removed]",
      "text/plain": [
       "<Figure size 432x288 with 1 Axes>"
      ]
     },
     "metadata": {
      "needs_background": "light"
     },
     "output_type": "display_data"
    },
    {
     "name": "stdout",
     "output_type": "stream",
     "text": [
      "===========================================================================\n",
      "              precision    recall  f1-score   support\n",
      "\n",
      "           0       0.93      0.85      0.89     10000\n",
      "           1       0.86      0.94      0.90     10000\n",
      "\n",
      "    accuracy                           0.90     20000\n",
      "   macro avg       0.90      0.90      0.90     20000\n",
      "weighted avg       0.90      0.90      0.90     20000\n",
      "\n"
     ]
    }
   ],
   "source": [
    "#1. Naive_Bayes\n",
    "from sklearn.naive_bayes import MultinomialNB \n",
    "n_bayes1 = MultinomialNB(alpha = 1.0, fit_prior=True, class_prior=None) \n",
    "\n",
    "n_bayes1.fit(x_train, y_train)\n",
    "\n",
    "\n",
    "#Metrics for naive bayes model - binary\n",
    "from sklearn.metrics import accuracy_score, confusion_matrix, classification_report, roc_auc_score, log_loss, roc_curve\n",
    "import seaborn as sns\n",
    "print(\"The accuracy score for the train data is\",accuracy_score(y_train, n_bayes1.predict(x_train)))\n",
    "print(\"The accuracy score for the test data is\",accuracy_score(y_test, n_bayes1.predict(x_test)))\n",
    "print(\"=\"*75)\n",
    "sns.heatmap(confusion_matrix(y_test, n_bayes1.predict(x_test)), linewidths=0.5, annot=True, fmt='d', cbar=False )\n",
    "plt.xlabel(\"Predicted class\")\n",
    "plt.ylabel(\"Actual class\")\n",
    "plt.title(\"Confusion matrix for naive bayes model - Binary\")\n",
    "plt.show()\n",
    "print(\"=\"*75)\n",
    "print(classification_report(y_test, n_bayes1.predict(x_test)))"
   ]
  },
  {
   "cell_type": "markdown",
   "metadata": {},
   "source": [
    "### 2nd Model - Logistic Regression with C = 1.0"
   ]
  },
  {
   "cell_type": "code",
   "execution_count": 6,
   "metadata": {},
   "outputs": [
    {
     "name": "stdout",
     "output_type": "stream",
     "text": [
      "The accuracy score for the train data is 1.0\n",
      "The accuracy score for the test data is 0.9095\n",
      "===========================================================================\n"
     ]
    },
    {
     "data": {
      "image/png": "[encoded data removed]",
      "text/plain": [
       "<Figure size 432x288 with 1 Axes>"
      ]
     },
     "metadata": {
      "needs_background": "light"
     },
     "output_type": "display_data"
    },
    {
     "name": "stdout",
     "output_type": "stream",
     "text": [
      "===========================================================================\n",
      "              precision    recall  f1-score   support\n",
      "\n",
      "           0       0.91      0.90      0.91     10000\n",
      "           1       0.91      0.91      0.91     10000\n",
      "\n",
      "    accuracy                           0.91     20000\n",
      "   macro avg       0.91      0.91      0.91     20000\n",
      "weighted avg       0.91      0.91      0.91     20000\n",
      "\n"
     ]
    }
   ],
   "source": [
    "#1. logistic Regression (C = 1)\n",
    "\n",
    "from sklearn.linear_model import LogisticRegression\n",
    "from sklearn.model_selection import GridSearchCV\n",
    "log_reg1 = LogisticRegression(n_jobs=-1) #C = 1\n",
    "\n",
    "log_reg1.fit(x_train, y_train)\n",
    "\n",
    "\n",
    "#Metrics for naive bayes model - binary\n",
    "from sklearn.metrics import accuracy_score, confusion_matrix, classification_report, roc_auc_score, log_loss, roc_curve\n",
    "import seaborn as sns\n",
    "print(\"The accuracy score for the train data is\",accuracy_score(y_train, log_reg1.predict(x_train)))\n",
    "print(\"The accuracy score for the test data is\",accuracy_score(y_test, log_reg1.predict(x_test)))\n",
    "print(\"=\"*75)\n",
    "sns.heatmap(confusion_matrix(y_test, log_reg1.predict(x_test)), linewidths=0.5, annot=True, fmt='d', cbar=False )\n",
    "plt.xlabel(\"Predicted class\")\n",
    "plt.ylabel(\"Actual class\")\n",
    "plt.title(\"Confusion matrix for naive bayes model - Binary\")\n",
    "plt.show()\n",
    "print(\"=\"*75)\n",
    "print(classification_report(y_test, log_reg1.predict(x_test)))"
   ]
  },
  {
   "cell_type": "markdown",
   "metadata": {},
   "source": [
    "### 3. LogisticRegression (C = [0.01, 0.1, 1, 10] )- Grid Search CV"
   ]
  },
  {
   "cell_type": "code",
   "execution_count": 7,
   "metadata": {},
   "outputs": [
    {
     "data": {
      "text/plain": [
       "GridSearchCV(cv=3, estimator=LogisticRegression(), n_jobs=-1,\n",
       "             param_grid={'C': [0.01, 0.1, 1, 10]}, scoring='accuracy')"
      ]
     },
     "execution_count": 7,
     "metadata": {},
     "output_type": "execute_result"
    }
   ],
   "source": [
    "#3. LogisticRegression (C = [0.01, 0.1, 1, 10])\n",
    "\n",
    "from sklearn.linear_model import LogisticRegression\n",
    "from sklearn.model_selection import GridSearchCV\n",
    "log_reg2 = LogisticRegression()\n",
    "param = {\"C\":[0.01, 0.1, 1, 10]}\n",
    "clf = GridSearchCV(estimator=log_reg2, param_grid=param, scoring=\"accuracy\", n_jobs=-1, refit=True, cv= 3)\n",
    "\n",
    "clf.fit(x_train, y_train)"
   ]
  },
  {
   "cell_type": "code",
   "execution_count": 8,
   "metadata": {},
   "outputs": [
    {
     "name": "stdout",
     "output_type": "stream",
     "text": [
      "The best param for the grid serach cv model is {'C': 10}\n",
      "The best estimator is :-\n",
      " LogisticRegression(C=10)\n",
      "The best score on the cv dataset is: 0.9065999927832222\n",
      "===========================================================================\n",
      "The accuracy score on the CV dataset for 5 fold crossvalidation is :\n"
     ]
    },
    {
     "data": {
      "text/html": [
       "<div>\n",
       "<style scoped>\n",
       "    .dataframe tbody tr th:only-of-type {\n",
       "        vertical-align: middle;\n",
       "    }\n",
       "\n",
       "    .dataframe tbody tr th {\n",
       "        vertical-align: top;\n",
       "    }\n",
       "\n",
       "    .dataframe thead th {\n",
       "        text-align: right;\n",
       "    }\n",
       "</style>\n",
       "<table border=\"1\" class=\"dataframe\">\n",
       "  <thead>\n",
       "    <tr style=\"text-align: right;\">\n",
       "      <th></th>\n",
       "      <th>param_C</th>\n",
       "      <th>mean_test_score</th>\n",
       "    </tr>\n",
       "  </thead>\n",
       "  <tbody>\n",
       "    <tr>\n",
       "      <th>0</th>\n",
       "      <td>0.01</td>\n",
       "      <td>0.889250</td>\n",
       "    </tr>\n",
       "    <tr>\n",
       "      <th>1</th>\n",
       "      <td>0.1</td>\n",
       "      <td>0.903425</td>\n",
       "    </tr>\n",
       "    <tr>\n",
       "      <th>2</th>\n",
       "      <td>1</td>\n",
       "      <td>0.906387</td>\n",
       "    </tr>\n",
       "    <tr>\n",
       "      <th>3</th>\n",
       "      <td>10</td>\n",
       "      <td>0.906600</td>\n",
       "    </tr>\n",
       "  </tbody>\n",
       "</table>\n",
       "</div>"
      ],
      "text/plain": [
       "  param_C  mean_test_score\n",
       "0    0.01         0.889250\n",
       "1     0.1         0.903425\n",
       "2       1         0.906387\n",
       "3      10         0.906600"
      ]
     },
     "metadata": {},
     "output_type": "display_data"
    },
    {
     "name": "stdout",
     "output_type": "stream",
     "text": [
      "===========================================================================\n",
      "The accuracy score for the train data is 1.0\n",
      "The accuracy score for the test data is 0.90985\n",
      "===========================================================================\n"
     ]
    },
    {
     "data": {
      "image/png": "[encoded data removed]",
      "text/plain": [
       "<Figure size 432x288 with 1 Axes>"
      ]
     },
     "metadata": {
      "needs_background": "light"
     },
     "output_type": "display_data"
    },
    {
     "name": "stdout",
     "output_type": "stream",
     "text": [
      "===========================================================================\n",
      "              precision    recall  f1-score   support\n",
      "\n",
      "           0       0.91      0.90      0.91     10000\n",
      "           1       0.91      0.92      0.91     10000\n",
      "\n",
      "    accuracy                           0.91     20000\n",
      "   macro avg       0.91      0.91      0.91     20000\n",
      "weighted avg       0.91      0.91      0.91     20000\n",
      "\n"
     ]
    }
   ],
   "source": [
    "print(\"The best param for the grid serach cv model is\",clf.best_params_)\n",
    "print(\"The best estimator is :-\\n\",clf.best_estimator_)\n",
    "print(\"The best score on the cv dataset is:\",clf.best_score_)\n",
    "print(\"=\"*75)\n",
    "print(\"The accuracy score on the CV dataset for 5 fold crossvalidation is :\")\n",
    "display((pd.DataFrame(clf.cv_results_))[['param_C','mean_test_score']])\n",
    "print(\"=\"*75)\n",
    "\n",
    "#Metrics for Logistic Regression model - binary (using best found param)\n",
    "from sklearn.metrics import accuracy_score, confusion_matrix, classification_report, roc_auc_score, log_loss, roc_curve\n",
    "import seaborn as sns\n",
    "print(\"The accuracy score for the train data is\",accuracy_score(y_train, clf.predict(x_train)))\n",
    "print(\"The accuracy score for the test data is\",accuracy_score(y_test, clf.predict(x_test)))\n",
    "print(\"=\"*75)\n",
    "sns.heatmap(confusion_matrix(y_test, clf.predict(x_test)), linewidths=0.5, annot=True, fmt='d', cbar=False )\n",
    "plt.xlabel(\"Predicted class\")\n",
    "plt.ylabel(\"Actual class\")\n",
    "plt.title(\"Confusion matrix for naive bayes model - Binary\")\n",
    "plt.show()\n",
    "print(\"=\"*75)\n",
    "print(classification_report(y_test, clf.predict(x_test)))"
   ]
  },
  {
   "cell_type": "markdown",
   "metadata": {},
   "source": [
    "# Non Binary Bag Of Words data"
   ]
  },
  {
   "cell_type": "code",
   "execution_count": 9,
   "metadata": {},
   "outputs": [],
   "source": [
    "#Loading non binary BOW from the local disk\n",
    "\n",
    "non_binary_bag_of_words = sparse.load_npz(r\"G:\\Projects\\Amazon fine food review\\non_binary_bag_of_words_sparse.npz\")"
   ]
  },
  {
   "cell_type": "code",
   "execution_count": 10,
   "metadata": {},
   "outputs": [
    {
     "name": "stdout",
     "output_type": "stream",
     "text": [
      "The shape of non binary BOW is (100000, 4522963)\n"
     ]
    }
   ],
   "source": [
    "print(\"The shape of non binary BOW is\",non_binary_bag_of_words.get_shape())"
   ]
  },
  {
   "cell_type": "code",
   "execution_count": 11,
   "metadata": {},
   "outputs": [
    {
     "name": "stdout",
     "output_type": "stream",
     "text": [
      "The shape of x_train is (80000, 4522963)\n",
      "The shape of x_train is (20000, 4522963)\n",
      "\n",
      "The no of classes in x_train is\n",
      " 1    40000\n",
      "0    40000\n",
      "Name: Score, dtype: int64\n",
      "\n",
      "The no of classes in x_test is\n",
      " 1    10000\n",
      "0    10000\n",
      "Name: Score, dtype: int64\n"
     ]
    }
   ],
   "source": [
    "from sklearn.model_selection import train_test_split\n",
    "\n",
    "x_train, x_test, y_train, y_test = train_test_split(non_binary_bag_of_words, data_train['Score'], test_size = 0.2, random_state= 1, stratify =data_train['Score'] )\n",
    "\n",
    "print(\"The shape of x_train is\",x_train.shape)\n",
    "print(\"The shape of x_train is\",x_test.shape)\n",
    "print(\"\\nThe no of classes in x_train is\\n\",y_train.value_counts())\n",
    "print(\"\\nThe no of classes in x_test is\\n\",y_test.value_counts())"
   ]
  },
  {
   "cell_type": "markdown",
   "metadata": {},
   "source": [
    "### 1. Naive Bayes Model for NON binary BOW"
   ]
  },
  {
   "cell_type": "code",
   "execution_count": 12,
   "metadata": {},
   "outputs": [
    {
     "name": "stdout",
     "output_type": "stream",
     "text": [
      "The accuracy score on train data is 0.9973875\n",
      "The accuracy score on test data is 0.89445\n"
     ]
    },
    {
     "data": {
      "image/png": "[encoded data removed]",
      "text/plain": [
       "<Figure size 432x288 with 2 Axes>"
      ]
     },
     "metadata": {
      "needs_background": "light"
     },
     "output_type": "display_data"
    },
    {
     "name": "stdout",
     "output_type": "stream",
     "text": [
      "===========================================================================\n",
      "              precision    recall  f1-score   support\n",
      "\n",
      "           0       0.93      0.86      0.89     10000\n",
      "           1       0.87      0.93      0.90     10000\n",
      "\n",
      "    accuracy                           0.89     20000\n",
      "   macro avg       0.90      0.89      0.89     20000\n",
      "weighted avg       0.90      0.89      0.89     20000\n",
      "\n"
     ]
    }
   ],
   "source": [
    "from sklearn.naive_bayes import MultinomialNB\n",
    "n_bayes_nonBOW = MultinomialNB(alpha=1, fit_prior=True, class_prior=None)\n",
    "\n",
    "n_bayes_nonBOW.fit(x_train, y_train)\n",
    "\n",
    "y_pred = n_bayes_nonBOW.predict(x_test)\n",
    "\n",
    "#Metrics for navie bayes model\n",
    "from sklearn.metrics import log_loss, accuracy_score, auc, roc_auc_score, f1_score, confusion_matrix, classification_report\n",
    "print(\"The accuracy score on train data is\",accuracy_score(y_train, n_bayes_nonBOW.predict(x_train)))\n",
    "print(\"The accuracy score on test data is\",accuracy_score(y_test, y_pred))\n",
    "\n",
    "sns.heatmap(confusion_matrix(y_test, y_pred), annot=True, fmt=\"d\", linewidths=1, linecolor=\"black\")\n",
    "plt.xlabel(\"Predicted class\")\n",
    "plt.ylabel(\"Actual class\")\n",
    "plt.title(\"Confusion matrix for naive bayes model - Non Binary\")\n",
    "plt.show()\n",
    "print(\"=\"*75)\n",
    "print(classification_report(y_test, y_pred))"
   ]
  },
  {
   "cell_type": "code",
   "execution_count": 13,
   "metadata": {},
   "outputs": [
    {
     "name": "stdout",
     "output_type": "stream",
     "text": [
      "The log loss for model is 0.2674293335754321\n"
     ]
    }
   ],
   "source": [
    "from sklearn.calibration import CalibratedClassifierCV\n",
    "clf_isotonic = CalibratedClassifierCV(base_estimator=n_bayes_nonBOW, method='isotonic')\n",
    "clf_isotonic.fit(x_train, y_train, )\n",
    "\n",
    "print(\"The log loss for model is\",log_loss(y_test, clf_isotonic.predict_proba(x_test)))"
   ]
  },
  {
   "cell_type": "markdown",
   "metadata": {},
   "source": [
    "### 2. Logistic Regression for Non Binary BOW - C = 10"
   ]
  },
  {
   "cell_type": "code",
   "execution_count": 14,
   "metadata": {},
   "outputs": [
    {
     "name": "stdout",
     "output_type": "stream",
     "text": [
      "The accuracy score on train data is 1.0\n",
      "The accuracy score on test data is 0.9139\n"
     ]
    },
    {
     "data": {
      "image/png": "[encoded data removed]",
      "text/plain": [
       "<Figure size 432x288 with 2 Axes>"
      ]
     },
     "metadata": {
      "needs_background": "light"
     },
     "output_type": "display_data"
    },
    {
     "name": "stdout",
     "output_type": "stream",
     "text": [
      "===========================================================================\n",
      "              precision    recall  f1-score   support\n",
      "\n",
      "           0       0.92      0.91      0.91     10000\n",
      "           1       0.91      0.92      0.91     10000\n",
      "\n",
      "    accuracy                           0.91     20000\n",
      "   macro avg       0.91      0.91      0.91     20000\n",
      "weighted avg       0.91      0.91      0.91     20000\n",
      "\n"
     ]
    }
   ],
   "source": [
    "from sklearn.linear_model import LogisticRegression\n",
    "\n",
    "log_reg_nonBOW = LogisticRegression(C=10, n_jobs=-1)\n",
    "log_reg_nonBOW.fit(x_train, y_train)\n",
    "\n",
    "y_pred = log_reg_nonBOW.predict(x_test)\n",
    "\n",
    "#Metrics for navie bayes model\n",
    "from sklearn.metrics import log_loss, accuracy_score, auc, roc_auc_score, f1_score, confusion_matrix, classification_report\n",
    "print(\"The accuracy score on train data is\",accuracy_score(y_train, log_reg_nonBOW.predict(x_train)))\n",
    "print(\"The accuracy score on test data is\",accuracy_score(y_test, y_pred))\n",
    "\n",
    "sns.heatmap(confusion_matrix(y_test, y_pred), annot=True, fmt=\"d\", linewidths=1, linecolor=\"black\")\n",
    "plt.xlabel(\"Predicted class\")\n",
    "plt.ylabel(\"Actual class\")\n",
    "plt.title(\"Confusion matrix for naive bayes model - Non Binary\")\n",
    "plt.show()\n",
    "print(\"=\"*75)\n",
    "print(classification_report(y_test, y_pred))"
   ]
  },
  {
   "cell_type": "code",
   "execution_count": 15,
   "metadata": {},
   "outputs": [
    {
     "name": "stdout",
     "output_type": "stream",
     "text": [
      "The log loss for model is 0.22966471580782494\n"
     ]
    }
   ],
   "source": [
    "from sklearn.calibration import CalibratedClassifierCV\n",
    "clf_isotonic = CalibratedClassifierCV(base_estimator=log_reg_nonBOW, method='isotonic', )\n",
    "clf_isotonic.fit(x_train, y_train, )\n",
    "\n",
    "print(\"The log loss for model is\",log_loss(y_test, clf_isotonic.predict_proba(x_test)))"
   ]
  },
  {
   "cell_type": "markdown",
   "metadata": {},
   "source": [
    "# TFIDF Data load"
   ]
  },
  {
   "cell_type": "code",
   "execution_count": 16,
   "metadata": {},
   "outputs": [
    {
     "name": "stdout",
     "output_type": "stream",
     "text": [
      "The shape of Tfidf data is (100000, 4522963)\n"
     ]
    }
   ],
   "source": [
    "#Loading non binary BOW from the local disk\n",
    "tfidf = sparse.load_npz(r\"G:\\Projects\\Amazon fine food review\\tfidf_sparse.npz\")\n",
    "\n",
    "print(\"The shape of Tfidf data is\",tfidf.get_shape())"
   ]
  },
  {
   "cell_type": "code",
   "execution_count": 17,
   "metadata": {},
   "outputs": [
    {
     "name": "stdout",
     "output_type": "stream",
     "text": [
      "The shape of x_train is (80000, 4522963)\n",
      "The shape of x_train is (20000, 4522963)\n",
      "\n",
      "The no of classes in x_train is\n",
      " 1    40000\n",
      "0    40000\n",
      "Name: Score, dtype: int64\n",
      "\n",
      "The no of classes in x_test is\n",
      " 1    10000\n",
      "0    10000\n",
      "Name: Score, dtype: int64\n"
     ]
    }
   ],
   "source": [
    "from sklearn.model_selection import train_test_split\n",
    "\n",
    "x_train, x_test, y_train, y_test = train_test_split(tfidf, data_train['Score'], test_size = 0.2, random_state= 1, stratify =data_train['Score'] )\n",
    "\n",
    "print(\"The shape of x_train is\",x_train.shape)\n",
    "print(\"The shape of x_train is\",x_test.shape)\n",
    "print(\"\\nThe no of classes in x_train is\\n\",y_train.value_counts())\n",
    "print(\"\\nThe no of classes in x_test is\\n\",y_test.value_counts())"
   ]
  },
  {
   "cell_type": "markdown",
   "metadata": {},
   "source": [
    "### 1. Naive Bayes on TFIDF"
   ]
  },
  {
   "cell_type": "code",
   "execution_count": 18,
   "metadata": {},
   "outputs": [
    {
     "name": "stdout",
     "output_type": "stream",
     "text": [
      "The accuracy score on train data is 0.9884125\n",
      "The accuracy score on test data is 0.89955\n"
     ]
    },
    {
     "data": {
      "image/png": "[encoded data removed]",
      "text/plain": [
       "<Figure size 432x288 with 2 Axes>"
      ]
     },
     "metadata": {
      "needs_background": "light"
     },
     "output_type": "display_data"
    },
    {
     "name": "stdout",
     "output_type": "stream",
     "text": [
      "===========================================================================\n",
      "              precision    recall  f1-score   support\n",
      "\n",
      "           0       0.92      0.88      0.90     10000\n",
      "           1       0.88      0.92      0.90     10000\n",
      "\n",
      "    accuracy                           0.90     20000\n",
      "   macro avg       0.90      0.90      0.90     20000\n",
      "weighted avg       0.90      0.90      0.90     20000\n",
      "\n"
     ]
    }
   ],
   "source": [
    "from sklearn.naive_bayes import MultinomialNB\n",
    "n_bayes_tfidf = MultinomialNB(alpha=1, fit_prior=True, class_prior=None)\n",
    "\n",
    "n_bayes_tfidf.fit(x_train, y_train)\n",
    "\n",
    "y_pred = n_bayes_tfidf.predict(x_test)\n",
    "\n",
    "#Metrics for navie bayes model\n",
    "from sklearn.metrics import log_loss, accuracy_score, auc, roc_auc_score, f1_score, confusion_matrix, classification_report\n",
    "print(\"The accuracy score on train data is\",accuracy_score(y_train, n_bayes_tfidf.predict(x_train)))\n",
    "print(\"The accuracy score on test data is\",accuracy_score(y_test, y_pred))\n",
    "\n",
    "sns.heatmap(confusion_matrix(y_test, y_pred), annot=True, fmt=\"d\", linewidths=1, linecolor=\"black\")\n",
    "plt.xlabel(\"Predicted class\")\n",
    "plt.ylabel(\"Actual class\")\n",
    "plt.title(\"Confusion matrix for naive bayes model - Non Binary\")\n",
    "plt.show()\n",
    "print(\"=\"*75)\n",
    "print(classification_report(y_test, y_pred))"
   ]
  },
  {
   "cell_type": "code",
   "execution_count": 19,
   "metadata": {},
   "outputs": [
    {
     "name": "stdout",
     "output_type": "stream",
     "text": [
      "The log loss for model is 0.25122065721600945\n"
     ]
    }
   ],
   "source": [
    "from sklearn.calibration import CalibratedClassifierCV\n",
    "clf_isotonic = CalibratedClassifierCV(base_estimator=n_bayes_tfidf, method='isotonic')\n",
    "clf_isotonic.fit(x_train, y_train)\n",
    "\n",
    "print(\"The log loss for model is\",log_loss(y_test, clf_isotonic.predict_proba(x_test)))"
   ]
  },
  {
   "cell_type": "markdown",
   "metadata": {},
   "source": [
    "### 2. Logistic Regression on TFIDF"
   ]
  },
  {
   "cell_type": "code",
   "execution_count": 20,
   "metadata": {},
   "outputs": [
    {
     "name": "stdout",
     "output_type": "stream",
     "text": [
      "The accuracy score on train data is 0.9991875\n",
      "The accuracy score on test data is 0.9112\n"
     ]
    },
    {
     "data": {
      "image/png": "[encoded data removed]",
      "text/plain": [
       "<Figure size 432x288 with 2 Axes>"
      ]
     },
     "metadata": {
      "needs_background": "light"
     },
     "output_type": "display_data"
    },
    {
     "name": "stdout",
     "output_type": "stream",
     "text": [
      "===========================================================================\n",
      "              precision    recall  f1-score   support\n",
      "\n",
      "           0       0.91      0.91      0.91     10000\n",
      "           1       0.91      0.91      0.91     10000\n",
      "\n",
      "    accuracy                           0.91     20000\n",
      "   macro avg       0.91      0.91      0.91     20000\n",
      "weighted avg       0.91      0.91      0.91     20000\n",
      "\n"
     ]
    }
   ],
   "source": [
    "from sklearn.linear_model import LogisticRegression\n",
    "\n",
    "log_reg_tfidf = LogisticRegression(C=10, n_jobs=-1)\n",
    "log_reg_tfidf.fit(x_train, y_train)\n",
    "\n",
    "y_pred = log_reg_tfidf.predict(x_test)\n",
    "\n",
    "#Metrics for navie bayes model\n",
    "from sklearn.metrics import log_loss, accuracy_score, auc, roc_auc_score, f1_score, confusion_matrix, classification_report\n",
    "print(\"The accuracy score on train data is\",accuracy_score(y_train, log_reg_tfidf.predict(x_train)))\n",
    "print(\"The accuracy score on test data is\",accuracy_score(y_test, y_pred))\n",
    "\n",
    "sns.heatmap(confusion_matrix(y_test, y_pred), annot=True, fmt=\"d\", linewidths=1, linecolor=\"black\")\n",
    "plt.xlabel(\"Predicted class\")\n",
    "plt.ylabel(\"Actual class\")\n",
    "plt.title(\"Confusion matrix for Logistic Regression - TFIDF\")\n",
    "plt.show()\n",
    "print(\"=\"*75)\n",
    "print(classification_report(y_test, y_pred))"
   ]
  },
  {
   "cell_type": "code",
   "execution_count": 21,
   "metadata": {},
   "outputs": [
    {
     "name": "stdout",
     "output_type": "stream",
     "text": [
      "The log loss for model is 0.22624678239967871\n"
     ]
    }
   ],
   "source": [
    "from sklearn.calibration import CalibratedClassifierCV\n",
    "clf_isotonic = CalibratedClassifierCV(base_estimator=log_reg_tfidf, method='isotonic', )\n",
    "clf_isotonic.fit(x_train, y_train, )\n",
    "\n",
    "print(\"The log loss for model is\",log_loss(y_test, clf_isotonic.predict_proba(x_test)))"
   ]
  },
  {
   "cell_type": "markdown",
   "metadata": {},
   "source": [
    "# Word To Vec (Gensim) Embeddings"
   ]
  },
  {
   "cell_type": "code",
   "execution_count": 22,
   "metadata": {},
   "outputs": [],
   "source": [
    "#Featurizing text with avgW2V and tfidfW2V\n",
    "\n",
    "import gensim\n",
    "from gensim.models import Word2Vec, KeyedVectors"
   ]
  },
  {
   "cell_type": "code",
   "execution_count": 23,
   "metadata": {},
   "outputs": [
    {
     "data": {
      "text/html": [
       "<div>\n",
       "<style scoped>\n",
       "    .dataframe tbody tr th:only-of-type {\n",
       "        vertical-align: middle;\n",
       "    }\n",
       "\n",
       "    .dataframe tbody tr th {\n",
       "        vertical-align: top;\n",
       "    }\n",
       "\n",
       "    .dataframe thead th {\n",
       "        text-align: right;\n",
       "    }\n",
       "</style>\n",
       "<table border=\"1\" class=\"dataframe\">\n",
       "  <thead>\n",
       "    <tr style=\"text-align: right;\">\n",
       "      <th></th>\n",
       "      <th>Unnamed: 0</th>\n",
       "      <th>Id</th>\n",
       "      <th>ProductId</th>\n",
       "      <th>UserId</th>\n",
       "      <th>ProfileName</th>\n",
       "      <th>HelpfulnessNumerator</th>\n",
       "      <th>HelpfulnessDenominator</th>\n",
       "      <th>Score</th>\n",
       "      <th>Time</th>\n",
       "      <th>Summary</th>\n",
       "      <th>Text</th>\n",
       "      <th>Summary_count</th>\n",
       "      <th>Text_count</th>\n",
       "      <th>Summary_length</th>\n",
       "      <th>Text_length</th>\n",
       "      <th>Comment</th>\n",
       "      <th>Comment_count</th>\n",
       "      <th>Comment_length</th>\n",
       "      <th>processed_text</th>\n",
       "    </tr>\n",
       "  </thead>\n",
       "  <tbody>\n",
       "    <tr>\n",
       "      <th>0</th>\n",
       "      <td>0</td>\n",
       "      <td>1</td>\n",
       "      <td>B001E4KFG0</td>\n",
       "      <td>A3SGXH7AUHU8GW</td>\n",
       "      <td>delmartian</td>\n",
       "      <td>1</td>\n",
       "      <td>1</td>\n",
       "      <td>1</td>\n",
       "      <td>1303862400</td>\n",
       "      <td>Good Quality Dog Food</td>\n",
       "      <td>I have bought several of the Vitality canned d...</td>\n",
       "      <td>4</td>\n",
       "      <td>48</td>\n",
       "      <td>21</td>\n",
       "      <td>263</td>\n",
       "      <td>Good Quality Dog Food I have bought several of...</td>\n",
       "      <td>52</td>\n",
       "      <td>285</td>\n",
       "      <td>good qualiti dog food bought sever vital can d...</td>\n",
       "    </tr>\n",
       "    <tr>\n",
       "      <th>1</th>\n",
       "      <td>1</td>\n",
       "      <td>3</td>\n",
       "      <td>B000LQOCH0</td>\n",
       "      <td>ABXLMWJIXXAIN</td>\n",
       "      <td>Natalia Corres \"Natalia Corres\"</td>\n",
       "      <td>1</td>\n",
       "      <td>1</td>\n",
       "      <td>1</td>\n",
       "      <td>1219017600</td>\n",
       "      <td>\"Delight\" says it all</td>\n",
       "      <td>This is a confection that has been around a fe...</td>\n",
       "      <td>4</td>\n",
       "      <td>94</td>\n",
       "      <td>21</td>\n",
       "      <td>509</td>\n",
       "      <td>\"Delight\" says it all This is a confection tha...</td>\n",
       "      <td>98</td>\n",
       "      <td>531</td>\n",
       "      <td>delight say confect around centuri light pillo...</td>\n",
       "    </tr>\n",
       "  </tbody>\n",
       "</table>\n",
       "</div>"
      ],
      "text/plain": [
       "   Unnamed: 0  Id   ProductId          UserId  \\\n",
       "0           0   1  B001E4KFG0  A3SGXH7AUHU8GW   \n",
       "1           1   3  B000LQOCH0   ABXLMWJIXXAIN   \n",
       "\n",
       "                       ProfileName  HelpfulnessNumerator  \\\n",
       "0                       delmartian                     1   \n",
       "1  Natalia Corres \"Natalia Corres\"                     1   \n",
       "\n",
       "   HelpfulnessDenominator  Score        Time                Summary  \\\n",
       "0                       1      1  1303862400  Good Quality Dog Food   \n",
       "1                       1      1  1219017600  \"Delight\" says it all   \n",
       "\n",
       "                                                Text  Summary_count  \\\n",
       "0  I have bought several of the Vitality canned d...              4   \n",
       "1  This is a confection that has been around a fe...              4   \n",
       "\n",
       "   Text_count  Summary_length  Text_length  \\\n",
       "0          48              21          263   \n",
       "1          94              21          509   \n",
       "\n",
       "                                             Comment  Comment_count  \\\n",
       "0  Good Quality Dog Food I have bought several of...             52   \n",
       "1  \"Delight\" says it all This is a confection tha...             98   \n",
       "\n",
       "   Comment_length                                     processed_text  \n",
       "0             285  good qualiti dog food bought sever vital can d...  \n",
       "1             531  delight say confect around centuri light pillo...  "
      ]
     },
     "execution_count": 23,
     "metadata": {},
     "output_type": "execute_result"
    }
   ],
   "source": [
    "data_train[0:2]"
   ]
  },
  {
   "cell_type": "code",
   "execution_count": 24,
   "metadata": {},
   "outputs": [],
   "source": [
    "from sklearn.model_selection import train_test_split\n",
    "x_train, x_test, y_train, y_test = train_test_split(data_train, data_train[\"Score\"].values, test_size = 0.2, random_state = 1 , stratify=data_train['Score'] )"
   ]
  },
  {
   "cell_type": "code",
   "execution_count": 25,
   "metadata": {},
   "outputs": [
    {
     "name": "stdout",
     "output_type": "stream",
     "text": [
      "The shape of x_train is (80000, 19)\n",
      "The shape of y_train is (80000,)\n",
      "The shape of x_test is (20000, 19)\n",
      "The shape of y_test is (20000,)\n"
     ]
    }
   ],
   "source": [
    "print(\"The shape of x_train is\",x_train.shape)\n",
    "print(\"The shape of y_train is\",y_train.shape)\n",
    "print(\"The shape of x_test is\",x_test.shape)\n",
    "print(\"The shape of y_test is\",y_test.shape)"
   ]
  },
  {
   "cell_type": "code",
   "execution_count": 26,
   "metadata": {},
   "outputs": [
    {
     "name": "stderr",
     "output_type": "stream",
     "text": [
      "100%|█████████████████████████████████| 80000/80000 [00:00<00:00, 82662.12it/s]\n"
     ]
    }
   ],
   "source": [
    "#Here we are creating our own a list of lists. It will go as an input to the Word2Vec model.\n",
    "from tqdm import tqdm\n",
    "text_list = []\n",
    "for sen in tqdm(x_train['processed_text']):\n",
    "    text_list.append(sen.split())"
   ]
  },
  {
   "cell_type": "code",
   "execution_count": 27,
   "metadata": {},
   "outputs": [],
   "source": [
    "#Creating Word to Vec Embeddings\n",
    "\n",
    "w2v = Word2Vec(text_list, size= 300, min_count=3, workers=4)"
   ]
  },
  {
   "cell_type": "code",
   "execution_count": 28,
   "metadata": {},
   "outputs": [
    {
     "name": "stdout",
     "output_type": "stream",
     "text": [
      "The length of the W2V vocabulary is 19265\n",
      "[('disappoint', 0.5687646269798279), ('intrigu', 0.5580053925514221), ('skeptic', 0.534982442855835), ('underwhelm', 0.5247279405593872), ('dissapoint', 0.5189185738563538), ('dissappoint', 0.5008965730667114), ('dislik', 0.488815039396286), ('surpris', 0.4873434901237488), ('appreci', 0.45032939314842224), ('displeas', 0.446303129196167)]\n",
      "[('worst', 0.6288071870803833), ('greatest', 0.6216166615486145), ('tastiest', 0.6150312423706055), ('healthiest', 0.5784456729888916), ('closest', 0.5728050470352173), ('superior', 0.5370957255363464), ('nastiest', 0.5341164469718933), ('favorit', 0.5141947269439697), ('had', 0.5107884407043457), ('fantast', 0.4707719087600708)]\n"
     ]
    }
   ],
   "source": [
    "print(\"The length of the W2V vocabulary is\",len(w2v.wv.vocab))\n",
    "print(w2v.wv.most_similar(positive=\"impress\"))\n",
    "print(w2v.wv.most_similar(positive=\"best\"))"
   ]
  },
  {
   "cell_type": "markdown",
   "metadata": {},
   "source": [
    "# Avg W2V for Training data "
   ]
  },
  {
   "cell_type": "code",
   "execution_count": 29,
   "metadata": {},
   "outputs": [
    {
     "name": "stderr",
     "output_type": "stream",
     "text": [
      "100%|███████████████████████████████████| 80000/80000 [05:27<00:00, 244.30it/s]\n"
     ]
    }
   ],
   "source": [
    "vocab = list(w2v.wv.vocab.keys()) #list of all the words in the vocabulary\n",
    "\n",
    "#creating sentence vector for the comments in Train data\n",
    "\n",
    "sen_list_train = []\n",
    "for sent in tqdm(x_train['processed_text'].values):\n",
    "    count = 0\n",
    "    sent_vect = np.zeros(shape=300)\n",
    "    for word in sent.split():\n",
    "        if word in vocab:\n",
    "            word_vec = w2v.wv.get_vector(word)\n",
    "            sent_vect += word_vec\n",
    "            count = count + 1\n",
    "    if count != 0:\n",
    "        avg_sent_vec = (sent_vect/count)\n",
    "    \n",
    "    sen_list_train.append(avg_sent_vec)"
   ]
  },
  {
   "cell_type": "markdown",
   "metadata": {},
   "source": [
    "## Avg W2V for the Test data\n"
   ]
  },
  {
   "cell_type": "code",
   "execution_count": 30,
   "metadata": {},
   "outputs": [
    {
     "name": "stderr",
     "output_type": "stream",
     "text": [
      "100%|███████████████████████████████████| 20000/20000 [01:26<00:00, 230.91it/s]\n"
     ]
    }
   ],
   "source": [
    "# As the text data is unseen data we are using the same w2v model that we have trained for Training data\n",
    "\n",
    "vocab = list(w2v.wv.vocab.keys())\n",
    "\n",
    "sen_list_test = []\n",
    "for sent in tqdm(x_test['processed_text'].values):\n",
    "    count = 0\n",
    "    sent_vect = np.zeros(shape=300)\n",
    "    for word in sent.split():\n",
    "        if word in vocab:\n",
    "            word_vec = w2v.wv.get_vector(word)\n",
    "            sent_vect += word_vec\n",
    "            count = count + 1\n",
    "    if count != 0:\n",
    "        avg_sent_vec = sent_vect/count\n",
    "    \n",
    "    sen_list_test.append(avg_sent_vec)"
   ]
  },
  {
   "cell_type": "code",
   "execution_count": 31,
   "metadata": {},
   "outputs": [],
   "source": [
    "training_data = pd.concat([x_train.reset_index(drop=True), pd.DataFrame(sen_list_train)] , axis=1)"
   ]
  },
  {
   "cell_type": "code",
   "execution_count": 32,
   "metadata": {},
   "outputs": [
    {
     "name": "stdout",
     "output_type": "stream",
     "text": [
      "The shape of Training data is (80000, 319)\n"
     ]
    },
    {
     "data": {
      "text/html": [
       "<div>\n",
       "<style scoped>\n",
       "    .dataframe tbody tr th:only-of-type {\n",
       "        vertical-align: middle;\n",
       "    }\n",
       "\n",
       "    .dataframe tbody tr th {\n",
       "        vertical-align: top;\n",
       "    }\n",
       "\n",
       "    .dataframe thead th {\n",
       "        text-align: right;\n",
       "    }\n",
       "</style>\n",
       "<table border=\"1\" class=\"dataframe\">\n",
       "  <thead>\n",
       "    <tr style=\"text-align: right;\">\n",
       "      <th></th>\n",
       "      <th>Unnamed: 0</th>\n",
       "      <th>Id</th>\n",
       "      <th>ProductId</th>\n",
       "      <th>UserId</th>\n",
       "      <th>ProfileName</th>\n",
       "      <th>HelpfulnessNumerator</th>\n",
       "      <th>HelpfulnessDenominator</th>\n",
       "      <th>Score</th>\n",
       "      <th>Time</th>\n",
       "      <th>Summary</th>\n",
       "      <th>...</th>\n",
       "      <th>290</th>\n",
       "      <th>291</th>\n",
       "      <th>292</th>\n",
       "      <th>293</th>\n",
       "      <th>294</th>\n",
       "      <th>295</th>\n",
       "      <th>296</th>\n",
       "      <th>297</th>\n",
       "      <th>298</th>\n",
       "      <th>299</th>\n",
       "    </tr>\n",
       "  </thead>\n",
       "  <tbody>\n",
       "    <tr>\n",
       "      <th>0</th>\n",
       "      <td>68961</td>\n",
       "      <td>150223</td>\n",
       "      <td>B000HQO2E2</td>\n",
       "      <td>ARRLR2TGELGLO</td>\n",
       "      <td>kendee</td>\n",
       "      <td>0</td>\n",
       "      <td>0</td>\n",
       "      <td>0</td>\n",
       "      <td>1256601600</td>\n",
       "      <td>Not impressed</td>\n",
       "      <td>...</td>\n",
       "      <td>0.070027</td>\n",
       "      <td>-0.018702</td>\n",
       "      <td>0.366816</td>\n",
       "      <td>-0.069523</td>\n",
       "      <td>-0.370466</td>\n",
       "      <td>0.328197</td>\n",
       "      <td>0.217862</td>\n",
       "      <td>-0.131426</td>\n",
       "      <td>-0.174153</td>\n",
       "      <td>-0.227579</td>\n",
       "    </tr>\n",
       "    <tr>\n",
       "      <th>1</th>\n",
       "      <td>60938</td>\n",
       "      <td>81336</td>\n",
       "      <td>B002LBTIJA</td>\n",
       "      <td>A183QRP0E58O93</td>\n",
       "      <td>Stephen D. Conley</td>\n",
       "      <td>0</td>\n",
       "      <td>3</td>\n",
       "      <td>0</td>\n",
       "      <td>1329264000</td>\n",
       "      <td>Too expensive</td>\n",
       "      <td>...</td>\n",
       "      <td>-0.588857</td>\n",
       "      <td>0.179788</td>\n",
       "      <td>0.480371</td>\n",
       "      <td>0.126405</td>\n",
       "      <td>-0.040305</td>\n",
       "      <td>0.542755</td>\n",
       "      <td>0.032614</td>\n",
       "      <td>-0.252434</td>\n",
       "      <td>0.254945</td>\n",
       "      <td>0.329228</td>\n",
       "    </tr>\n",
       "    <tr>\n",
       "      <th>2</th>\n",
       "      <td>78948</td>\n",
       "      <td>248360</td>\n",
       "      <td>B001SAY7PU</td>\n",
       "      <td>A3D6OI36USYOU1</td>\n",
       "      <td>Ghenghis</td>\n",
       "      <td>0</td>\n",
       "      <td>0</td>\n",
       "      <td>0</td>\n",
       "      <td>1305763200</td>\n",
       "      <td>Sylvia, I love ya babe, BUT.......</td>\n",
       "      <td>...</td>\n",
       "      <td>-0.044567</td>\n",
       "      <td>0.125375</td>\n",
       "      <td>0.146129</td>\n",
       "      <td>-0.266848</td>\n",
       "      <td>-0.101631</td>\n",
       "      <td>0.333738</td>\n",
       "      <td>0.057897</td>\n",
       "      <td>0.068607</td>\n",
       "      <td>0.239540</td>\n",
       "      <td>0.143338</td>\n",
       "    </tr>\n",
       "    <tr>\n",
       "      <th>3</th>\n",
       "      <td>74558</td>\n",
       "      <td>206561</td>\n",
       "      <td>B000OS8RKS</td>\n",
       "      <td>A27048ATP16PYN</td>\n",
       "      <td>Unhappy in LA</td>\n",
       "      <td>2</td>\n",
       "      <td>2</td>\n",
       "      <td>0</td>\n",
       "      <td>1340582400</td>\n",
       "      <td>Not product ordered and scam</td>\n",
       "      <td>...</td>\n",
       "      <td>-0.154266</td>\n",
       "      <td>0.247175</td>\n",
       "      <td>0.361915</td>\n",
       "      <td>0.057489</td>\n",
       "      <td>-0.378733</td>\n",
       "      <td>0.218306</td>\n",
       "      <td>0.041255</td>\n",
       "      <td>0.051122</td>\n",
       "      <td>-0.009440</td>\n",
       "      <td>-0.019562</td>\n",
       "    </tr>\n",
       "    <tr>\n",
       "      <th>4</th>\n",
       "      <td>39402</td>\n",
       "      <td>55624</td>\n",
       "      <td>B004CYLW7A</td>\n",
       "      <td>AFHYEO3Y1IIDD</td>\n",
       "      <td>maximum verbosity</td>\n",
       "      <td>2</td>\n",
       "      <td>3</td>\n",
       "      <td>1</td>\n",
       "      <td>1296432000</td>\n",
       "      <td>Just as described - delicious</td>\n",
       "      <td>...</td>\n",
       "      <td>-0.017637</td>\n",
       "      <td>-0.078636</td>\n",
       "      <td>0.269956</td>\n",
       "      <td>-0.307135</td>\n",
       "      <td>-0.007103</td>\n",
       "      <td>0.088204</td>\n",
       "      <td>0.368698</td>\n",
       "      <td>-0.107696</td>\n",
       "      <td>-0.036439</td>\n",
       "      <td>-0.161973</td>\n",
       "    </tr>\n",
       "  </tbody>\n",
       "</table>\n",
       "<p>5 rows × 319 columns</p>\n",
       "</div>"
      ],
      "text/plain": [
       "   Unnamed: 0      Id   ProductId          UserId        ProfileName  \\\n",
       "0       68961  150223  B000HQO2E2   ARRLR2TGELGLO             kendee   \n",
       "1       60938   81336  B002LBTIJA  A183QRP0E58O93  Stephen D. Conley   \n",
       "2       78948  248360  B001SAY7PU  A3D6OI36USYOU1           Ghenghis   \n",
       "3       74558  206561  B000OS8RKS  A27048ATP16PYN      Unhappy in LA   \n",
       "4       39402   55624  B004CYLW7A   AFHYEO3Y1IIDD  maximum verbosity   \n",
       "\n",
       "   HelpfulnessNumerator  HelpfulnessDenominator  Score        Time  \\\n",
       "0                     0                       0      0  1256601600   \n",
       "1                     0                       3      0  1329264000   \n",
       "2                     0                       0      0  1305763200   \n",
       "3                     2                       2      0  1340582400   \n",
       "4                     2                       3      1  1296432000   \n",
       "\n",
       "                              Summary  ...       290       291       292  \\\n",
       "0                       Not impressed  ...  0.070027 -0.018702  0.366816   \n",
       "1                       Too expensive  ... -0.588857  0.179788  0.480371   \n",
       "2  Sylvia, I love ya babe, BUT.......  ... -0.044567  0.125375  0.146129   \n",
       "3        Not product ordered and scam  ... -0.154266  0.247175  0.361915   \n",
       "4       Just as described - delicious  ... -0.017637 -0.078636  0.269956   \n",
       "\n",
       "        293       294       295       296       297       298       299  \n",
       "0 -0.069523 -0.370466  0.328197  0.217862 -0.131426 -0.174153 -0.227579  \n",
       "1  0.126405 -0.040305  0.542755  0.032614 -0.252434  0.254945  0.329228  \n",
       "2 -0.266848 -0.101631  0.333738  0.057897  0.068607  0.239540  0.143338  \n",
       "3  0.057489 -0.378733  0.218306  0.041255  0.051122 -0.009440 -0.019562  \n",
       "4 -0.307135 -0.007103  0.088204  0.368698 -0.107696 -0.036439 -0.161973  \n",
       "\n",
       "[5 rows x 319 columns]"
      ]
     },
     "execution_count": 32,
     "metadata": {},
     "output_type": "execute_result"
    }
   ],
   "source": [
    "print(\"The shape of Training data is\",training_data.shape)\n",
    "training_data.head()"
   ]
  },
  {
   "cell_type": "code",
   "execution_count": 33,
   "metadata": {},
   "outputs": [
    {
     "name": "stdout",
     "output_type": "stream",
     "text": [
      "The shape of Testing data is (20000, 319)\n"
     ]
    },
    {
     "data": {
      "text/html": [
       "<div>\n",
       "<style scoped>\n",
       "    .dataframe tbody tr th:only-of-type {\n",
       "        vertical-align: middle;\n",
       "    }\n",
       "\n",
       "    .dataframe tbody tr th {\n",
       "        vertical-align: top;\n",
       "    }\n",
       "\n",
       "    .dataframe thead th {\n",
       "        text-align: right;\n",
       "    }\n",
       "</style>\n",
       "<table border=\"1\" class=\"dataframe\">\n",
       "  <thead>\n",
       "    <tr style=\"text-align: right;\">\n",
       "      <th></th>\n",
       "      <th>Unnamed: 0</th>\n",
       "      <th>Id</th>\n",
       "      <th>ProductId</th>\n",
       "      <th>UserId</th>\n",
       "      <th>ProfileName</th>\n",
       "      <th>HelpfulnessNumerator</th>\n",
       "      <th>HelpfulnessDenominator</th>\n",
       "      <th>Score</th>\n",
       "      <th>Time</th>\n",
       "      <th>Summary</th>\n",
       "      <th>...</th>\n",
       "      <th>290</th>\n",
       "      <th>291</th>\n",
       "      <th>292</th>\n",
       "      <th>293</th>\n",
       "      <th>294</th>\n",
       "      <th>295</th>\n",
       "      <th>296</th>\n",
       "      <th>297</th>\n",
       "      <th>298</th>\n",
       "      <th>299</th>\n",
       "    </tr>\n",
       "  </thead>\n",
       "  <tbody>\n",
       "    <tr>\n",
       "      <th>0</th>\n",
       "      <td>10567</td>\n",
       "      <td>14329</td>\n",
       "      <td>B001CWV4PA</td>\n",
       "      <td>A2U9ZFAF33I7IT</td>\n",
       "      <td>yellow m&amp;m \"yellow m&amp;m\"</td>\n",
       "      <td>0</td>\n",
       "      <td>0</td>\n",
       "      <td>1</td>\n",
       "      <td>1342310400</td>\n",
       "      <td>Glutino Crackers</td>\n",
       "      <td>...</td>\n",
       "      <td>0.367218</td>\n",
       "      <td>-0.363285</td>\n",
       "      <td>-0.016205</td>\n",
       "      <td>0.045589</td>\n",
       "      <td>-0.056540</td>\n",
       "      <td>0.095908</td>\n",
       "      <td>-0.034503</td>\n",
       "      <td>0.543253</td>\n",
       "      <td>0.097172</td>\n",
       "      <td>0.149714</td>\n",
       "    </tr>\n",
       "    <tr>\n",
       "      <th>1</th>\n",
       "      <td>59623</td>\n",
       "      <td>70703</td>\n",
       "      <td>B001LQNUPO</td>\n",
       "      <td>A1D1D35O0MDM1T</td>\n",
       "      <td>Retired2AZ</td>\n",
       "      <td>0</td>\n",
       "      <td>1</td>\n",
       "      <td>0</td>\n",
       "      <td>1312416000</td>\n",
       "      <td>Not for all espresso machines</td>\n",
       "      <td>...</td>\n",
       "      <td>-0.407701</td>\n",
       "      <td>0.074162</td>\n",
       "      <td>0.116994</td>\n",
       "      <td>0.198357</td>\n",
       "      <td>-0.122010</td>\n",
       "      <td>0.821065</td>\n",
       "      <td>-0.454192</td>\n",
       "      <td>0.305813</td>\n",
       "      <td>-0.225439</td>\n",
       "      <td>-0.318302</td>\n",
       "    </tr>\n",
       "    <tr>\n",
       "      <th>2</th>\n",
       "      <td>9364</td>\n",
       "      <td>12780</td>\n",
       "      <td>B0030MNHEG</td>\n",
       "      <td>AKBGBE9H1C0L6</td>\n",
       "      <td>Tanooki-san</td>\n",
       "      <td>0</td>\n",
       "      <td>0</td>\n",
       "      <td>1</td>\n",
       "      <td>1344211200</td>\n",
       "      <td>Good Stuff</td>\n",
       "      <td>...</td>\n",
       "      <td>-0.062280</td>\n",
       "      <td>0.157440</td>\n",
       "      <td>0.127656</td>\n",
       "      <td>0.092755</td>\n",
       "      <td>-0.243243</td>\n",
       "      <td>0.221182</td>\n",
       "      <td>0.224094</td>\n",
       "      <td>0.020539</td>\n",
       "      <td>0.003981</td>\n",
       "      <td>0.176744</td>\n",
       "    </tr>\n",
       "    <tr>\n",
       "      <th>3</th>\n",
       "      <td>54724</td>\n",
       "      <td>34336</td>\n",
       "      <td>B001P3NU30</td>\n",
       "      <td>A3B2HH9SQEQPT7</td>\n",
       "      <td>Graymare</td>\n",
       "      <td>1</td>\n",
       "      <td>1</td>\n",
       "      <td>0</td>\n",
       "      <td>1296950400</td>\n",
       "      <td>Inconsistent Thickness a BIG Problem</td>\n",
       "      <td>...</td>\n",
       "      <td>0.007337</td>\n",
       "      <td>0.043260</td>\n",
       "      <td>0.039784</td>\n",
       "      <td>-0.508197</td>\n",
       "      <td>-0.276086</td>\n",
       "      <td>0.417634</td>\n",
       "      <td>0.178045</td>\n",
       "      <td>-0.328886</td>\n",
       "      <td>0.117633</td>\n",
       "      <td>-0.068083</td>\n",
       "    </tr>\n",
       "    <tr>\n",
       "      <th>4</th>\n",
       "      <td>2976</td>\n",
       "      <td>3882</td>\n",
       "      <td>B003159ETE</td>\n",
       "      <td>A1Y693GFN95CTS</td>\n",
       "      <td>virginiab</td>\n",
       "      <td>1</td>\n",
       "      <td>1</td>\n",
       "      <td>1</td>\n",
       "      <td>1318982400</td>\n",
       "      <td>Nice polyvalent spice</td>\n",
       "      <td>...</td>\n",
       "      <td>-0.229120</td>\n",
       "      <td>-0.010432</td>\n",
       "      <td>0.148757</td>\n",
       "      <td>-0.055052</td>\n",
       "      <td>-0.019289</td>\n",
       "      <td>0.178807</td>\n",
       "      <td>0.185584</td>\n",
       "      <td>0.031787</td>\n",
       "      <td>-0.084846</td>\n",
       "      <td>0.262250</td>\n",
       "    </tr>\n",
       "  </tbody>\n",
       "</table>\n",
       "<p>5 rows × 319 columns</p>\n",
       "</div>"
      ],
      "text/plain": [
       "   Unnamed: 0     Id   ProductId          UserId              ProfileName  \\\n",
       "0       10567  14329  B001CWV4PA  A2U9ZFAF33I7IT  yellow m&m \"yellow m&m\"   \n",
       "1       59623  70703  B001LQNUPO  A1D1D35O0MDM1T               Retired2AZ   \n",
       "2        9364  12780  B0030MNHEG   AKBGBE9H1C0L6              Tanooki-san   \n",
       "3       54724  34336  B001P3NU30  A3B2HH9SQEQPT7                 Graymare   \n",
       "4        2976   3882  B003159ETE  A1Y693GFN95CTS                virginiab   \n",
       "\n",
       "   HelpfulnessNumerator  HelpfulnessDenominator  Score        Time  \\\n",
       "0                     0                       0      1  1342310400   \n",
       "1                     0                       1      0  1312416000   \n",
       "2                     0                       0      1  1344211200   \n",
       "3                     1                       1      0  1296950400   \n",
       "4                     1                       1      1  1318982400   \n",
       "\n",
       "                                Summary  ...       290       291       292  \\\n",
       "0                      Glutino Crackers  ...  0.367218 -0.363285 -0.016205   \n",
       "1         Not for all espresso machines  ... -0.407701  0.074162  0.116994   \n",
       "2                            Good Stuff  ... -0.062280  0.157440  0.127656   \n",
       "3  Inconsistent Thickness a BIG Problem  ...  0.007337  0.043260  0.039784   \n",
       "4                 Nice polyvalent spice  ... -0.229120 -0.010432  0.148757   \n",
       "\n",
       "        293       294       295       296       297       298       299  \n",
       "0  0.045589 -0.056540  0.095908 -0.034503  0.543253  0.097172  0.149714  \n",
       "1  0.198357 -0.122010  0.821065 -0.454192  0.305813 -0.225439 -0.318302  \n",
       "2  0.092755 -0.243243  0.221182  0.224094  0.020539  0.003981  0.176744  \n",
       "3 -0.508197 -0.276086  0.417634  0.178045 -0.328886  0.117633 -0.068083  \n",
       "4 -0.055052 -0.019289  0.178807  0.185584  0.031787 -0.084846  0.262250  \n",
       "\n",
       "[5 rows x 319 columns]"
      ]
     },
     "execution_count": 33,
     "metadata": {},
     "output_type": "execute_result"
    }
   ],
   "source": [
    "testing_data = pd.concat([x_test.reset_index(drop=True), pd.DataFrame(sen_list_test)] , axis=1)\n",
    "\n",
    "print(\"The shape of Testing data is\",testing_data.shape)\n",
    "testing_data.head()"
   ]
  },
  {
   "cell_type": "code",
   "execution_count": 34,
   "metadata": {},
   "outputs": [
    {
     "name": "stdout",
     "output_type": "stream",
     "text": [
      "The shape of Testing data is (20000, 306)\n",
      "The shape of Training data is (80000, 306)\n"
     ]
    }
   ],
   "source": [
    "#Droping unused columns from the training and Testing data:\n",
    "\n",
    "training_data = training_data.drop(labels=['Unnamed: 0','Id','ProductId','UserId','ProfileName','HelpfulnessNumerator',\\\n",
    "    'HelpfulnessDenominator','Score','Time','Summary','Text', 'Comment','processed_text'], axis=1)\n",
    "\n",
    "testing_data = testing_data.drop(labels=['Unnamed: 0','Id','ProductId','UserId','ProfileName','HelpfulnessNumerator',\\\n",
    "    'HelpfulnessDenominator','Score','Time','Summary','Text', 'Comment','processed_text'], axis=1)\n",
    "\n",
    "print(\"The shape of Testing data is\",testing_data.shape)\n",
    "print(\"The shape of Training data is\",training_data.shape)"
   ]
  },
  {
   "cell_type": "code",
   "execution_count": 35,
   "metadata": {},
   "outputs": [
    {
     "data": {
      "text/html": [
       "<div>\n",
       "<style scoped>\n",
       "    .dataframe tbody tr th:only-of-type {\n",
       "        vertical-align: middle;\n",
       "    }\n",
       "\n",
       "    .dataframe tbody tr th {\n",
       "        vertical-align: top;\n",
       "    }\n",
       "\n",
       "    .dataframe thead th {\n",
       "        text-align: right;\n",
       "    }\n",
       "</style>\n",
       "<table border=\"1\" class=\"dataframe\">\n",
       "  <thead>\n",
       "    <tr style=\"text-align: right;\">\n",
       "      <th></th>\n",
       "      <th>Summary_count</th>\n",
       "      <th>Text_count</th>\n",
       "      <th>Summary_length</th>\n",
       "      <th>Text_length</th>\n",
       "      <th>Comment_count</th>\n",
       "      <th>Comment_length</th>\n",
       "      <th>0</th>\n",
       "      <th>1</th>\n",
       "      <th>2</th>\n",
       "      <th>3</th>\n",
       "      <th>...</th>\n",
       "      <th>290</th>\n",
       "      <th>291</th>\n",
       "      <th>292</th>\n",
       "      <th>293</th>\n",
       "      <th>294</th>\n",
       "      <th>295</th>\n",
       "      <th>296</th>\n",
       "      <th>297</th>\n",
       "      <th>298</th>\n",
       "      <th>299</th>\n",
       "    </tr>\n",
       "  </thead>\n",
       "  <tbody>\n",
       "    <tr>\n",
       "      <th>0</th>\n",
       "      <td>2</td>\n",
       "      <td>41</td>\n",
       "      <td>13</td>\n",
       "      <td>220</td>\n",
       "      <td>43</td>\n",
       "      <td>234</td>\n",
       "      <td>0.061212</td>\n",
       "      <td>0.042148</td>\n",
       "      <td>0.270605</td>\n",
       "      <td>-0.012365</td>\n",
       "      <td>...</td>\n",
       "      <td>0.070027</td>\n",
       "      <td>-0.018702</td>\n",
       "      <td>0.366816</td>\n",
       "      <td>-0.069523</td>\n",
       "      <td>-0.370466</td>\n",
       "      <td>0.328197</td>\n",
       "      <td>0.217862</td>\n",
       "      <td>-0.131426</td>\n",
       "      <td>-0.174153</td>\n",
       "      <td>-0.227579</td>\n",
       "    </tr>\n",
       "    <tr>\n",
       "      <th>1</th>\n",
       "      <td>2</td>\n",
       "      <td>24</td>\n",
       "      <td>13</td>\n",
       "      <td>143</td>\n",
       "      <td>26</td>\n",
       "      <td>157</td>\n",
       "      <td>-0.505223</td>\n",
       "      <td>0.674694</td>\n",
       "      <td>0.817039</td>\n",
       "      <td>-0.620096</td>\n",
       "      <td>...</td>\n",
       "      <td>-0.588857</td>\n",
       "      <td>0.179788</td>\n",
       "      <td>0.480371</td>\n",
       "      <td>0.126405</td>\n",
       "      <td>-0.040305</td>\n",
       "      <td>0.542755</td>\n",
       "      <td>0.032614</td>\n",
       "      <td>-0.252434</td>\n",
       "      <td>0.254945</td>\n",
       "      <td>0.329228</td>\n",
       "    </tr>\n",
       "    <tr>\n",
       "      <th>2</th>\n",
       "      <td>6</td>\n",
       "      <td>91</td>\n",
       "      <td>34</td>\n",
       "      <td>518</td>\n",
       "      <td>97</td>\n",
       "      <td>553</td>\n",
       "      <td>0.049025</td>\n",
       "      <td>0.082701</td>\n",
       "      <td>-0.010751</td>\n",
       "      <td>-0.143729</td>\n",
       "      <td>...</td>\n",
       "      <td>-0.044567</td>\n",
       "      <td>0.125375</td>\n",
       "      <td>0.146129</td>\n",
       "      <td>-0.266848</td>\n",
       "      <td>-0.101631</td>\n",
       "      <td>0.333738</td>\n",
       "      <td>0.057897</td>\n",
       "      <td>0.068607</td>\n",
       "      <td>0.239540</td>\n",
       "      <td>0.143338</td>\n",
       "    </tr>\n",
       "    <tr>\n",
       "      <th>3</th>\n",
       "      <td>5</td>\n",
       "      <td>135</td>\n",
       "      <td>28</td>\n",
       "      <td>805</td>\n",
       "      <td>140</td>\n",
       "      <td>834</td>\n",
       "      <td>-0.212540</td>\n",
       "      <td>0.157405</td>\n",
       "      <td>0.256945</td>\n",
       "      <td>-0.255017</td>\n",
       "      <td>...</td>\n",
       "      <td>-0.154266</td>\n",
       "      <td>0.247175</td>\n",
       "      <td>0.361915</td>\n",
       "      <td>0.057489</td>\n",
       "      <td>-0.378733</td>\n",
       "      <td>0.218306</td>\n",
       "      <td>0.041255</td>\n",
       "      <td>0.051122</td>\n",
       "      <td>-0.009440</td>\n",
       "      <td>-0.019562</td>\n",
       "    </tr>\n",
       "    <tr>\n",
       "      <th>4</th>\n",
       "      <td>5</td>\n",
       "      <td>109</td>\n",
       "      <td>29</td>\n",
       "      <td>569</td>\n",
       "      <td>114</td>\n",
       "      <td>599</td>\n",
       "      <td>-0.040934</td>\n",
       "      <td>0.437921</td>\n",
       "      <td>0.422594</td>\n",
       "      <td>-0.194429</td>\n",
       "      <td>...</td>\n",
       "      <td>-0.017637</td>\n",
       "      <td>-0.078636</td>\n",
       "      <td>0.269956</td>\n",
       "      <td>-0.307135</td>\n",
       "      <td>-0.007103</td>\n",
       "      <td>0.088204</td>\n",
       "      <td>0.368698</td>\n",
       "      <td>-0.107696</td>\n",
       "      <td>-0.036439</td>\n",
       "      <td>-0.161973</td>\n",
       "    </tr>\n",
       "  </tbody>\n",
       "</table>\n",
       "<p>5 rows × 306 columns</p>\n",
       "</div>"
      ],
      "text/plain": [
       "   Summary_count  Text_count  Summary_length  Text_length  Comment_count  \\\n",
       "0              2          41              13          220             43   \n",
       "1              2          24              13          143             26   \n",
       "2              6          91              34          518             97   \n",
       "3              5         135              28          805            140   \n",
       "4              5         109              29          569            114   \n",
       "\n",
       "   Comment_length         0         1         2         3  ...       290  \\\n",
       "0             234  0.061212  0.042148  0.270605 -0.012365  ...  0.070027   \n",
       "1             157 -0.505223  0.674694  0.817039 -0.620096  ... -0.588857   \n",
       "2             553  0.049025  0.082701 -0.010751 -0.143729  ... -0.044567   \n",
       "3             834 -0.212540  0.157405  0.256945 -0.255017  ... -0.154266   \n",
       "4             599 -0.040934  0.437921  0.422594 -0.194429  ... -0.017637   \n",
       "\n",
       "        291       292       293       294       295       296       297  \\\n",
       "0 -0.018702  0.366816 -0.069523 -0.370466  0.328197  0.217862 -0.131426   \n",
       "1  0.179788  0.480371  0.126405 -0.040305  0.542755  0.032614 -0.252434   \n",
       "2  0.125375  0.146129 -0.266848 -0.101631  0.333738  0.057897  0.068607   \n",
       "3  0.247175  0.361915  0.057489 -0.378733  0.218306  0.041255  0.051122   \n",
       "4 -0.078636  0.269956 -0.307135 -0.007103  0.088204  0.368698 -0.107696   \n",
       "\n",
       "        298       299  \n",
       "0 -0.174153 -0.227579  \n",
       "1  0.254945  0.329228  \n",
       "2  0.239540  0.143338  \n",
       "3 -0.009440 -0.019562  \n",
       "4 -0.036439 -0.161973  \n",
       "\n",
       "[5 rows x 306 columns]"
      ]
     },
     "execution_count": 35,
     "metadata": {},
     "output_type": "execute_result"
    }
   ],
   "source": [
    "training_data.head()"
   ]
  },
  {
   "cell_type": "markdown",
   "metadata": {},
   "source": [
    "## Data Preprocessing of W2V data"
   ]
  },
  {
   "cell_type": "code",
   "execution_count": 36,
   "metadata": {},
   "outputs": [],
   "source": [
    "# Standardization of data\n",
    "\n",
    "from sklearn.preprocessing import StandardScaler\n",
    "scale = StandardScaler()\n",
    "training_data_scaled= pd.DataFrame(scale.fit_transform(training_data), columns=training_data.columns)"
   ]
  },
  {
   "cell_type": "code",
   "execution_count": 37,
   "metadata": {},
   "outputs": [
    {
     "data": {
      "text/html": [
       "<div>\n",
       "<style scoped>\n",
       "    .dataframe tbody tr th:only-of-type {\n",
       "        vertical-align: middle;\n",
       "    }\n",
       "\n",
       "    .dataframe tbody tr th {\n",
       "        vertical-align: top;\n",
       "    }\n",
       "\n",
       "    .dataframe thead th {\n",
       "        text-align: right;\n",
       "    }\n",
       "</style>\n",
       "<table border=\"1\" class=\"dataframe\">\n",
       "  <thead>\n",
       "    <tr style=\"text-align: right;\">\n",
       "      <th></th>\n",
       "      <th>Summary_count</th>\n",
       "      <th>Text_count</th>\n",
       "      <th>Summary_length</th>\n",
       "      <th>Text_length</th>\n",
       "      <th>Comment_count</th>\n",
       "      <th>Comment_length</th>\n",
       "      <th>0</th>\n",
       "      <th>1</th>\n",
       "      <th>2</th>\n",
       "      <th>3</th>\n",
       "      <th>...</th>\n",
       "      <th>290</th>\n",
       "      <th>291</th>\n",
       "      <th>292</th>\n",
       "      <th>293</th>\n",
       "      <th>294</th>\n",
       "      <th>295</th>\n",
       "      <th>296</th>\n",
       "      <th>297</th>\n",
       "      <th>298</th>\n",
       "      <th>299</th>\n",
       "    </tr>\n",
       "  </thead>\n",
       "  <tbody>\n",
       "    <tr>\n",
       "      <th>0</th>\n",
       "      <td>-0.810523</td>\n",
       "      <td>-0.523236</td>\n",
       "      <td>-0.745542</td>\n",
       "      <td>-0.512896</td>\n",
       "      <td>-0.545531</td>\n",
       "      <td>-0.531854</td>\n",
       "      <td>0.168426</td>\n",
       "      <td>-0.644223</td>\n",
       "      <td>0.136040</td>\n",
       "      <td>1.132880</td>\n",
       "      <td>...</td>\n",
       "      <td>0.275145</td>\n",
       "      <td>-0.525459</td>\n",
       "      <td>0.853463</td>\n",
       "      <td>0.576922</td>\n",
       "      <td>-1.095644</td>\n",
       "      <td>0.563291</td>\n",
       "      <td>-0.046588</td>\n",
       "      <td>-0.703179</td>\n",
       "      <td>-0.896215</td>\n",
       "      <td>-0.754146</td>\n",
       "    </tr>\n",
       "    <tr>\n",
       "      <th>1</th>\n",
       "      <td>-0.810523</td>\n",
       "      <td>-0.740190</td>\n",
       "      <td>-0.745542</td>\n",
       "      <td>-0.686697</td>\n",
       "      <td>-0.760420</td>\n",
       "      <td>-0.703969</td>\n",
       "      <td>-2.459741</td>\n",
       "      <td>2.790018</td>\n",
       "      <td>2.300601</td>\n",
       "      <td>-2.397385</td>\n",
       "      <td>...</td>\n",
       "      <td>-2.738051</td>\n",
       "      <td>0.439554</td>\n",
       "      <td>1.349233</td>\n",
       "      <td>1.315070</td>\n",
       "      <td>0.749578</td>\n",
       "      <td>1.605985</td>\n",
       "      <td>-0.999523</td>\n",
       "      <td>-1.311287</td>\n",
       "      <td>1.048880</td>\n",
       "      <td>2.242253</td>\n",
       "    </tr>\n",
       "    <tr>\n",
       "      <th>2</th>\n",
       "      <td>0.691976</td>\n",
       "      <td>0.114864</td>\n",
       "      <td>0.716979</td>\n",
       "      <td>0.159734</td>\n",
       "      <td>0.137057</td>\n",
       "      <td>0.181197</td>\n",
       "      <td>0.111883</td>\n",
       "      <td>-0.424047</td>\n",
       "      <td>-0.978481</td>\n",
       "      <td>0.369797</td>\n",
       "      <td>...</td>\n",
       "      <td>-0.248913</td>\n",
       "      <td>0.175013</td>\n",
       "      <td>-0.110028</td>\n",
       "      <td>-0.166493</td>\n",
       "      <td>0.406835</td>\n",
       "      <td>0.590219</td>\n",
       "      <td>-0.869466</td>\n",
       "      <td>0.302061</td>\n",
       "      <td>0.979048</td>\n",
       "      <td>1.241907</td>\n",
       "    </tr>\n",
       "    <tr>\n",
       "      <th>3</th>\n",
       "      <td>0.316351</td>\n",
       "      <td>0.676393</td>\n",
       "      <td>0.299116</td>\n",
       "      <td>0.807535</td>\n",
       "      <td>0.680600</td>\n",
       "      <td>0.809308</td>\n",
       "      <td>-1.101737</td>\n",
       "      <td>-0.018466</td>\n",
       "      <td>0.081932</td>\n",
       "      <td>-0.276668</td>\n",
       "      <td>...</td>\n",
       "      <td>-0.750591</td>\n",
       "      <td>0.767179</td>\n",
       "      <td>0.832068</td>\n",
       "      <td>1.055432</td>\n",
       "      <td>-1.141845</td>\n",
       "      <td>0.029247</td>\n",
       "      <td>-0.955069</td>\n",
       "      <td>0.214191</td>\n",
       "      <td>-0.149573</td>\n",
       "      <td>0.365277</td>\n",
       "    </tr>\n",
       "    <tr>\n",
       "      <th>4</th>\n",
       "      <td>0.316351</td>\n",
       "      <td>0.344581</td>\n",
       "      <td>0.368760</td>\n",
       "      <td>0.274848</td>\n",
       "      <td>0.351946</td>\n",
       "      <td>0.284020</td>\n",
       "      <td>-0.305516</td>\n",
       "      <td>1.504522</td>\n",
       "      <td>0.738106</td>\n",
       "      <td>0.075282</td>\n",
       "      <td>...</td>\n",
       "      <td>-0.125760</td>\n",
       "      <td>-0.816841</td>\n",
       "      <td>0.430587</td>\n",
       "      <td>-0.318275</td>\n",
       "      <td>0.935135</td>\n",
       "      <td>-0.603017</td>\n",
       "      <td>0.729323</td>\n",
       "      <td>-0.583930</td>\n",
       "      <td>-0.271957</td>\n",
       "      <td>-0.401091</td>\n",
       "    </tr>\n",
       "  </tbody>\n",
       "</table>\n",
       "<p>5 rows × 306 columns</p>\n",
       "</div>"
      ],
      "text/plain": [
       "   Summary_count  Text_count  Summary_length  Text_length  Comment_count  \\\n",
       "0      -0.810523   -0.523236       -0.745542    -0.512896      -0.545531   \n",
       "1      -0.810523   -0.740190       -0.745542    -0.686697      -0.760420   \n",
       "2       0.691976    0.114864        0.716979     0.159734       0.137057   \n",
       "3       0.316351    0.676393        0.299116     0.807535       0.680600   \n",
       "4       0.316351    0.344581        0.368760     0.274848       0.351946   \n",
       "\n",
       "   Comment_length         0         1         2         3  ...       290  \\\n",
       "0       -0.531854  0.168426 -0.644223  0.136040  1.132880  ...  0.275145   \n",
       "1       -0.703969 -2.459741  2.790018  2.300601 -2.397385  ... -2.738051   \n",
       "2        0.181197  0.111883 -0.424047 -0.978481  0.369797  ... -0.248913   \n",
       "3        0.809308 -1.101737 -0.018466  0.081932 -0.276668  ... -0.750591   \n",
       "4        0.284020 -0.305516  1.504522  0.738106  0.075282  ... -0.125760   \n",
       "\n",
       "        291       292       293       294       295       296       297  \\\n",
       "0 -0.525459  0.853463  0.576922 -1.095644  0.563291 -0.046588 -0.703179   \n",
       "1  0.439554  1.349233  1.315070  0.749578  1.605985 -0.999523 -1.311287   \n",
       "2  0.175013 -0.110028 -0.166493  0.406835  0.590219 -0.869466  0.302061   \n",
       "3  0.767179  0.832068  1.055432 -1.141845  0.029247 -0.955069  0.214191   \n",
       "4 -0.816841  0.430587 -0.318275  0.935135 -0.603017  0.729323 -0.583930   \n",
       "\n",
       "        298       299  \n",
       "0 -0.896215 -0.754146  \n",
       "1  1.048880  2.242253  \n",
       "2  0.979048  1.241907  \n",
       "3 -0.149573  0.365277  \n",
       "4 -0.271957 -0.401091  \n",
       "\n",
       "[5 rows x 306 columns]"
      ]
     },
     "execution_count": 37,
     "metadata": {},
     "output_type": "execute_result"
    }
   ],
   "source": [
    "training_data_scaled.head()"
   ]
  },
  {
   "cell_type": "code",
   "execution_count": 38,
   "metadata": {},
   "outputs": [
    {
     "data": {
      "text/html": [
       "<div>\n",
       "<style scoped>\n",
       "    .dataframe tbody tr th:only-of-type {\n",
       "        vertical-align: middle;\n",
       "    }\n",
       "\n",
       "    .dataframe tbody tr th {\n",
       "        vertical-align: top;\n",
       "    }\n",
       "\n",
       "    .dataframe thead th {\n",
       "        text-align: right;\n",
       "    }\n",
       "</style>\n",
       "<table border=\"1\" class=\"dataframe\">\n",
       "  <thead>\n",
       "    <tr style=\"text-align: right;\">\n",
       "      <th></th>\n",
       "      <th>Summary_count</th>\n",
       "      <th>Text_count</th>\n",
       "      <th>Summary_length</th>\n",
       "      <th>Text_length</th>\n",
       "      <th>Comment_count</th>\n",
       "      <th>Comment_length</th>\n",
       "      <th>0</th>\n",
       "      <th>1</th>\n",
       "      <th>2</th>\n",
       "      <th>3</th>\n",
       "      <th>...</th>\n",
       "      <th>290</th>\n",
       "      <th>291</th>\n",
       "      <th>292</th>\n",
       "      <th>293</th>\n",
       "      <th>294</th>\n",
       "      <th>295</th>\n",
       "      <th>296</th>\n",
       "      <th>297</th>\n",
       "      <th>298</th>\n",
       "      <th>299</th>\n",
       "    </tr>\n",
       "  </thead>\n",
       "  <tbody>\n",
       "    <tr>\n",
       "      <th>0</th>\n",
       "      <td>-0.810523</td>\n",
       "      <td>-0.650856</td>\n",
       "      <td>-0.536610</td>\n",
       "      <td>-0.609954</td>\n",
       "      <td>-0.671936</td>\n",
       "      <td>-0.621264</td>\n",
       "      <td>0.212352</td>\n",
       "      <td>0.381748</td>\n",
       "      <td>-0.865732</td>\n",
       "      <td>0.301837</td>\n",
       "      <td>...</td>\n",
       "      <td>1.634252</td>\n",
       "      <td>-2.200743</td>\n",
       "      <td>-0.818759</td>\n",
       "      <td>1.010602</td>\n",
       "      <td>0.658840</td>\n",
       "      <td>-0.565578</td>\n",
       "      <td>-1.344779</td>\n",
       "      <td>2.687329</td>\n",
       "      <td>0.333697</td>\n",
       "      <td>1.276218</td>\n",
       "    </tr>\n",
       "    <tr>\n",
       "      <th>1</th>\n",
       "      <td>0.316351</td>\n",
       "      <td>-0.625332</td>\n",
       "      <td>0.368760</td>\n",
       "      <td>-0.591897</td>\n",
       "      <td>-0.608734</td>\n",
       "      <td>-0.574324</td>\n",
       "      <td>0.787515</td>\n",
       "      <td>-0.481999</td>\n",
       "      <td>2.976413</td>\n",
       "      <td>1.052228</td>\n",
       "      <td>...</td>\n",
       "      <td>-1.909594</td>\n",
       "      <td>-0.073973</td>\n",
       "      <td>-0.237227</td>\n",
       "      <td>1.586147</td>\n",
       "      <td>0.292941</td>\n",
       "      <td>2.958504</td>\n",
       "      <td>-3.503697</td>\n",
       "      <td>1.494108</td>\n",
       "      <td>-1.128693</td>\n",
       "      <td>-1.242362</td>\n",
       "    </tr>\n",
       "    <tr>\n",
       "      <th>2</th>\n",
       "      <td>-0.810523</td>\n",
       "      <td>3.381938</td>\n",
       "      <td>-0.954473</td>\n",
       "      <td>3.123369</td>\n",
       "      <td>3.322471</td>\n",
       "      <td>3.062460</td>\n",
       "      <td>0.923186</td>\n",
       "      <td>-0.053232</td>\n",
       "      <td>-0.365300</td>\n",
       "      <td>0.254443</td>\n",
       "      <td>...</td>\n",
       "      <td>-0.329921</td>\n",
       "      <td>0.330906</td>\n",
       "      <td>-0.190678</td>\n",
       "      <td>1.188297</td>\n",
       "      <td>-0.384616</td>\n",
       "      <td>0.043225</td>\n",
       "      <td>-0.014533</td>\n",
       "      <td>0.060499</td>\n",
       "      <td>-0.088735</td>\n",
       "      <td>1.421678</td>\n",
       "    </tr>\n",
       "    <tr>\n",
       "      <th>3</th>\n",
       "      <td>0.316351</td>\n",
       "      <td>0.714679</td>\n",
       "      <td>0.856267</td>\n",
       "      <td>0.638249</td>\n",
       "      <td>0.718522</td>\n",
       "      <td>0.659545</td>\n",
       "      <td>-0.884877</td>\n",
       "      <td>-0.124482</td>\n",
       "      <td>0.682158</td>\n",
       "      <td>0.079783</td>\n",
       "      <td>...</td>\n",
       "      <td>-0.011549</td>\n",
       "      <td>-0.224211</td>\n",
       "      <td>-0.574320</td>\n",
       "      <td>-1.075766</td>\n",
       "      <td>-0.568169</td>\n",
       "      <td>0.997930</td>\n",
       "      <td>-0.251413</td>\n",
       "      <td>-1.695489</td>\n",
       "      <td>0.426447</td>\n",
       "      <td>0.104167</td>\n",
       "    </tr>\n",
       "    <tr>\n",
       "      <th>4</th>\n",
       "      <td>-0.434898</td>\n",
       "      <td>-0.459426</td>\n",
       "      <td>-0.188391</td>\n",
       "      <td>-0.497096</td>\n",
       "      <td>-0.469688</td>\n",
       "      <td>-0.498325</td>\n",
       "      <td>0.153222</td>\n",
       "      <td>-0.810441</td>\n",
       "      <td>-0.665646</td>\n",
       "      <td>-0.397481</td>\n",
       "      <td>...</td>\n",
       "      <td>-1.092911</td>\n",
       "      <td>-0.485250</td>\n",
       "      <td>-0.098556</td>\n",
       "      <td>0.631441</td>\n",
       "      <td>0.867031</td>\n",
       "      <td>-0.162710</td>\n",
       "      <td>-0.212632</td>\n",
       "      <td>0.117023</td>\n",
       "      <td>-0.491386</td>\n",
       "      <td>1.881817</td>\n",
       "    </tr>\n",
       "  </tbody>\n",
       "</table>\n",
       "<p>5 rows × 306 columns</p>\n",
       "</div>"
      ],
      "text/plain": [
       "   Summary_count  Text_count  Summary_length  Text_length  Comment_count  \\\n",
       "0      -0.810523   -0.650856       -0.536610    -0.609954      -0.671936   \n",
       "1       0.316351   -0.625332        0.368760    -0.591897      -0.608734   \n",
       "2      -0.810523    3.381938       -0.954473     3.123369       3.322471   \n",
       "3       0.316351    0.714679        0.856267     0.638249       0.718522   \n",
       "4      -0.434898   -0.459426       -0.188391    -0.497096      -0.469688   \n",
       "\n",
       "   Comment_length         0         1         2         3  ...       290  \\\n",
       "0       -0.621264  0.212352  0.381748 -0.865732  0.301837  ...  1.634252   \n",
       "1       -0.574324  0.787515 -0.481999  2.976413  1.052228  ... -1.909594   \n",
       "2        3.062460  0.923186 -0.053232 -0.365300  0.254443  ... -0.329921   \n",
       "3        0.659545 -0.884877 -0.124482  0.682158  0.079783  ... -0.011549   \n",
       "4       -0.498325  0.153222 -0.810441 -0.665646 -0.397481  ... -1.092911   \n",
       "\n",
       "        291       292       293       294       295       296       297  \\\n",
       "0 -2.200743 -0.818759  1.010602  0.658840 -0.565578 -1.344779  2.687329   \n",
       "1 -0.073973 -0.237227  1.586147  0.292941  2.958504 -3.503697  1.494108   \n",
       "2  0.330906 -0.190678  1.188297 -0.384616  0.043225 -0.014533  0.060499   \n",
       "3 -0.224211 -0.574320 -1.075766 -0.568169  0.997930 -0.251413 -1.695489   \n",
       "4 -0.485250 -0.098556  0.631441  0.867031 -0.162710 -0.212632  0.117023   \n",
       "\n",
       "        298       299  \n",
       "0  0.333697  1.276218  \n",
       "1 -1.128693 -1.242362  \n",
       "2 -0.088735  1.421678  \n",
       "3  0.426447  0.104167  \n",
       "4 -0.491386  1.881817  \n",
       "\n",
       "[5 rows x 306 columns]"
      ]
     },
     "execution_count": 38,
     "metadata": {},
     "output_type": "execute_result"
    }
   ],
   "source": [
    "testing_data_scaled= pd.DataFrame(scale.transform(testing_data), columns=training_data.columns)\n",
    "testing_data_scaled.head()"
   ]
  },
  {
   "cell_type": "markdown",
   "metadata": {},
   "source": [
    "# Modelling\n",
    "### 1. Naive Bayes on W2V data"
   ]
  },
  {
   "cell_type": "code",
   "execution_count": 39,
   "metadata": {},
   "outputs": [
    {
     "data": {
      "text/plain": [
       "GaussianNB()"
      ]
     },
     "execution_count": 39,
     "metadata": {},
     "output_type": "execute_result"
    }
   ],
   "source": [
    "from sklearn.naive_bayes import GaussianNB\n",
    "n_bayes_w2v = GaussianNB()\n",
    "n_bayes_w2v.fit(training_data_scaled.values, y_train)"
   ]
  },
  {
   "cell_type": "code",
   "execution_count": 40,
   "metadata": {},
   "outputs": [
    {
     "name": "stdout",
     "output_type": "stream",
     "text": [
      "The accuracy score on train data is 0.8237875\n",
      "The accuracy score on test data is 0.8207\n"
     ]
    },
    {
     "data": {
      "image/png": "[encoded data removed]",
      "text/plain": [
       "<Figure size 432x288 with 2 Axes>"
      ]
     },
     "metadata": {
      "needs_background": "light"
     },
     "output_type": "display_data"
    },
    {
     "name": "stdout",
     "output_type": "stream",
     "text": [
      "===========================================================================\n",
      "              precision    recall  f1-score   support\n",
      "\n",
      "           0       0.81      0.84      0.82     10000\n",
      "           1       0.83      0.80      0.82     10000\n",
      "\n",
      "    accuracy                           0.82     20000\n",
      "   macro avg       0.82      0.82      0.82     20000\n",
      "weighted avg       0.82      0.82      0.82     20000\n",
      "\n"
     ]
    }
   ],
   "source": [
    "#Metrics for navie bayes model\n",
    "from sklearn.metrics import log_loss, accuracy_score, auc, roc_auc_score, f1_score, confusion_matrix, classification_report\n",
    "print(\"The accuracy score on train data is\",accuracy_score(y_train, n_bayes_w2v.predict(training_data_scaled)))\n",
    "print(\"The accuracy score on test data is\",accuracy_score(y_test, n_bayes_w2v.predict(testing_data_scaled)))\n",
    "\n",
    "sns.heatmap(confusion_matrix(y_test, n_bayes_w2v.predict(testing_data_scaled)), annot=True, fmt=\"d\", linewidths=1, linecolor=\"black\")\n",
    "plt.xlabel(\"Predicted class\")\n",
    "plt.ylabel(\"Actual class\")\n",
    "plt.title(\"Confusion matrix for Naive Bayes- W2V\")\n",
    "plt.show()\n",
    "print(\"=\"*75)\n",
    "print(classification_report(y_test, n_bayes_w2v.predict(testing_data_scaled)))"
   ]
  },
  {
   "cell_type": "markdown",
   "metadata": {},
   "source": [
    "### 2. Logistic Regression on W2V data"
   ]
  },
  {
   "cell_type": "code",
   "execution_count": 41,
   "metadata": {},
   "outputs": [
    {
     "data": {
      "text/plain": [
       "LogisticRegression(n_jobs=-1)"
      ]
     },
     "execution_count": 41,
     "metadata": {},
     "output_type": "execute_result"
    }
   ],
   "source": [
    "from sklearn.linear_model import LogisticRegression\n",
    "log_reg_w2v = LogisticRegression(n_jobs=-1)\n",
    "log_reg_w2v.fit(training_data_scaled.values, y_train)"
   ]
  },
  {
   "cell_type": "code",
   "execution_count": 42,
   "metadata": {},
   "outputs": [
    {
     "name": "stdout",
     "output_type": "stream",
     "text": [
      "The accuracy score on train data is 0.887075\n",
      "The accuracy score on test data is 0.8841\n"
     ]
    },
    {
     "data": {
      "image/png": "[encoded data removed]",
      "text/plain": [
       "<Figure size 432x288 with 2 Axes>"
      ]
     },
     "metadata": {
      "needs_background": "light"
     },
     "output_type": "display_data"
    },
    {
     "name": "stdout",
     "output_type": "stream",
     "text": [
      "===========================================================================\n",
      "              precision    recall  f1-score   support\n",
      "\n",
      "           0       0.88      0.88      0.88     10000\n",
      "           1       0.88      0.88      0.88     10000\n",
      "\n",
      "    accuracy                           0.88     20000\n",
      "   macro avg       0.88      0.88      0.88     20000\n",
      "weighted avg       0.88      0.88      0.88     20000\n",
      "\n"
     ]
    }
   ],
   "source": [
    "# Metrics for Log Reg model\n",
    "from sklearn.metrics import log_loss, accuracy_score, auc, roc_auc_score, f1_score, confusion_matrix, classification_report\n",
    "print(\"The accuracy score on train data is\",accuracy_score(y_train, log_reg_w2v.predict(training_data_scaled)))\n",
    "print(\"The accuracy score on test data is\",accuracy_score(y_test, log_reg_w2v.predict(testing_data_scaled)))\n",
    "\n",
    "sns.heatmap(confusion_matrix(y_test, log_reg_w2v.predict(testing_data_scaled)), annot=True, fmt=\"d\", linewidths=1, linecolor=\"black\")\n",
    "plt.xlabel(\"Predicted class\")\n",
    "plt.ylabel(\"Actual class\")\n",
    "plt.title(\"Confusion matrix for Logistic Regression - W2V\")\n",
    "plt.show()\n",
    "print(\"=\"*75)\n",
    "print(classification_report(y_test, log_reg_w2v.predict(testing_data_scaled)))"
   ]
  },
  {
   "cell_type": "markdown",
   "metadata": {},
   "source": [
    "### 3. Decision Tree on W2V data"
   ]
  },
  {
   "cell_type": "code",
   "execution_count": 43,
   "metadata": {},
   "outputs": [
    {
     "data": {
      "text/plain": [
       "DecisionTreeClassifier(max_depth=10, random_state=1)"
      ]
     },
     "execution_count": 43,
     "metadata": {},
     "output_type": "execute_result"
    }
   ],
   "source": [
    "from sklearn.tree import DecisionTreeClassifier\n",
    "dtree_w2v = DecisionTreeClassifier(max_depth=10, random_state=1)\n",
    "dtree_w2v.fit(training_data_scaled,y_train)"
   ]
  },
  {
   "cell_type": "code",
   "execution_count": 44,
   "metadata": {},
   "outputs": [
    {
     "name": "stdout",
     "output_type": "stream",
     "text": [
      "The accuracy score on train data is 0.8773875\n",
      "The accuracy score on test data is 0.80375\n"
     ]
    },
    {
     "data": {
      "image/png": "[encoded data removed]",
      "text/plain": [
       "<Figure size 432x288 with 2 Axes>"
      ]
     },
     "metadata": {
      "needs_background": "light"
     },
     "output_type": "display_data"
    },
    {
     "name": "stdout",
     "output_type": "stream",
     "text": [
      "===========================================================================\n",
      "              precision    recall  f1-score   support\n",
      "\n",
      "           0       0.81      0.79      0.80     10000\n",
      "           1       0.80      0.81      0.81     10000\n",
      "\n",
      "    accuracy                           0.80     20000\n",
      "   macro avg       0.80      0.80      0.80     20000\n",
      "weighted avg       0.80      0.80      0.80     20000\n",
      "\n"
     ]
    }
   ],
   "source": [
    "y_predict = dtree_w2v.predict(testing_data_scaled)\n",
    "\n",
    "from sklearn.metrics import accuracy_score, log_loss, classification_report, confusion_matrix, roc_auc_score, auc\n",
    "print(\"The accuracy score on train data is\",accuracy_score(y_train, dtree_w2v.predict(training_data_scaled)))\n",
    "print(\"The accuracy score on test data is\",accuracy_score(y_test, dtree_w2v.predict(testing_data_scaled)))\n",
    "\n",
    "sns.heatmap(confusion_matrix(y_test, dtree_w2v.predict(testing_data_scaled)), annot=True, fmt=\"d\", linewidths=1, linecolor=\"black\")\n",
    "plt.xlabel(\"Predicted class\")\n",
    "plt.ylabel(\"Actual class\")\n",
    "plt.title(\"Confusion matrix for Decision Tree - W2V\")\n",
    "plt.show()\n",
    "print(\"=\"*75)\n",
    "print(classification_report(y_test, dtree_w2v.predict(testing_data_scaled)))"
   ]
  },
  {
   "cell_type": "code",
   "execution_count": 45,
   "metadata": {},
   "outputs": [
    {
     "data": {
      "text/plain": [
       "GridSearchCV(cv=3, estimator=DecisionTreeClassifier(), n_jobs=-1,\n",
       "             param_grid={'max_depth': [5, 10, 15, 20, 25, 30]},\n",
       "             scoring='accuracy')"
      ]
     },
     "execution_count": 45,
     "metadata": {},
     "output_type": "execute_result"
    }
   ],
   "source": [
    "#Grid Search CV on the finding the best bepth of tree\n",
    "\n",
    "from sklearn.model_selection import GridSearchCV\n",
    "\n",
    "decision_tree = DecisionTreeClassifier()\n",
    "param_grid = {'max_depth':[5,10,15,20,25,30]}\n",
    "dtree_grid = GridSearchCV(decision_tree, param_grid=param_grid, scoring = 'accuracy', n_jobs=-1, refit=True, cv = 3)\n",
    "\n",
    "dtree_grid.fit(training_data_scaled, y_train)"
   ]
  },
  {
   "cell_type": "code",
   "execution_count": 46,
   "metadata": {},
   "outputs": [
    {
     "name": "stdout",
     "output_type": "stream",
     "text": [
      "The best param for the grid serach cv model is {'max_depth': 10}\n",
      "The best estimator is :-\n",
      " DecisionTreeClassifier(max_depth=10)\n",
      "The best score on the cv dataset is: 0.7931125154042902\n",
      "===========================================================================\n",
      "The accuracy score on the CV dataset for 3 fold crossvalidation is :\n"
     ]
    },
    {
     "data": {
      "text/html": [
       "<div>\n",
       "<style scoped>\n",
       "    .dataframe tbody tr th:only-of-type {\n",
       "        vertical-align: middle;\n",
       "    }\n",
       "\n",
       "    .dataframe tbody tr th {\n",
       "        vertical-align: top;\n",
       "    }\n",
       "\n",
       "    .dataframe thead th {\n",
       "        text-align: right;\n",
       "    }\n",
       "</style>\n",
       "<table border=\"1\" class=\"dataframe\">\n",
       "  <thead>\n",
       "    <tr style=\"text-align: right;\">\n",
       "      <th></th>\n",
       "      <th>params</th>\n",
       "      <th>mean_test_score</th>\n",
       "    </tr>\n",
       "  </thead>\n",
       "  <tbody>\n",
       "    <tr>\n",
       "      <th>0</th>\n",
       "      <td>{'max_depth': 5}</td>\n",
       "      <td>0.776500</td>\n",
       "    </tr>\n",
       "    <tr>\n",
       "      <th>1</th>\n",
       "      <td>{'max_depth': 10}</td>\n",
       "      <td>0.793113</td>\n",
       "    </tr>\n",
       "    <tr>\n",
       "      <th>2</th>\n",
       "      <td>{'max_depth': 15}</td>\n",
       "      <td>0.778675</td>\n",
       "    </tr>\n",
       "    <tr>\n",
       "      <th>3</th>\n",
       "      <td>{'max_depth': 20}</td>\n",
       "      <td>0.769750</td>\n",
       "    </tr>\n",
       "    <tr>\n",
       "      <th>4</th>\n",
       "      <td>{'max_depth': 25}</td>\n",
       "      <td>0.766725</td>\n",
       "    </tr>\n",
       "    <tr>\n",
       "      <th>5</th>\n",
       "      <td>{'max_depth': 30}</td>\n",
       "      <td>0.763450</td>\n",
       "    </tr>\n",
       "  </tbody>\n",
       "</table>\n",
       "</div>"
      ],
      "text/plain": [
       "              params  mean_test_score\n",
       "0   {'max_depth': 5}         0.776500\n",
       "1  {'max_depth': 10}         0.793113\n",
       "2  {'max_depth': 15}         0.778675\n",
       "3  {'max_depth': 20}         0.769750\n",
       "4  {'max_depth': 25}         0.766725\n",
       "5  {'max_depth': 30}         0.763450"
      ]
     },
     "metadata": {},
     "output_type": "display_data"
    }
   ],
   "source": [
    "print(\"The best param for the grid serach cv model is\",dtree_grid.best_params_)\n",
    "print(\"The best estimator is :-\\n\",dtree_grid.best_estimator_)\n",
    "print(\"The best score on the cv dataset is:\",dtree_grid.best_score_)\n",
    "print(\"=\"*75)\n",
    "print(\"The accuracy score on the CV dataset for 3 fold crossvalidation is :\")\n",
    "display((pd.DataFrame(dtree_grid.cv_results_))[['params','mean_test_score']])"
   ]
  },
  {
   "cell_type": "markdown",
   "metadata": {},
   "source": [
    "### 4. Random Forest on W2V data"
   ]
  },
  {
   "cell_type": "code",
   "execution_count": 47,
   "metadata": {},
   "outputs": [
    {
     "data": {
      "text/plain": [
       "RandomForestClassifier(n_jobs=-1, oob_score=True)"
      ]
     },
     "execution_count": 47,
     "metadata": {},
     "output_type": "execute_result"
    }
   ],
   "source": [
    "from sklearn.ensemble import RandomForestClassifier\n",
    "r_forest_w2v = RandomForestClassifier(n_estimators=100, oob_score=True, n_jobs=-1, )\n",
    "r_forest_w2v.fit(training_data_scaled, y_train)"
   ]
  },
  {
   "cell_type": "code",
   "execution_count": 48,
   "metadata": {},
   "outputs": [
    {
     "name": "stdout",
     "output_type": "stream",
     "text": [
      "The oob score is 0.86485\n"
     ]
    }
   ],
   "source": [
    "print(\"The oob score is\",r_forest_w2v.oob_score_)"
   ]
  },
  {
   "cell_type": "code",
   "execution_count": 49,
   "metadata": {},
   "outputs": [
    {
     "name": "stdout",
     "output_type": "stream",
     "text": [
      "The accuracy score on train data is 100.0\n",
      "The accuracy score on test data is 86.875\n"
     ]
    },
    {
     "data": {
      "image/png": "[encoded data removed]",
      "text/plain": [
       "<Figure size 432x288 with 2 Axes>"
      ]
     },
     "metadata": {
      "needs_background": "light"
     },
     "output_type": "display_data"
    },
    {
     "name": "stdout",
     "output_type": "stream",
     "text": [
      "===========================================================================\n",
      "              precision    recall  f1-score   support\n",
      "\n",
      "           0       0.87      0.87      0.87     10000\n",
      "           1       0.87      0.87      0.87     10000\n",
      "\n",
      "    accuracy                           0.87     20000\n",
      "   macro avg       0.87      0.87      0.87     20000\n",
      "weighted avg       0.87      0.87      0.87     20000\n",
      "\n"
     ]
    }
   ],
   "source": [
    "y_pred = r_forest_w2v.predict(testing_data_scaled)\n",
    "\n",
    "from sklearn.metrics import accuracy_score, log_loss, classification_report, confusion_matrix, roc_auc_score, auc\n",
    "print(\"The accuracy score on train data is\",accuracy_score(y_train, r_forest_w2v.predict(training_data_scaled))*100)\n",
    "print(\"The accuracy score on test data is\",accuracy_score(y_test, r_forest_w2v.predict(testing_data_scaled))*100)\n",
    "\n",
    "sns.heatmap(confusion_matrix(y_test, r_forest_w2v.predict(testing_data_scaled)), annot=True, fmt=\"d\", linewidths=1, linecolor=\"black\")\n",
    "plt.xlabel(\"Predicted class\")\n",
    "plt.ylabel(\"Actual class\")\n",
    "plt.title(\"Confusion matrix for Random Forest - W2V\")\n",
    "plt.show()\n",
    "print(\"=\"*75)\n",
    "print(classification_report(y_test, r_forest_w2v.predict(testing_data_scaled)))"
   ]
  },
  {
   "cell_type": "markdown",
   "metadata": {},
   "source": [
    "### 5. Decision Tree on Binary BOW data"
   ]
  },
  {
   "cell_type": "code",
   "execution_count": 50,
   "metadata": {},
   "outputs": [
    {
     "name": "stdout",
     "output_type": "stream",
     "text": [
      "The shape of x_train is (80000, 4522963)\n",
      "The shape of x_train is (20000, 4522963)\n",
      "\n",
      "The no of classes in x_train is\n",
      " 1    40000\n",
      "0    40000\n",
      "Name: Score, dtype: int64\n",
      "\n",
      "The no of classes in x_test is\n",
      " 1    10000\n",
      "0    10000\n",
      "Name: Score, dtype: int64\n",
      "The accuracy score for the train data is 0.785025\n",
      "The accuracy score for the test data is 0.77275\n",
      "===========================================================================\n"
     ]
    },
    {
     "data": {
      "image/png": "[encoded data removed]",
      "text/plain": [
       "<Figure size 432x288 with 1 Axes>"
      ]
     },
     "metadata": {
      "needs_background": "light"
     },
     "output_type": "display_data"
    },
    {
     "name": "stdout",
     "output_type": "stream",
     "text": [
      "===========================================================================\n",
      "              precision    recall  f1-score   support\n",
      "\n",
      "           0       0.75      0.81      0.78     10000\n",
      "           1       0.80      0.73      0.76     10000\n",
      "\n",
      "    accuracy                           0.77     20000\n",
      "   macro avg       0.77      0.77      0.77     20000\n",
      "weighted avg       0.77      0.77      0.77     20000\n",
      "\n"
     ]
    }
   ],
   "source": [
    "#1. Decision tree\n",
    "\n",
    "from sklearn.model_selection import train_test_split\n",
    "\n",
    "x_train, x_test, y_train, y_test = train_test_split(binary_bag_of_words, data_train['Score'], test_size = 0.2, random_state= 1, stratify =data_train['Score'] )\n",
    "\n",
    "print(\"The shape of x_train is\",x_train.shape)\n",
    "print(\"The shape of x_train is\",x_test.shape)\n",
    "print(\"\\nThe no of classes in x_train is\\n\",y_train.value_counts())\n",
    "print(\"\\nThe no of classes in x_test is\\n\",y_test.value_counts())\n",
    "\n",
    "\n",
    "from sklearn.tree import DecisionTreeClassifier \n",
    "d_tree_bow = DecisionTreeClassifier(max_depth=10) \n",
    "\n",
    "d_tree_bow.fit(x_train, y_train)\n",
    "\n",
    "\n",
    "#Metrics for naive bayes model - binary\n",
    "from sklearn.metrics import accuracy_score, confusion_matrix, classification_report, roc_auc_score, log_loss, roc_curve\n",
    "import seaborn as sns\n",
    "print(\"The accuracy score for the train data is\",accuracy_score(y_train, d_tree_bow.predict(x_train)))\n",
    "print(\"The accuracy score for the test data is\",accuracy_score(y_test, d_tree_bow.predict(x_test)))\n",
    "print(\"=\"*75)\n",
    "sns.heatmap(confusion_matrix(y_test, d_tree_bow.predict(x_test)), linewidths=0.5, annot=True, fmt='d', cbar=False )\n",
    "plt.xlabel(\"Predicted class\")\n",
    "plt.ylabel(\"Actual class\")\n",
    "plt.title(\"Confusion matrix for naive bayes model - Binary\")\n",
    "plt.show()\n",
    "print(\"=\"*75)\n",
    "print(classification_report(y_test, d_tree_bow.predict(x_test)))"
   ]
  },
  {
   "cell_type": "markdown",
   "metadata": {},
   "source": [
    "## Word2Vec using Glove - Glove Embeddings"
   ]
  },
  {
   "cell_type": "code",
   "execution_count": 51,
   "metadata": {},
   "outputs": [],
   "source": [
    "#https://spacy.io/models/en, #https://spacy.io/usage/vectors-similarity\n",
    "import en_core_web_sm\n",
    "nlp1 = en_core_web_sm.load()"
   ]
  },
  {
   "cell_type": "raw",
   "metadata": {},
   "source": [
    "# it wil sum all the vector of each word and then average it.\n",
    "sen_vec = [] \n",
    "for text in tqdm(data_train['processed_text']):\n",
    "    vec = nlp1(text).vector\n",
    "    sen_vec.append(vec)"
   ]
  },
  {
   "cell_type": "raw",
   "metadata": {},
   "source": [
    "data_glove = pd.concat((data_train, pd.DataFrame(sen_vec)),axis = 1)"
   ]
  },
  {
   "cell_type": "raw",
   "metadata": {},
   "source": [
    "data_glove.drop(labels=['Unnamed: 0','Id','ProductId','UserId','ProfileName','HelpfulnessNumerator',\\\n",
    "    'HelpfulnessDenominator','Time','Summary','Text', 'Comment','processed_text'], axis=1, inplace = True)"
   ]
  },
  {
   "cell_type": "raw",
   "metadata": {},
   "source": [
    "data_glove.to_csv(r\"G:\\Projects\\Amazon fine food review\\data_glove.csv\")"
   ]
  },
  {
   "cell_type": "code",
   "execution_count": 52,
   "metadata": {},
   "outputs": [
    {
     "name": "stdout",
     "output_type": "stream",
     "text": [
      "The shape of data is (100000, 391)\n"
     ]
    },
    {
     "data": {
      "text/html": [
       "<div>\n",
       "<style scoped>\n",
       "    .dataframe tbody tr th:only-of-type {\n",
       "        vertical-align: middle;\n",
       "    }\n",
       "\n",
       "    .dataframe tbody tr th {\n",
       "        vertical-align: top;\n",
       "    }\n",
       "\n",
       "    .dataframe thead th {\n",
       "        text-align: right;\n",
       "    }\n",
       "</style>\n",
       "<table border=\"1\" class=\"dataframe\">\n",
       "  <thead>\n",
       "    <tr style=\"text-align: right;\">\n",
       "      <th></th>\n",
       "      <th>Score</th>\n",
       "      <th>Summary_count</th>\n",
       "      <th>Text_count</th>\n",
       "      <th>Summary_length</th>\n",
       "      <th>Text_length</th>\n",
       "      <th>Comment_count</th>\n",
       "      <th>Comment_length</th>\n",
       "      <th>0</th>\n",
       "      <th>1</th>\n",
       "      <th>2</th>\n",
       "      <th>...</th>\n",
       "      <th>374</th>\n",
       "      <th>375</th>\n",
       "      <th>376</th>\n",
       "      <th>377</th>\n",
       "      <th>378</th>\n",
       "      <th>379</th>\n",
       "      <th>380</th>\n",
       "      <th>381</th>\n",
       "      <th>382</th>\n",
       "      <th>383</th>\n",
       "    </tr>\n",
       "  </thead>\n",
       "  <tbody>\n",
       "    <tr>\n",
       "      <th>0</th>\n",
       "      <td>1</td>\n",
       "      <td>4</td>\n",
       "      <td>48</td>\n",
       "      <td>21</td>\n",
       "      <td>263</td>\n",
       "      <td>52</td>\n",
       "      <td>285</td>\n",
       "      <td>0.223920</td>\n",
       "      <td>0.256956</td>\n",
       "      <td>-0.144550</td>\n",
       "      <td>...</td>\n",
       "      <td>0.013149</td>\n",
       "      <td>0.457953</td>\n",
       "      <td>0.131216</td>\n",
       "      <td>-0.114049</td>\n",
       "      <td>0.213200</td>\n",
       "      <td>0.028965</td>\n",
       "      <td>-0.179116</td>\n",
       "      <td>0.148462</td>\n",
       "      <td>0.362201</td>\n",
       "      <td>-0.053228</td>\n",
       "    </tr>\n",
       "    <tr>\n",
       "      <th>1</th>\n",
       "      <td>1</td>\n",
       "      <td>4</td>\n",
       "      <td>94</td>\n",
       "      <td>21</td>\n",
       "      <td>509</td>\n",
       "      <td>98</td>\n",
       "      <td>531</td>\n",
       "      <td>0.590477</td>\n",
       "      <td>0.357555</td>\n",
       "      <td>-0.161876</td>\n",
       "      <td>...</td>\n",
       "      <td>0.109922</td>\n",
       "      <td>0.463689</td>\n",
       "      <td>0.214407</td>\n",
       "      <td>-0.118931</td>\n",
       "      <td>0.210837</td>\n",
       "      <td>-0.008449</td>\n",
       "      <td>-0.118547</td>\n",
       "      <td>-0.063913</td>\n",
       "      <td>0.093863</td>\n",
       "      <td>0.147607</td>\n",
       "    </tr>\n",
       "    <tr>\n",
       "      <th>2</th>\n",
       "      <td>1</td>\n",
       "      <td>2</td>\n",
       "      <td>27</td>\n",
       "      <td>11</td>\n",
       "      <td>140</td>\n",
       "      <td>29</td>\n",
       "      <td>152</td>\n",
       "      <td>0.568659</td>\n",
       "      <td>1.004814</td>\n",
       "      <td>0.686201</td>\n",
       "      <td>...</td>\n",
       "      <td>0.295575</td>\n",
       "      <td>0.737231</td>\n",
       "      <td>0.037618</td>\n",
       "      <td>0.006109</td>\n",
       "      <td>0.130877</td>\n",
       "      <td>-0.109275</td>\n",
       "      <td>-0.351270</td>\n",
       "      <td>0.216919</td>\n",
       "      <td>-0.234948</td>\n",
       "      <td>0.101312</td>\n",
       "    </tr>\n",
       "    <tr>\n",
       "      <th>3</th>\n",
       "      <td>1</td>\n",
       "      <td>2</td>\n",
       "      <td>72</td>\n",
       "      <td>10</td>\n",
       "      <td>416</td>\n",
       "      <td>74</td>\n",
       "      <td>427</td>\n",
       "      <td>0.454110</td>\n",
       "      <td>0.618403</td>\n",
       "      <td>-0.147291</td>\n",
       "      <td>...</td>\n",
       "      <td>0.117951</td>\n",
       "      <td>0.430025</td>\n",
       "      <td>0.063170</td>\n",
       "      <td>-0.068731</td>\n",
       "      <td>0.289102</td>\n",
       "      <td>-0.049408</td>\n",
       "      <td>-0.188171</td>\n",
       "      <td>0.087250</td>\n",
       "      <td>-0.022930</td>\n",
       "      <td>0.077204</td>\n",
       "    </tr>\n",
       "    <tr>\n",
       "      <th>4</th>\n",
       "      <td>1</td>\n",
       "      <td>8</td>\n",
       "      <td>49</td>\n",
       "      <td>45</td>\n",
       "      <td>304</td>\n",
       "      <td>57</td>\n",
       "      <td>350</td>\n",
       "      <td>0.327439</td>\n",
       "      <td>0.239264</td>\n",
       "      <td>0.108918</td>\n",
       "      <td>...</td>\n",
       "      <td>0.111299</td>\n",
       "      <td>0.476485</td>\n",
       "      <td>-0.056751</td>\n",
       "      <td>0.000359</td>\n",
       "      <td>0.355433</td>\n",
       "      <td>-0.050075</td>\n",
       "      <td>-0.206280</td>\n",
       "      <td>0.075638</td>\n",
       "      <td>-0.124964</td>\n",
       "      <td>0.079414</td>\n",
       "    </tr>\n",
       "  </tbody>\n",
       "</table>\n",
       "<p>5 rows × 391 columns</p>\n",
       "</div>"
      ],
      "text/plain": [
       "   Score  Summary_count  Text_count  Summary_length  Text_length  \\\n",
       "0      1              4          48              21          263   \n",
       "1      1              4          94              21          509   \n",
       "2      1              2          27              11          140   \n",
       "3      1              2          72              10          416   \n",
       "4      1              8          49              45          304   \n",
       "\n",
       "   Comment_count  Comment_length         0         1         2  ...       374  \\\n",
       "0             52             285  0.223920  0.256956 -0.144550  ...  0.013149   \n",
       "1             98             531  0.590477  0.357555 -0.161876  ...  0.109922   \n",
       "2             29             152  0.568659  1.004814  0.686201  ...  0.295575   \n",
       "3             74             427  0.454110  0.618403 -0.147291  ...  0.117951   \n",
       "4             57             350  0.327439  0.239264  0.108918  ...  0.111299   \n",
       "\n",
       "        375       376       377       378       379       380       381  \\\n",
       "0  0.457953  0.131216 -0.114049  0.213200  0.028965 -0.179116  0.148462   \n",
       "1  0.463689  0.214407 -0.118931  0.210837 -0.008449 -0.118547 -0.063913   \n",
       "2  0.737231  0.037618  0.006109  0.130877 -0.109275 -0.351270  0.216919   \n",
       "3  0.430025  0.063170 -0.068731  0.289102 -0.049408 -0.188171  0.087250   \n",
       "4  0.476485 -0.056751  0.000359  0.355433 -0.050075 -0.206280  0.075638   \n",
       "\n",
       "        382       383  \n",
       "0  0.362201 -0.053228  \n",
       "1  0.093863  0.147607  \n",
       "2 -0.234948  0.101312  \n",
       "3 -0.022930  0.077204  \n",
       "4 -0.124964  0.079414  \n",
       "\n",
       "[5 rows x 391 columns]"
      ]
     },
     "execution_count": 52,
     "metadata": {},
     "output_type": "execute_result"
    }
   ],
   "source": [
    "data_glove = pd.read_csv(r\"G:\\Projects\\Amazon fine food review\\data_glove.csv\", index_col=[0])\n",
    "\n",
    "print(\"The shape of data is\",data_glove.shape)\n",
    "data_glove.head()"
   ]
  },
  {
   "cell_type": "code",
   "execution_count": 53,
   "metadata": {},
   "outputs": [
    {
     "name": "stdout",
     "output_type": "stream",
     "text": [
      "The shape of x_train is (80000, 390)\n",
      "The shape of y_train is (80000,)\n",
      "The shape of x_test is (20000, 390)\n",
      "The shape of y_test is (20000,)\n"
     ]
    }
   ],
   "source": [
    "from sklearn.model_selection import train_test_split\n",
    "x_train, x_test, y_train, y_test = train_test_split(data_glove.iloc[:,1:].values, data_glove[\"Score\"].values, test_size = 0.2, random_state = 1 \\\n",
    "                        , stratify=data_train['Score'])\n",
    "\n",
    "print(\"The shape of x_train is\",x_train.shape)\n",
    "print(\"The shape of y_train is\",y_train.shape)\n",
    "print(\"The shape of x_test is\",x_test.shape)\n",
    "print(\"The shape of y_test is\",y_test.shape)"
   ]
  },
  {
   "cell_type": "markdown",
   "metadata": {},
   "source": [
    "### Random model and its log Loss - computing log loss on testing data"
   ]
  },
  {
   "cell_type": "code",
   "execution_count": 54,
   "metadata": {},
   "outputs": [],
   "source": [
    "#log loss for the testing data for a random model\n",
    "log_loss_array = []\n",
    "for i in range(len(x_test)):\n",
    "    rand_num = np.random.random(2)\n",
    "    prob_0 = rand_num[0]/(rand_num[0]+rand_num[1])\n",
    "    prob_1 = rand_num[1]/(rand_num[0]+rand_num[1])\n",
    "    log_loss_array.append(np.array([prob_0, prob_1]))"
   ]
  },
  {
   "cell_type": "code",
   "execution_count": 55,
   "metadata": {},
   "outputs": [
    {
     "name": "stdout",
     "output_type": "stream",
     "text": [
      "Log Loss on test data on Random Model  0.8783033382588117\n",
      "The accuracy score on test data for random model is: 0.50285\n"
     ]
    },
    {
     "data": {
      "image/png": "[encoded data removed]",
      "text/plain": [
       "<Figure size 432x288 with 1 Axes>"
      ]
     },
     "metadata": {
      "needs_background": "light"
     },
     "output_type": "display_data"
    },
    {
     "name": "stdout",
     "output_type": "stream",
     "text": [
      "              precision    recall  f1-score   support\n",
      "\n",
      "           0       0.50      0.50      0.50     10000\n",
      "           1       0.50      0.50      0.50     10000\n",
      "\n",
      "    accuracy                           0.50     20000\n",
      "   macro avg       0.50      0.50      0.50     20000\n",
      "weighted avg       0.50      0.50      0.50     20000\n",
      "\n"
     ]
    }
   ],
   "source": [
    "print(\"Log Loss on test data on Random Model \", log_loss(y_test, np.array(log_loss_array))) #Pass prob values to log loss\n",
    "y_pred= np.argmax(np.array(log_loss_array), axis=1)\n",
    "print(\"The accuracy score on test data for random model is:\",accuracy_score(y_test, y_pred))\n",
    "sns.heatmap(confusion_matrix(y_test, y_pred), annot = True, fmt =\"d\" , linewidth= 0.5, cbar=False)\n",
    "plt.xlabel('Predicted')\n",
    "plt.ylabel('Actual')\n",
    "plt.title('Confusion Matrix')\n",
    "plt.show()\n",
    "\n",
    "print(classification_report(y_test, y_pred))"
   ]
  },
  {
   "cell_type": "markdown",
   "metadata": {},
   "source": [
    "### Data Preprocessing"
   ]
  },
  {
   "cell_type": "code",
   "execution_count": 56,
   "metadata": {},
   "outputs": [
    {
     "data": {
      "text/html": [
       "<div>\n",
       "<style scoped>\n",
       "    .dataframe tbody tr th:only-of-type {\n",
       "        vertical-align: middle;\n",
       "    }\n",
       "\n",
       "    .dataframe tbody tr th {\n",
       "        vertical-align: top;\n",
       "    }\n",
       "\n",
       "    .dataframe thead th {\n",
       "        text-align: right;\n",
       "    }\n",
       "</style>\n",
       "<table border=\"1\" class=\"dataframe\">\n",
       "  <thead>\n",
       "    <tr style=\"text-align: right;\">\n",
       "      <th></th>\n",
       "      <th>Summary_count</th>\n",
       "      <th>Text_count</th>\n",
       "      <th>Summary_length</th>\n",
       "      <th>Text_length</th>\n",
       "      <th>Comment_count</th>\n",
       "      <th>Comment_length</th>\n",
       "      <th>0</th>\n",
       "      <th>1</th>\n",
       "      <th>2</th>\n",
       "      <th>3</th>\n",
       "      <th>...</th>\n",
       "      <th>374</th>\n",
       "      <th>375</th>\n",
       "      <th>376</th>\n",
       "      <th>377</th>\n",
       "      <th>378</th>\n",
       "      <th>379</th>\n",
       "      <th>380</th>\n",
       "      <th>381</th>\n",
       "      <th>382</th>\n",
       "      <th>383</th>\n",
       "    </tr>\n",
       "  </thead>\n",
       "  <tbody>\n",
       "    <tr>\n",
       "      <th>0</th>\n",
       "      <td>-0.810523</td>\n",
       "      <td>-0.523236</td>\n",
       "      <td>-0.745542</td>\n",
       "      <td>-0.512896</td>\n",
       "      <td>-0.545531</td>\n",
       "      <td>-0.531854</td>\n",
       "      <td>1.378546</td>\n",
       "      <td>-0.498878</td>\n",
       "      <td>-2.187389</td>\n",
       "      <td>0.352395</td>\n",
       "      <td>...</td>\n",
       "      <td>-0.357029</td>\n",
       "      <td>-0.617567</td>\n",
       "      <td>-0.441529</td>\n",
       "      <td>-0.176339</td>\n",
       "      <td>-1.910427</td>\n",
       "      <td>0.370080</td>\n",
       "      <td>-1.274603</td>\n",
       "      <td>1.723819</td>\n",
       "      <td>0.843833</td>\n",
       "      <td>1.280364</td>\n",
       "    </tr>\n",
       "    <tr>\n",
       "      <th>1</th>\n",
       "      <td>-0.810523</td>\n",
       "      <td>-0.740190</td>\n",
       "      <td>-0.745542</td>\n",
       "      <td>-0.686697</td>\n",
       "      <td>-0.760420</td>\n",
       "      <td>-0.703969</td>\n",
       "      <td>1.742156</td>\n",
       "      <td>2.317841</td>\n",
       "      <td>0.939712</td>\n",
       "      <td>-0.774231</td>\n",
       "      <td>...</td>\n",
       "      <td>-0.604261</td>\n",
       "      <td>-0.034352</td>\n",
       "      <td>0.605245</td>\n",
       "      <td>-0.688873</td>\n",
       "      <td>0.551661</td>\n",
       "      <td>0.221845</td>\n",
       "      <td>-2.434630</td>\n",
       "      <td>0.978460</td>\n",
       "      <td>0.549494</td>\n",
       "      <td>0.657962</td>\n",
       "    </tr>\n",
       "    <tr>\n",
       "      <th>2</th>\n",
       "      <td>0.691976</td>\n",
       "      <td>0.114864</td>\n",
       "      <td>0.716979</td>\n",
       "      <td>0.159734</td>\n",
       "      <td>0.137057</td>\n",
       "      <td>0.181197</td>\n",
       "      <td>0.211950</td>\n",
       "      <td>-1.210947</td>\n",
       "      <td>-1.206944</td>\n",
       "      <td>0.110651</td>\n",
       "      <td>...</td>\n",
       "      <td>0.187771</td>\n",
       "      <td>-0.522707</td>\n",
       "      <td>-0.493327</td>\n",
       "      <td>1.175445</td>\n",
       "      <td>-0.086690</td>\n",
       "      <td>0.237857</td>\n",
       "      <td>-0.026431</td>\n",
       "      <td>-0.349859</td>\n",
       "      <td>0.625141</td>\n",
       "      <td>0.479543</td>\n",
       "    </tr>\n",
       "    <tr>\n",
       "      <th>3</th>\n",
       "      <td>0.316351</td>\n",
       "      <td>0.676393</td>\n",
       "      <td>0.299116</td>\n",
       "      <td>0.807535</td>\n",
       "      <td>0.680600</td>\n",
       "      <td>0.809308</td>\n",
       "      <td>-0.578017</td>\n",
       "      <td>0.124212</td>\n",
       "      <td>-0.869835</td>\n",
       "      <td>0.565744</td>\n",
       "      <td>...</td>\n",
       "      <td>-0.137642</td>\n",
       "      <td>-0.317079</td>\n",
       "      <td>0.082410</td>\n",
       "      <td>0.316572</td>\n",
       "      <td>0.823593</td>\n",
       "      <td>-0.894450</td>\n",
       "      <td>-0.278896</td>\n",
       "      <td>-0.524222</td>\n",
       "      <td>-0.797428</td>\n",
       "      <td>1.106269</td>\n",
       "    </tr>\n",
       "    <tr>\n",
       "      <th>4</th>\n",
       "      <td>0.316351</td>\n",
       "      <td>0.344581</td>\n",
       "      <td>0.368760</td>\n",
       "      <td>0.274848</td>\n",
       "      <td>0.351946</td>\n",
       "      <td>0.284020</td>\n",
       "      <td>0.756714</td>\n",
       "      <td>-0.410222</td>\n",
       "      <td>-0.144728</td>\n",
       "      <td>-0.201931</td>\n",
       "      <td>...</td>\n",
       "      <td>0.237006</td>\n",
       "      <td>-0.405259</td>\n",
       "      <td>1.124543</td>\n",
       "      <td>0.007701</td>\n",
       "      <td>-0.582704</td>\n",
       "      <td>-0.148829</td>\n",
       "      <td>1.422636</td>\n",
       "      <td>0.198684</td>\n",
       "      <td>-0.301290</td>\n",
       "      <td>0.544933</td>\n",
       "    </tr>\n",
       "  </tbody>\n",
       "</table>\n",
       "<p>5 rows × 390 columns</p>\n",
       "</div>"
      ],
      "text/plain": [
       "   Summary_count  Text_count  Summary_length  Text_length  Comment_count  \\\n",
       "0      -0.810523   -0.523236       -0.745542    -0.512896      -0.545531   \n",
       "1      -0.810523   -0.740190       -0.745542    -0.686697      -0.760420   \n",
       "2       0.691976    0.114864        0.716979     0.159734       0.137057   \n",
       "3       0.316351    0.676393        0.299116     0.807535       0.680600   \n",
       "4       0.316351    0.344581        0.368760     0.274848       0.351946   \n",
       "\n",
       "   Comment_length         0         1         2         3  ...       374  \\\n",
       "0       -0.531854  1.378546 -0.498878 -2.187389  0.352395  ... -0.357029   \n",
       "1       -0.703969  1.742156  2.317841  0.939712 -0.774231  ... -0.604261   \n",
       "2        0.181197  0.211950 -1.210947 -1.206944  0.110651  ...  0.187771   \n",
       "3        0.809308 -0.578017  0.124212 -0.869835  0.565744  ... -0.137642   \n",
       "4        0.284020  0.756714 -0.410222 -0.144728 -0.201931  ...  0.237006   \n",
       "\n",
       "        375       376       377       378       379       380       381  \\\n",
       "0 -0.617567 -0.441529 -0.176339 -1.910427  0.370080 -1.274603  1.723819   \n",
       "1 -0.034352  0.605245 -0.688873  0.551661  0.221845 -2.434630  0.978460   \n",
       "2 -0.522707 -0.493327  1.175445 -0.086690  0.237857 -0.026431 -0.349859   \n",
       "3 -0.317079  0.082410  0.316572  0.823593 -0.894450 -0.278896 -0.524222   \n",
       "4 -0.405259  1.124543  0.007701 -0.582704 -0.148829  1.422636  0.198684   \n",
       "\n",
       "        382       383  \n",
       "0  0.843833  1.280364  \n",
       "1  0.549494  0.657962  \n",
       "2  0.625141  0.479543  \n",
       "3 -0.797428  1.106269  \n",
       "4 -0.301290  0.544933  \n",
       "\n",
       "[5 rows x 390 columns]"
      ]
     },
     "execution_count": 56,
     "metadata": {},
     "output_type": "execute_result"
    }
   ],
   "source": [
    "# Standardization of data\n",
    "\n",
    "from sklearn.preprocessing import StandardScaler\n",
    "scale = StandardScaler()\n",
    "train_data_scaled_glove= pd.DataFrame(scale.fit_transform(x_train), columns=data_glove.iloc[:,1:].columns)\n",
    "\n",
    "train_data_scaled_glove.head() # this is the x_train "
   ]
  },
  {
   "cell_type": "code",
   "execution_count": 57,
   "metadata": {},
   "outputs": [
    {
     "data": {
      "text/html": [
       "<div>\n",
       "<style scoped>\n",
       "    .dataframe tbody tr th:only-of-type {\n",
       "        vertical-align: middle;\n",
       "    }\n",
       "\n",
       "    .dataframe tbody tr th {\n",
       "        vertical-align: top;\n",
       "    }\n",
       "\n",
       "    .dataframe thead th {\n",
       "        text-align: right;\n",
       "    }\n",
       "</style>\n",
       "<table border=\"1\" class=\"dataframe\">\n",
       "  <thead>\n",
       "    <tr style=\"text-align: right;\">\n",
       "      <th></th>\n",
       "      <th>Summary_count</th>\n",
       "      <th>Text_count</th>\n",
       "      <th>Summary_length</th>\n",
       "      <th>Text_length</th>\n",
       "      <th>Comment_count</th>\n",
       "      <th>Comment_length</th>\n",
       "      <th>0</th>\n",
       "      <th>1</th>\n",
       "      <th>2</th>\n",
       "      <th>3</th>\n",
       "      <th>...</th>\n",
       "      <th>374</th>\n",
       "      <th>375</th>\n",
       "      <th>376</th>\n",
       "      <th>377</th>\n",
       "      <th>378</th>\n",
       "      <th>379</th>\n",
       "      <th>380</th>\n",
       "      <th>381</th>\n",
       "      <th>382</th>\n",
       "      <th>383</th>\n",
       "    </tr>\n",
       "  </thead>\n",
       "  <tbody>\n",
       "    <tr>\n",
       "      <th>0</th>\n",
       "      <td>-0.810523</td>\n",
       "      <td>-0.650856</td>\n",
       "      <td>-0.536610</td>\n",
       "      <td>-0.609954</td>\n",
       "      <td>-0.671936</td>\n",
       "      <td>-0.621264</td>\n",
       "      <td>-0.213303</td>\n",
       "      <td>2.672526</td>\n",
       "      <td>0.096162</td>\n",
       "      <td>-1.122992</td>\n",
       "      <td>...</td>\n",
       "      <td>2.885377</td>\n",
       "      <td>0.721695</td>\n",
       "      <td>1.289491</td>\n",
       "      <td>-0.385049</td>\n",
       "      <td>2.032323</td>\n",
       "      <td>0.545406</td>\n",
       "      <td>-0.367957</td>\n",
       "      <td>-2.212567</td>\n",
       "      <td>-2.475793</td>\n",
       "      <td>1.733084</td>\n",
       "    </tr>\n",
       "    <tr>\n",
       "      <th>1</th>\n",
       "      <td>0.316351</td>\n",
       "      <td>-0.625332</td>\n",
       "      <td>0.368760</td>\n",
       "      <td>-0.591897</td>\n",
       "      <td>-0.608734</td>\n",
       "      <td>-0.574324</td>\n",
       "      <td>0.359038</td>\n",
       "      <td>-0.400116</td>\n",
       "      <td>-1.033736</td>\n",
       "      <td>0.679967</td>\n",
       "      <td>...</td>\n",
       "      <td>1.624143</td>\n",
       "      <td>-0.845594</td>\n",
       "      <td>-1.351202</td>\n",
       "      <td>-2.632898</td>\n",
       "      <td>0.081764</td>\n",
       "      <td>-0.279912</td>\n",
       "      <td>0.485945</td>\n",
       "      <td>-0.034937</td>\n",
       "      <td>0.131708</td>\n",
       "      <td>-0.252264</td>\n",
       "    </tr>\n",
       "    <tr>\n",
       "      <th>2</th>\n",
       "      <td>-0.810523</td>\n",
       "      <td>3.381938</td>\n",
       "      <td>-0.954473</td>\n",
       "      <td>3.123369</td>\n",
       "      <td>3.322471</td>\n",
       "      <td>3.062460</td>\n",
       "      <td>-0.428674</td>\n",
       "      <td>-0.727872</td>\n",
       "      <td>-0.325167</td>\n",
       "      <td>-0.236771</td>\n",
       "      <td>...</td>\n",
       "      <td>0.327068</td>\n",
       "      <td>-0.868955</td>\n",
       "      <td>-0.736607</td>\n",
       "      <td>0.318611</td>\n",
       "      <td>-0.089050</td>\n",
       "      <td>0.920472</td>\n",
       "      <td>0.523736</td>\n",
       "      <td>0.239815</td>\n",
       "      <td>-0.294834</td>\n",
       "      <td>0.725585</td>\n",
       "    </tr>\n",
       "    <tr>\n",
       "      <th>3</th>\n",
       "      <td>0.316351</td>\n",
       "      <td>0.714679</td>\n",
       "      <td>0.856267</td>\n",
       "      <td>0.638249</td>\n",
       "      <td>0.718522</td>\n",
       "      <td>0.659545</td>\n",
       "      <td>-0.183450</td>\n",
       "      <td>-0.060782</td>\n",
       "      <td>1.419178</td>\n",
       "      <td>-0.778235</td>\n",
       "      <td>...</td>\n",
       "      <td>-0.165620</td>\n",
       "      <td>-1.131539</td>\n",
       "      <td>-1.401658</td>\n",
       "      <td>0.355616</td>\n",
       "      <td>-0.347540</td>\n",
       "      <td>-0.775659</td>\n",
       "      <td>-0.154844</td>\n",
       "      <td>0.334971</td>\n",
       "      <td>-1.337682</td>\n",
       "      <td>-0.687491</td>\n",
       "    </tr>\n",
       "    <tr>\n",
       "      <th>4</th>\n",
       "      <td>-0.434898</td>\n",
       "      <td>-0.459426</td>\n",
       "      <td>-0.188391</td>\n",
       "      <td>-0.497096</td>\n",
       "      <td>-0.469688</td>\n",
       "      <td>-0.498325</td>\n",
       "      <td>1.332819</td>\n",
       "      <td>0.359344</td>\n",
       "      <td>-0.624941</td>\n",
       "      <td>-0.643572</td>\n",
       "      <td>...</td>\n",
       "      <td>1.996587</td>\n",
       "      <td>-0.177799</td>\n",
       "      <td>-1.330452</td>\n",
       "      <td>2.090884</td>\n",
       "      <td>-0.453534</td>\n",
       "      <td>-1.837081</td>\n",
       "      <td>-1.080452</td>\n",
       "      <td>0.534117</td>\n",
       "      <td>-1.628677</td>\n",
       "      <td>0.785451</td>\n",
       "    </tr>\n",
       "  </tbody>\n",
       "</table>\n",
       "<p>5 rows × 390 columns</p>\n",
       "</div>"
      ],
      "text/plain": [
       "   Summary_count  Text_count  Summary_length  Text_length  Comment_count  \\\n",
       "0      -0.810523   -0.650856       -0.536610    -0.609954      -0.671936   \n",
       "1       0.316351   -0.625332        0.368760    -0.591897      -0.608734   \n",
       "2      -0.810523    3.381938       -0.954473     3.123369       3.322471   \n",
       "3       0.316351    0.714679        0.856267     0.638249       0.718522   \n",
       "4      -0.434898   -0.459426       -0.188391    -0.497096      -0.469688   \n",
       "\n",
       "   Comment_length         0         1         2         3  ...       374  \\\n",
       "0       -0.621264 -0.213303  2.672526  0.096162 -1.122992  ...  2.885377   \n",
       "1       -0.574324  0.359038 -0.400116 -1.033736  0.679967  ...  1.624143   \n",
       "2        3.062460 -0.428674 -0.727872 -0.325167 -0.236771  ...  0.327068   \n",
       "3        0.659545 -0.183450 -0.060782  1.419178 -0.778235  ... -0.165620   \n",
       "4       -0.498325  1.332819  0.359344 -0.624941 -0.643572  ...  1.996587   \n",
       "\n",
       "        375       376       377       378       379       380       381  \\\n",
       "0  0.721695  1.289491 -0.385049  2.032323  0.545406 -0.367957 -2.212567   \n",
       "1 -0.845594 -1.351202 -2.632898  0.081764 -0.279912  0.485945 -0.034937   \n",
       "2 -0.868955 -0.736607  0.318611 -0.089050  0.920472  0.523736  0.239815   \n",
       "3 -1.131539 -1.401658  0.355616 -0.347540 -0.775659 -0.154844  0.334971   \n",
       "4 -0.177799 -1.330452  2.090884 -0.453534 -1.837081 -1.080452  0.534117   \n",
       "\n",
       "        382       383  \n",
       "0 -2.475793  1.733084  \n",
       "1  0.131708 -0.252264  \n",
       "2 -0.294834  0.725585  \n",
       "3 -1.337682 -0.687491  \n",
       "4 -1.628677  0.785451  \n",
       "\n",
       "[5 rows x 390 columns]"
      ]
     },
     "execution_count": 57,
     "metadata": {},
     "output_type": "execute_result"
    }
   ],
   "source": [
    "test_data_scaled_glove = pd.DataFrame(scale.transform(x_test), columns=data_glove.iloc[:,1:].columns)\n",
    "test_data_scaled_glove.head()"
   ]
  },
  {
   "cell_type": "markdown",
   "metadata": {},
   "source": [
    "# Modelling\n",
    "### 1. Naive Bayes on Glove data"
   ]
  },
  {
   "cell_type": "code",
   "execution_count": 58,
   "metadata": {},
   "outputs": [
    {
     "data": {
      "text/plain": [
       "GaussianNB()"
      ]
     },
     "execution_count": 58,
     "metadata": {},
     "output_type": "execute_result"
    }
   ],
   "source": [
    "from sklearn.naive_bayes import MultinomialNB\n",
    "n_bayes_glove = GaussianNB()\n",
    "n_bayes_glove.fit(train_data_scaled_glove, y_train)"
   ]
  },
  {
   "cell_type": "code",
   "execution_count": 59,
   "metadata": {},
   "outputs": [
    {
     "name": "stdout",
     "output_type": "stream",
     "text": [
      "The accuracy score on train data is 0.648775\n",
      "The accuracy score on test data is 0.64665\n"
     ]
    },
    {
     "data": {
      "image/png": "[encoded data removed]",
      "text/plain": [
       "<Figure size 432x288 with 2 Axes>"
      ]
     },
     "metadata": {
      "needs_background": "light"
     },
     "output_type": "display_data"
    },
    {
     "name": "stdout",
     "output_type": "stream",
     "text": [
      "===========================================================================\n",
      "              precision    recall  f1-score   support\n",
      "\n",
      "           0       0.64      0.65      0.65     10000\n",
      "           1       0.65      0.64      0.64     10000\n",
      "\n",
      "    accuracy                           0.65     20000\n",
      "   macro avg       0.65      0.65      0.65     20000\n",
      "weighted avg       0.65      0.65      0.65     20000\n",
      "\n"
     ]
    }
   ],
   "source": [
    "#Metrics for navie bayes model\n",
    "from sklearn.metrics import log_loss, accuracy_score, auc, roc_auc_score, f1_score, confusion_matrix, classification_report\n",
    "print(\"The accuracy score on train data is\",accuracy_score(y_train, n_bayes_glove.predict(train_data_scaled_glove)))\n",
    "print(\"The accuracy score on test data is\",accuracy_score(y_test, n_bayes_glove.predict(test_data_scaled_glove)))\n",
    "\n",
    "sns.heatmap(confusion_matrix(y_test, n_bayes_glove.predict(test_data_scaled_glove)), annot=True, fmt=\"d\", linewidths=1, linecolor=\"black\")\n",
    "plt.xlabel(\"Predicted class\")\n",
    "plt.ylabel(\"Actual class\")\n",
    "plt.title(\"Confusion matrix for Naive Bayes- Glove\")\n",
    "plt.show()\n",
    "print(\"=\"*75)\n",
    "print(classification_report(y_test, n_bayes_glove.predict(test_data_scaled_glove)))"
   ]
  },
  {
   "cell_type": "code",
   "execution_count": 60,
   "metadata": {},
   "outputs": [
    {
     "name": "stdout",
     "output_type": "stream",
     "text": [
      "the log loss for the model is: 0.6423569009748282\n"
     ]
    }
   ],
   "source": [
    "from sklearn.calibration import CalibratedClassifierCV\n",
    "n_bayes_calib = CalibratedClassifierCV(base_estimator=n_bayes_glove)\n",
    "n_bayes_calib.fit(train_data_scaled_glove, y_train)\n",
    "\n",
    "predict_y = n_bayes_calib.predict_proba(test_data_scaled_glove)\n",
    "print(\"the log loss for the model is:\",log_loss(y_test, predict_y))"
   ]
  },
  {
   "cell_type": "markdown",
   "metadata": {},
   "source": [
    "### 2. Log Reg on Glove data"
   ]
  },
  {
   "cell_type": "code",
   "execution_count": 61,
   "metadata": {},
   "outputs": [
    {
     "name": "stderr",
     "output_type": "stream",
     "text": [
      " 12%|█████▍                                     | 1/8 [03:04<21:33, 184.71s/it]"
     ]
    },
    {
     "name": "stdout",
     "output_type": "stream",
     "text": [
      "the log loss for alpha 1e-05 is: 0.4858321266466419\n"
     ]
    },
    {
     "name": "stderr",
     "output_type": "stream",
     "text": [
      "\r",
      " 25%|██████████▊                                | 2/8 [04:02<14:39, 146.61s/it]"
     ]
    },
    {
     "name": "stdout",
     "output_type": "stream",
     "text": [
      "the log loss for alpha 0.0001 is: 0.46740251122909177\n"
     ]
    },
    {
     "name": "stderr",
     "output_type": "stream",
     "text": [
      "\r",
      " 38%|████████████████▏                          | 3/8 [04:22<09:03, 108.76s/it]"
     ]
    },
    {
     "name": "stdout",
     "output_type": "stream",
     "text": [
      "the log loss for alpha 0.001 is: 0.4643954276286162\n"
     ]
    },
    {
     "name": "stderr",
     "output_type": "stream",
     "text": [
      "\r",
      " 50%|██████████████████████                      | 4/8 [04:33<05:17, 79.29s/it]"
     ]
    },
    {
     "name": "stdout",
     "output_type": "stream",
     "text": [
      "the log loss for alpha 0.01 is: 0.46963051131619477\n"
     ]
    },
    {
     "name": "stderr",
     "output_type": "stream",
     "text": [
      "\r",
      " 62%|███████████████████████████▌                | 5/8 [04:41<02:53, 57.94s/it]"
     ]
    },
    {
     "name": "stdout",
     "output_type": "stream",
     "text": [
      "the log loss for alpha 0.1 is: 0.49814842527974634\n"
     ]
    },
    {
     "name": "stderr",
     "output_type": "stream",
     "text": [
      "\r",
      " 75%|█████████████████████████████████           | 6/8 [04:49<01:25, 42.95s/it]"
     ]
    },
    {
     "name": "stdout",
     "output_type": "stream",
     "text": [
      "the log loss for alpha 1 is: 0.5565490936921078\n"
     ]
    },
    {
     "name": "stderr",
     "output_type": "stream",
     "text": [
      "\r",
      " 88%|██████████████████████████████████████▌     | 7/8 [04:56<00:32, 32.09s/it]"
     ]
    },
    {
     "name": "stdout",
     "output_type": "stream",
     "text": [
      "the log loss for alpha 10 is: 0.6107745046612352\n"
     ]
    },
    {
     "name": "stderr",
     "output_type": "stream",
     "text": [
      "100%|████████████████████████████████████████████| 8/8 [05:02<00:00, 37.87s/it]"
     ]
    },
    {
     "name": "stdout",
     "output_type": "stream",
     "text": [
      "the log loss for alpha 100 is: 0.6275341386708122\n",
      "[0.4858321266466419, 0.46740251122909177, 0.4643954276286162, 0.46963051131619477, 0.49814842527974634, 0.5565490936921078, 0.6107745046612352, 0.6275341386708122]\n"
     ]
    },
    {
     "name": "stderr",
     "output_type": "stream",
     "text": [
      "\n"
     ]
    }
   ],
   "source": [
    "from sklearn.linear_model import SGDClassifier\n",
    "\n",
    "alpha = [10**x for x in range(-5,3)]\n",
    "log_loss_error= []\n",
    "for i in tqdm(alpha):\n",
    "    logreg_glove = SGDClassifier(loss=\"log\", n_jobs=-1, random_state=1, alpha=i)\n",
    "    logreg_glove.fit(train_data_scaled_glove, y_train)\n",
    "    sig_cal_clf = CalibratedClassifierCV(logreg_glove)\n",
    "    sig_cal_clf.fit(train_data_scaled_glove, y_train)\n",
    "    predict_y = sig_cal_clf.predict_proba(test_data_scaled_glove)\n",
    "    log_loss_error.append(log_loss(y_test, predict_y))\n",
    "    print(\"the log loss for alpha\",i,\"is:\",log_loss(y_test, predict_y))\n",
    "    \n",
    "print(log_loss_error)"
   ]
  },
  {
   "cell_type": "code",
   "execution_count": 62,
   "metadata": {},
   "outputs": [
    {
     "data": {
      "image/png": "[encoded data removed]",
      "text/plain": [
       "<Figure size 432x288 with 1 Axes>"
      ]
     },
     "metadata": {
      "needs_background": "light"
     },
     "output_type": "display_data"
    }
   ],
   "source": [
    "plt.plot(alpha, log_loss_error, label='log loss')\n",
    "plt.xscale(\"log\")\n",
    "plt.xlabel(\"alpha values\")\n",
    "plt.ylabel('log loss error')\n",
    "plt.title(\"Optimum alpha value\")\n",
    "plt.legend()\n",
    "plt.show()"
   ]
  },
  {
   "cell_type": "code",
   "execution_count": 63,
   "metadata": {},
   "outputs": [
    {
     "data": {
      "text/plain": [
       "SGDClassifier(alpha=0.001, loss='log', n_jobs=-1, random_state=2)"
      ]
     },
     "execution_count": 63,
     "metadata": {},
     "output_type": "execute_result"
    }
   ],
   "source": [
    "from sklearn.linear_model import SGDClassifier\n",
    "lin_reg_glove = SGDClassifier(loss='log', alpha = 0.001, n_jobs=-1, random_state=2)\n",
    "lin_reg_glove.fit(train_data_scaled_glove, y_train)"
   ]
  },
  {
   "cell_type": "code",
   "execution_count": 64,
   "metadata": {},
   "outputs": [
    {
     "name": "stdout",
     "output_type": "stream",
     "text": [
      "The accuracy score on train data is 0.784625\n",
      "The accuracy score on test data is 0.7806\n"
     ]
    },
    {
     "data": {
      "image/png": "[encoded data removed]",
      "text/plain": [
       "<Figure size 432x288 with 2 Axes>"
      ]
     },
     "metadata": {
      "needs_background": "light"
     },
     "output_type": "display_data"
    },
    {
     "name": "stdout",
     "output_type": "stream",
     "text": [
      "===========================================================================\n",
      "              precision    recall  f1-score   support\n",
      "\n",
      "           0       0.77      0.80      0.78     10000\n",
      "           1       0.79      0.77      0.78     10000\n",
      "\n",
      "    accuracy                           0.78     20000\n",
      "   macro avg       0.78      0.78      0.78     20000\n",
      "weighted avg       0.78      0.78      0.78     20000\n",
      "\n"
     ]
    }
   ],
   "source": [
    "#Metrics for navie bayes model\n",
    "from sklearn.metrics import log_loss, accuracy_score, auc, roc_auc_score, f1_score, confusion_matrix, classification_report\n",
    "print(\"The accuracy score on train data is\",accuracy_score(y_train, lin_reg_glove.predict(train_data_scaled_glove)))\n",
    "print(\"The accuracy score on test data is\",accuracy_score(y_test, lin_reg_glove.predict(test_data_scaled_glove)))\n",
    "\n",
    "sns.heatmap(confusion_matrix(y_test, lin_reg_glove.predict(test_data_scaled_glove)), annot=True, fmt=\"d\", linewidths=1, linecolor=\"black\")\n",
    "plt.xlabel(\"Predicted class\")\n",
    "plt.ylabel(\"Actual class\")\n",
    "plt.title(\"Confusion matrix for Linear Regression- Glove\")\n",
    "plt.show()\n",
    "print(\"=\"*75)\n",
    "print(classification_report(y_test, lin_reg_glove.predict(test_data_scaled_glove)))"
   ]
  },
  {
   "cell_type": "code",
   "execution_count": 65,
   "metadata": {},
   "outputs": [
    {
     "name": "stdout",
     "output_type": "stream",
     "text": [
      "the log loss for the model is: 0.4649213131667433\n"
     ]
    }
   ],
   "source": [
    "from sklearn.calibration import CalibratedClassifierCV\n",
    "lin_reg_calib = CalibratedClassifierCV(base_estimator=lin_reg_glove)\n",
    "lin_reg_calib.fit(train_data_scaled_glove, y_train)\n",
    "\n",
    "predict_y = lin_reg_calib.predict_proba(test_data_scaled_glove)\n",
    "print(\"the log loss for the model is:\",log_loss(y_test, predict_y))"
   ]
  },
  {
   "cell_type": "markdown",
   "metadata": {},
   "source": [
    "### 3. Linear SVM on Glove Data"
   ]
  },
  {
   "cell_type": "code",
   "execution_count": 66,
   "metadata": {},
   "outputs": [
    {
     "data": {
      "text/plain": [
       "SGDClassifier(alpha=0.001, n_jobs=-1, random_state=2)"
      ]
     },
     "execution_count": 66,
     "metadata": {},
     "output_type": "execute_result"
    }
   ],
   "source": [
    "from sklearn.linear_model import SGDClassifier\n",
    "svm_glove = SGDClassifier(loss='hinge', alpha = 0.001, n_jobs=-1, random_state=2)\n",
    "svm_glove.fit(train_data_scaled_glove, y_train)"
   ]
  },
  {
   "cell_type": "code",
   "execution_count": 67,
   "metadata": {},
   "outputs": [
    {
     "name": "stdout",
     "output_type": "stream",
     "text": [
      "The accuracy score on train data is 0.778725\n",
      "The accuracy score on test data is 0.77725\n"
     ]
    },
    {
     "data": {
      "image/png": "[encoded data removed]",
      "text/plain": [
       "<Figure size 432x288 with 2 Axes>"
      ]
     },
     "metadata": {
      "needs_background": "light"
     },
     "output_type": "display_data"
    },
    {
     "name": "stdout",
     "output_type": "stream",
     "text": [
      "===========================================================================\n",
      "              precision    recall  f1-score   support\n",
      "\n",
      "           0       0.78      0.78      0.78     10000\n",
      "           1       0.78      0.78      0.78     10000\n",
      "\n",
      "    accuracy                           0.78     20000\n",
      "   macro avg       0.78      0.78      0.78     20000\n",
      "weighted avg       0.78      0.78      0.78     20000\n",
      "\n"
     ]
    }
   ],
   "source": [
    "#Metrics for Log Reg model\n",
    "from sklearn.metrics import log_loss, accuracy_score, auc, roc_auc_score, f1_score, confusion_matrix, classification_report\n",
    "print(\"The accuracy score on train data is\",accuracy_score(y_train, svm_glove.predict(train_data_scaled_glove)))\n",
    "print(\"The accuracy score on test data is\",accuracy_score(y_test, svm_glove.predict(test_data_scaled_glove)))\n",
    "\n",
    "sns.heatmap(confusion_matrix(y_test, svm_glove.predict(test_data_scaled_glove)), annot=True, fmt=\"d\", linewidths=1, linecolor=\"black\")\n",
    "plt.xlabel(\"Predicted class\")\n",
    "plt.ylabel(\"Actual class\")\n",
    "plt.title(\"Confusion matrix for SWM- Glove\")\n",
    "plt.show()\n",
    "print(\"=\"*75)\n",
    "print(classification_report(y_test, svm_glove.predict(test_data_scaled_glove)))"
   ]
  },
  {
   "cell_type": "code",
   "execution_count": 68,
   "metadata": {},
   "outputs": [
    {
     "name": "stdout",
     "output_type": "stream",
     "text": [
      "the log loss for the model is: 0.46437437608659304\n"
     ]
    }
   ],
   "source": [
    "from sklearn.calibration import CalibratedClassifierCV\n",
    "svm_calib = CalibratedClassifierCV(base_estimator=svm_glove)\n",
    "svm_calib.fit(train_data_scaled_glove, y_train)\n",
    "\n",
    "predict_y = svm_calib.predict_proba(test_data_scaled_glove)\n",
    "print(\"the log loss for the model is:\",log_loss(y_test, predict_y))"
   ]
  },
  {
   "cell_type": "markdown",
   "metadata": {},
   "source": [
    "### 4. Decision Tree on Glove dataset"
   ]
  },
  {
   "cell_type": "code",
   "execution_count": 69,
   "metadata": {},
   "outputs": [
    {
     "name": "stdout",
     "output_type": "stream",
     "text": [
      "The accuracy score on train data is 0.9237875\n",
      "The accuracy score on test data is 0.59505\n"
     ]
    },
    {
     "data": {
      "image/png": "[encoded data removed]",
      "text/plain": [
       "<Figure size 432x288 with 2 Axes>"
      ]
     },
     "metadata": {
      "needs_background": "light"
     },
     "output_type": "display_data"
    },
    {
     "name": "stdout",
     "output_type": "stream",
     "text": [
      "===========================================================================\n",
      "              precision    recall  f1-score   support\n",
      "\n",
      "           0       0.60      0.59      0.59     10000\n",
      "           1       0.59      0.60      0.60     10000\n",
      "\n",
      "    accuracy                           0.60     20000\n",
      "   macro avg       0.60      0.60      0.60     20000\n",
      "weighted avg       0.60      0.60      0.60     20000\n",
      "\n"
     ]
    }
   ],
   "source": [
    "from sklearn.tree import DecisionTreeClassifier\n",
    "dtree_glove = DecisionTreeClassifier(max_depth=15)\n",
    "dtree_glove.fit(train_data_scaled_glove, y_train)\n",
    "\n",
    "#Metrics for  model\n",
    "from sklearn.metrics import log_loss, accuracy_score, auc, roc_auc_score, f1_score, confusion_matrix, classification_report\n",
    "print(\"The accuracy score on train data is\",accuracy_score(y_train, dtree_glove.predict(train_data_scaled_glove)))\n",
    "print(\"The accuracy score on test data is\",accuracy_score(y_test, dtree_glove.predict(test_data_scaled_glove)))\n",
    "\n",
    "sns.heatmap(confusion_matrix(y_test, dtree_glove.predict(test_data_scaled_glove)), annot=True, fmt=\"d\", linewidths=1, linecolor=\"black\")\n",
    "plt.xlabel(\"Predicted class\")\n",
    "plt.ylabel(\"Actual class\")\n",
    "plt.title(\"Confusion matrix for Decision Tree - Glove\")\n",
    "plt.show()\n",
    "print(\"=\"*75)\n",
    "print(classification_report(y_test, dtree_glove.predict(test_data_scaled_glove)))"
   ]
  },
  {
   "cell_type": "code",
   "execution_count": 70,
   "metadata": {},
   "outputs": [
    {
     "name": "stdout",
     "output_type": "stream",
     "text": [
      "the log loss for the model is: 0.6619101276852116\n"
     ]
    }
   ],
   "source": [
    "from sklearn.calibration import CalibratedClassifierCV\n",
    "dtree_calib = CalibratedClassifierCV(base_estimator=dtree_glove)\n",
    "dtree_calib.fit(train_data_scaled_glove, y_train)\n",
    "\n",
    "predict_y = dtree_calib.predict_proba(test_data_scaled_glove)\n",
    "print(\"the log loss for the model is:\",log_loss(y_test, predict_y))"
   ]
  },
  {
   "cell_type": "markdown",
   "metadata": {},
   "source": [
    "### 5.  Random Forest on Glove data"
   ]
  },
  {
   "cell_type": "code",
   "execution_count": 71,
   "metadata": {},
   "outputs": [
    {
     "name": "stdout",
     "output_type": "stream",
     "text": [
      "The accuracy score on train data is 1.0\n",
      "The accuracy score on test data is 0.70465\n"
     ]
    },
    {
     "data": {
      "image/png": "[encoded data removed]",
      "text/plain": [
       "<Figure size 432x288 with 2 Axes>"
      ]
     },
     "metadata": {
      "needs_background": "light"
     },
     "output_type": "display_data"
    },
    {
     "name": "stdout",
     "output_type": "stream",
     "text": [
      "===========================================================================\n",
      "              precision    recall  f1-score   support\n",
      "\n",
      "           0       0.70      0.72      0.71     10000\n",
      "           1       0.71      0.69      0.70     10000\n",
      "\n",
      "    accuracy                           0.70     20000\n",
      "   macro avg       0.70      0.70      0.70     20000\n",
      "weighted avg       0.70      0.70      0.70     20000\n",
      "\n"
     ]
    }
   ],
   "source": [
    "from sklearn.ensemble import RandomForestClassifier\n",
    "rf_glove = RandomForestClassifier(n_estimators=100, oob_score=True)\n",
    "rf_glove.fit(train_data_scaled_glove, y_train)\n",
    "\n",
    "#Metrics for  model\n",
    "from sklearn.metrics import log_loss, accuracy_score, auc, roc_auc_score, f1_score, confusion_matrix, classification_report\n",
    "print(\"The accuracy score on train data is\",accuracy_score(y_train, rf_glove.predict(train_data_scaled_glove)))\n",
    "print(\"The accuracy score on test data is\",accuracy_score(y_test, rf_glove.predict(test_data_scaled_glove)))\n",
    "\n",
    "sns.heatmap(confusion_matrix(y_test, rf_glove.predict(test_data_scaled_glove)), annot=True, fmt=\"d\", linewidths=1, linecolor=\"black\")\n",
    "plt.xlabel(\"Predicted class\")\n",
    "plt.ylabel(\"Actual class\")\n",
    "plt.title(\"Confusion matrix for Random Forest - Glove\")\n",
    "plt.show()\n",
    "print(\"=\"*75)\n",
    "print(classification_report(y_test, rf_glove.predict(test_data_scaled_glove)))"
   ]
  },
  {
   "cell_type": "code",
   "execution_count": 72,
   "metadata": {},
   "outputs": [
    {
     "name": "stdout",
     "output_type": "stream",
     "text": [
      "the log loss for the model is: 0.5544389626170448\n"
     ]
    }
   ],
   "source": [
    "from sklearn.calibration import CalibratedClassifierCV\n",
    "rf_calib = CalibratedClassifierCV(base_estimator=rf_glove)\n",
    "rf_calib.fit(train_data_scaled_glove, y_train)\n",
    "\n",
    "predict_y = rf_calib.predict_proba(test_data_scaled_glove)\n",
    "print(\"the log loss for the model is:\",log_loss(y_test, predict_y))"
   ]
  },
  {
   "cell_type": "code",
   "execution_count": 75,
   "metadata": {},
   "outputs": [],
   "source": [
    "import xgboost\n",
    "from xgboost import XGBClassifier\n",
    "from sklearn.ensemble import GradientBoostingClassifier"
   ]
  },
  {
   "cell_type": "code",
   "execution_count": 76,
   "metadata": {},
   "outputs": [
    {
     "data": {
      "text/plain": [
       "XGBClassifier()"
      ]
     },
     "execution_count": 76,
     "metadata": {},
     "output_type": "execute_result"
    }
   ],
   "source": [
    "xgb = XGBClassifier()\n",
    "xgb.fit(train_data_scaled_glove, y_train)"
   ]
  },
  {
   "cell_type": "code",
   "execution_count": 77,
   "metadata": {},
   "outputs": [
    {
     "name": "stdout",
     "output_type": "stream",
     "text": [
      "The accuracy score on train data is 0.7365\n",
      "The accuracy score on test data is 0.71345\n"
     ]
    },
    {
     "data": {
      "image/png": "[encoded data removed]",
      "text/plain": [
       "<Figure size 432x288 with 2 Axes>"
      ]
     },
     "metadata": {
      "needs_background": "light"
     },
     "output_type": "display_data"
    },
    {
     "name": "stdout",
     "output_type": "stream",
     "text": [
      "===========================================================================\n",
      "              precision    recall  f1-score   support\n",
      "\n",
      "           0       0.71      0.73      0.72     10000\n",
      "           1       0.72      0.70      0.71     10000\n",
      "\n",
      "    accuracy                           0.71     20000\n",
      "   macro avg       0.71      0.71      0.71     20000\n",
      "weighted avg       0.71      0.71      0.71     20000\n",
      "\n"
     ]
    }
   ],
   "source": [
    "#Metrics for  model\n",
    "from sklearn.metrics import log_loss, accuracy_score, auc, roc_auc_score, f1_score, confusion_matrix, classification_report\n",
    "print(\"The accuracy score on train data is\",accuracy_score(y_train, xgb.predict(train_data_scaled_glove)))\n",
    "print(\"The accuracy score on test data is\",accuracy_score(y_test, xgb.predict(test_data_scaled_glove)))\n",
    "\n",
    "sns.heatmap(confusion_matrix(y_test, xgb.predict(test_data_scaled_glove)), annot=True, fmt=\"d\", linewidths=1, linecolor=\"black\")\n",
    "plt.xlabel(\"Predicted class\")\n",
    "plt.ylabel(\"Actual class\")\n",
    "plt.title(\"Confusion matrix for XGBOOST - Glove\")\n",
    "plt.show()\n",
    "print(\"=\"*75)\n",
    "print(classification_report(y_test, xgb.predict(test_data_scaled_glove)))"
   ]
  },
  {
   "cell_type": "raw",
   "metadata": {},
   "source": [
    "from sklearn.ensemble import AdaBoostClassifier\n",
    "adaboost = AdaBoostClassifier(n_estimators=100)\n",
    "adaboost.fit(train_data_scaled_glove, y_train)"
   ]
  },
  {
   "cell_type": "code",
   "execution_count": null,
   "metadata": {},
   "outputs": [],
   "source": [
    "#Metrics for  model\n",
    "from sklearn.metrics import log_loss, accuracy_score, auc, roc_auc_score, f1_score, confusion_matrix, classification_report\n",
    "print(\"The accuracy score on train data is\",accuracy_score(y_train, adaboost.predict(train_data_scaled_glove)))\n",
    "print(\"The accuracy score on test data is\",accuracy_score(y_test, adaboost.predict(test_data_scaled_glove)))\n",
    "\n",
    "sns.heatmap(confusion_matrix(y_test, adaboost.predict(test_data_scaled_glove)), annot=True, fmt=\"d\", linewidths=1, linecolor=\"black\")\n",
    "plt.xlabel(\"Predicted class\")\n",
    "plt.ylabel(\"Actual class\")\n",
    "plt.title(\"Confusion matrix for Adaboost - Glove\")\n",
    "plt.show()\n",
    "print(\"=\"*75)\n",
    "print(classification_report(y_test, adaboost.predict(test_data_scaled_glove)))"
   ]
  }
 ],
 "metadata": {
  "kernelspec": {
   "display_name": "Python 3",
   "language": "python",
   "name": "python3"
  },
  "language_info": {
   "codemirror_mode": {
    "name": "ipython",
    "version": 3
   },
   "file_extension": ".py",
   "mimetype": "text/x-python",
   "name": "python",
   "nbconvert_exporter": "python",
   "pygments_lexer": "ipython3",
   "version": "3.6.4"
  }
 },
 "nbformat": 4,
 "nbformat_minor": 2
}
